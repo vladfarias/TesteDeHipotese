{
  "nbformat": 4,
  "nbformat_minor": 0,
  "metadata": {
    "colab": {
      "provenance": [],
      "authorship_tag": "ABX9TyNCZ0g5mG/xcyvTRqx7J1w6",
      "include_colab_link": true
    },
    "kernelspec": {
      "name": "python3",
      "display_name": "Python 3"
    },
    "language_info": {
      "name": "python"
    }
  },
  "cells": [
    {
      "cell_type": "markdown",
      "metadata": {
        "id": "view-in-github",
        "colab_type": "text"
      },
      "source": [
        "<a href=\"https://colab.research.google.com/github/vladfarias/TesteDeHipotese/blob/main/TesteHipoteses.ipynb\" target=\"_parent\"><img src=\"https://colab.research.google.com/assets/colab-badge.svg\" alt=\"Open In Colab\"/></a>"
      ]
    },
    {
      "cell_type": "markdown",
      "source": [
        "**TESTE DE HIPOTESE UNILATERAL A DIREITA COM DESVIO CONHECIDO**"
      ],
      "metadata": {
        "id": "U9ASCEh662KI"
      }
    },
    {
      "cell_type": "markdown",
      "source": [
        "Inspeção  do peso médio de um lote com 10000 ovos. Desvio padrão da população é 2.2 gramas. Decidi-se compar o lote caso o peso médio seja maior que 10 gramas.\n",
        "\n",
        "Uma amostra de 50 ovos inpsecionada e o peso médio é de 11,2 gramas. Há evidência para aceitar o lote considerando o nivel de significancia de 5% ?"
      ],
      "metadata": {
        "id": "-Cv_MclIoyCg"
      }
    },
    {
      "cell_type": "markdown",
      "source": [
        "Xm = 11,2 e desvio padrão da população é 2,2\n",
        "\n",
        "Hipótese Nula (H0): O peso médio do lote é igual a 10 gramas.\n",
        "Hipótese Alternativa (H1): O peso médio do lote é maior que 10 gramas\n",
        "\n"
      ],
      "metadata": {
        "id": "ka2qRicKqGzp"
      }
    },
    {
      "cell_type": "code",
      "execution_count": null,
      "metadata": {
        "id": "NmbnLeA_otdU"
      },
      "outputs": [],
      "source": [
        "import scipy.stats as stats"
      ]
    },
    {
      "cell_type": "code",
      "source": [
        "mu = 10  # Peso médio esperado\n",
        "x_bar = 11.2  # Média da amostra\n",
        "sigma = 2.2  # Desvio padrão da população\n",
        "n = 50  # Tamanho da amostra\n",
        "alpha = 0.05  # Nível de significância"
      ],
      "metadata": {
        "id": "E1Z2y7qnr-bE"
      },
      "execution_count": null,
      "outputs": []
    },
    {
      "cell_type": "markdown",
      "source": [
        "stats.norm.ppf() e stats.norm.cdf() são funções da biblioteca scipy.stats que estão relacionadas à distribuição normal (ou distribuição normal padrão). Essas funções são usadas para calcular valores críticos e probabilidades cumulativas da distribuição normal."
      ],
      "metadata": {
        "id": "GnrChmLntr0c"
      }
    },
    {
      "cell_type": "markdown",
      "source": [
        "**stats.norm.ppf(q, loc=0, scale=1):**\n",
        "\"Qual é o valor abaixo do qual uma certa porcentagem dos dados está?\"\n",
        "\n",
        "A função ppf() (Percent Point Function) calcula o quantil (valor crítico) associado a um determinado quantil q da distribuição normal.\n",
        "O parâmetro q é a probabilidade cumulativa que você deseja calcular o quantil para.\n",
        "loc é o parâmetro de média da distribuição (padrão é 0).\n",
        "scale é o parâmetro de desvio padrão da distribuição (padrão é 1)\n",
        "\n",
        "Para q entre 0 e 1, o resultado é o valor abaixo do qual a porcentagem q dos dados está. Por exemplo, stats.norm.ppf(0.25) retornaria o primeiro quartil (25º percentil)."
      ],
      "metadata": {
        "id": "SdypJ7lsufnC"
      }
    },
    {
      "cell_type": "markdown",
      "source": [
        "stats.norm.ppf() calcula o valor crítico associado a uma probabilidade cumulativa (quantil).\n",
        "stats.norm.cdf() calcula a probabilidade cumulativa de que um valor seja menor ou igual a um determinado po"
      ],
      "metadata": {
        "id": "ReiPvcq8uwin"
      }
    },
    {
      "cell_type": "code",
      "source": [
        "# 1 Calculo do z critico (pois o desvio da população é conhecido)\n",
        "z_critico = stats.norm.ppf(1 - alpha)\n",
        "z_critico"
      ],
      "metadata": {
        "colab": {
          "base_uri": "https://localhost:8080/"
        },
        "id": "DRxUNpN4sJuw",
        "outputId": "66422a43-e957-4c0d-d2c0-1c2bc6d88ed7"
      },
      "execution_count": null,
      "outputs": [
        {
          "output_type": "execute_result",
          "data": {
            "text/plain": [
              "1.6448536269514722"
            ]
          },
          "metadata": {},
          "execution_count": 33
        }
      ]
    },
    {
      "cell_type": "code",
      "source": [
        "# Calculo do estrela\n",
        "z_estrela = (x_bar - mu) / (sigma / (n ** 0.5))"
      ],
      "metadata": {
        "id": "CaNpkXAlveP_"
      },
      "execution_count": null,
      "outputs": []
    },
    {
      "cell_type": "markdown",
      "source": [
        "A função **stats.norm.cdf()** é usada para calcular a probabilidade cumulativa de que um valor aleatório de uma distribuição normal (ou distribuição normal padrão) seja menor ou igual a um determinado valor. Em outras palavras, ela ajuda a responder à pergunta: \"Qual é a probabilidade de um valor estar abaixo de um certo ponto?\"\n",
        "\n",
        "x (é o z): É o valor para o qual você deseja calcular a probabilidade cumulativa.\n",
        "loc: É o parâmetro de média da distribuição normal (padrão é 0).\n",
        "scale: É o parâmetro de desvio padrão da distribuição normal (padrão é 1)."
      ],
      "metadata": {
        "id": "6GhKQZ2Tw-Co"
      }
    },
    {
      "cell_type": "markdown",
      "source": [
        "stats.norm.cdf() é usada para calcular a probabilidade cumulativa de um valor estar abaixo ou igual a um ponto específico na distribuição normal. Isso é útil para calcular a área sob a curva de uma distribuição normal, definir intervalos de confiança, calcular valores p em testes de hipóteses e muito mais. Para obter o valor P é passado como argumento o z_estrela, se for passado o z critico sera retornado 1-alpha."
      ],
      "metadata": {
        "id": "mwYZA4yt2E0x"
      }
    },
    {
      "cell_type": "markdown",
      "source": [],
      "metadata": {
        "id": "VFUjosMh2USp"
      }
    },
    {
      "cell_type": "code",
      "source": [],
      "metadata": {
        "id": "CLXncsBN2T8o"
      },
      "execution_count": null,
      "outputs": []
    },
    {
      "cell_type": "code",
      "source": [
        "# Rejeita a hipotese\n",
        "H0 = 'Aceita H0: Peso médio dos ovos é 10' if z_critico > z_estrela else 'Rejeita H0: Peso médio dos ovos é maior que 10'\n",
        "H0"
      ],
      "metadata": {
        "colab": {
          "base_uri": "https://localhost:8080/",
          "height": 36
        },
        "id": "RmlzEuyav2Zz",
        "outputId": "dcd6a38c-9b7e-4e5b-b21d-ca0d7050996e"
      },
      "execution_count": null,
      "outputs": [
        {
          "output_type": "execute_result",
          "data": {
            "text/plain": [
              "'Rejeita H0: Peso médio dos ovos é maior que 10'"
            ],
            "application/vnd.google.colaboratory.intrinsic+json": {
              "type": "string"
            }
          },
          "metadata": {},
          "execution_count": 35
        }
      ]
    },
    {
      "cell_type": "markdown",
      "source": [
        "**Resolvendo a mesma questão acima usando o P values**"
      ],
      "metadata": {
        "id": "ANIbaeXr2l1m"
      }
    },
    {
      "cell_type": "code",
      "source": [
        "mu = 10  # Peso médio esperado\n",
        "x_bar = 11.2  # Média da amostra\n",
        "sigma = 2.2  # Desvio padrão da população\n",
        "n = 50  # Tamanho da amostra\n",
        "alpha = 0.05  # Nível de significânc"
      ],
      "metadata": {
        "id": "5U4yv-lg2r3Q"
      },
      "execution_count": null,
      "outputs": []
    },
    {
      "cell_type": "code",
      "source": [
        "# Calculo do z_estrela\n",
        "z_estrela = (x_bar - mu) / (sigma / (n ** 0.5))\n",
        "z_estrela"
      ],
      "metadata": {
        "colab": {
          "base_uri": "https://localhost:8080/"
        },
        "id": "15neUPb62unm",
        "outputId": "965f0986-bbbc-4286-94e6-b55c032befca"
      },
      "execution_count": null,
      "outputs": [
        {
          "output_type": "execute_result",
          "data": {
            "text/plain": [
              "3.8569460791993477"
            ]
          },
          "metadata": {},
          "execution_count": 37
        }
      ]
    },
    {
      "cell_type": "code",
      "source": [
        "# Calcula o valor p (unilateral à direita)\n",
        "p_value = 1- stats.norm.cdf(z_estrela)\n",
        "p_value"
      ],
      "metadata": {
        "colab": {
          "base_uri": "https://localhost:8080/"
        },
        "id": "CPfCzddD3EjB",
        "outputId": "af6511e6-183a-4f0d-8399-8a41326be938"
      },
      "execution_count": null,
      "outputs": [
        {
          "output_type": "execute_result",
          "data": {
            "text/plain": [
              "5.7406238207491356e-05"
            ]
          },
          "metadata": {},
          "execution_count": 38
        }
      ]
    },
    {
      "cell_type": "code",
      "source": [
        "# Rejeitamos a hipotese nula ?\n",
        "H0 = 'Aceitamos H0' if p_value > alpha else 'Rejeitamos H0'\n",
        "H0\n"
      ],
      "metadata": {
        "colab": {
          "base_uri": "https://localhost:8080/",
          "height": 36
        },
        "id": "5c61FMn93TY_",
        "outputId": "a8ee3bd8-7dfd-43e6-cc4c-d12b40f247c4"
      },
      "execution_count": null,
      "outputs": [
        {
          "output_type": "execute_result",
          "data": {
            "text/plain": [
              "'Rejeitamos H0'"
            ],
            "application/vnd.google.colaboratory.intrinsic+json": {
              "type": "string"
            }
          },
          "metadata": {},
          "execution_count": 39
        }
      ]
    },
    {
      "cell_type": "markdown",
      "source": [
        "**TESTE DE HIPOTESE UNILATERAL A ESQUERDA COM DESVIO CONHECIDO**"
      ],
      "metadata": {
        "id": "SEiH9uTz69Je"
      }
    },
    {
      "cell_type": "markdown",
      "source": [
        "Em um produção de garrafas de agua se afirma que as garrafas possuem v = 300 ml com desvio de 5,6 mL. Clientes reclamaram que as garrafas possuem um volume menor que o informado. Retiraram 20 amostras e o volume medido foi como informado:"
      ],
      "metadata": {
        "id": "4PLa7-jH7YVn"
      }
    },
    {
      "cell_type": "markdown",
      "source": [
        "Hipótese Nula (H0): Volume é igual a 300 mL.\n",
        "\n",
        "Hipótese Alternativa (H1): Volume menor que 300 mL"
      ],
      "metadata": {
        "id": "lQEB_lG3E0rJ"
      }
    },
    {
      "cell_type": "code",
      "source": [
        "import scipy.stats as stats\n",
        "import pandas as pd\n"
      ],
      "metadata": {
        "id": "GtE96LmA7Pl-"
      },
      "execution_count": null,
      "outputs": []
    },
    {
      "cell_type": "code",
      "source": [
        "volumes = [294, 287, 292, 300, 301, 286, 286, 288, 304, 301, 296, 299, 288, 303, 302, 290, 288, 300, 292, 300]\n",
        "mu = 300\n",
        "sigma = 5.6\n",
        "alpha_vol = 0.1\n",
        "n = len(volumes)\n",
        "n"
      ],
      "metadata": {
        "colab": {
          "base_uri": "https://localhost:8080/"
        },
        "id": "2Iv32TK29F7e",
        "outputId": "3f5d54ef-7395-4420-a7bd-89b20cf92281"
      },
      "execution_count": null,
      "outputs": [
        {
          "output_type": "execute_result",
          "data": {
            "text/plain": [
              "20"
            ]
          },
          "metadata": {},
          "execution_count": 41
        }
      ]
    },
    {
      "cell_type": "code",
      "source": [
        "# Média\n",
        "x_bar = sum(volumes) / n\n",
        "x_bar"
      ],
      "metadata": {
        "colab": {
          "base_uri": "https://localhost:8080/"
        },
        "id": "WKyDeSkJ968N",
        "outputId": "80c1fae7-907f-4ec6-d950-a0ee4be03420"
      },
      "execution_count": null,
      "outputs": [
        {
          "output_type": "execute_result",
          "data": {
            "text/plain": [
              "294.85"
            ]
          },
          "metadata": {},
          "execution_count": 42
        }
      ]
    },
    {
      "cell_type": "code",
      "source": [
        "z_estrela_vol = (x_bar - mu) / (sigma / (n ** 0.5))\n",
        "z_estrela_vol"
      ],
      "metadata": {
        "colab": {
          "base_uri": "https://localhost:8080/"
        },
        "id": "Oxennt8h-VB2",
        "outputId": "594db1f1-a19e-4af9-8215-55dd9088861a"
      },
      "execution_count": null,
      "outputs": [
        {
          "output_type": "execute_result",
          "data": {
            "text/plain": [
              "-4.112767887187096"
            ]
          },
          "metadata": {},
          "execution_count": 43
        }
      ]
    },
    {
      "cell_type": "markdown",
      "source": [
        "Método do Zcritico"
      ],
      "metadata": {
        "id": "v7ij91mL_7aY"
      }
    },
    {
      "cell_type": "code",
      "source": [
        "zc = stats.norm.ppf(alpha_vol)\n",
        "zc"
      ],
      "metadata": {
        "colab": {
          "base_uri": "https://localhost:8080/"
        },
        "id": "_ZC1vwGb_5FY",
        "outputId": "26fb02b0-df4c-4b13-d7bb-e9970c38bbef"
      },
      "execution_count": null,
      "outputs": [
        {
          "output_type": "execute_result",
          "data": {
            "text/plain": [
              "-1.2815515655446004"
            ]
          },
          "metadata": {},
          "execution_count": 44
        }
      ]
    },
    {
      "cell_type": "code",
      "source": [
        "h0 = 'Aceitamos h0' if z_estrela_vol > zc  else 'Rejeitamos h0'\n",
        "h0"
      ],
      "metadata": {
        "colab": {
          "base_uri": "https://localhost:8080/",
          "height": 36
        },
        "id": "my_W-462DUcI",
        "outputId": "d29f932f-04e7-4343-d1bc-cc3748b090fb"
      },
      "execution_count": null,
      "outputs": [
        {
          "output_type": "execute_result",
          "data": {
            "text/plain": [
              "'Rejeitamos h0'"
            ],
            "application/vnd.google.colaboratory.intrinsic+json": {
              "type": "string"
            }
          },
          "metadata": {},
          "execution_count": 45
        }
      ]
    },
    {
      "cell_type": "markdown",
      "source": [
        "Método do valor P"
      ],
      "metadata": {
        "id": "ERYAcfYIE_Zm"
      }
    },
    {
      "cell_type": "code",
      "source": [
        "# Calculo do P value\n",
        "p_value_vol = stats.norm.cdf(alpha_vol)\n",
        "p_value"
      ],
      "metadata": {
        "colab": {
          "base_uri": "https://localhost:8080/"
        },
        "id": "T4Y3SnSJFCBW",
        "outputId": "cc24e6cd-d47e-41b6-8f6b-9003bb5d5e73"
      },
      "execution_count": null,
      "outputs": [
        {
          "output_type": "execute_result",
          "data": {
            "text/plain": [
              "5.7406238207491356e-05"
            ]
          },
          "metadata": {},
          "execution_count": 46
        }
      ]
    },
    {
      "cell_type": "code",
      "source": [
        "# Rejeitamos H0 ?\n",
        "h0 = 'Aceitamos h0' if p_value > alpha_vol else 'Rejeitamos h0'\n",
        "h0"
      ],
      "metadata": {
        "colab": {
          "base_uri": "https://localhost:8080/",
          "height": 36
        },
        "id": "Yv80vhjFG2jH",
        "outputId": "534c9b09-dbb0-4b9f-af48-42a32a00e8e2"
      },
      "execution_count": null,
      "outputs": [
        {
          "output_type": "execute_result",
          "data": {
            "text/plain": [
              "'Rejeitamos h0'"
            ],
            "application/vnd.google.colaboratory.intrinsic+json": {
              "type": "string"
            }
          },
          "metadata": {},
          "execution_count": 47
        }
      ]
    },
    {
      "cell_type": "markdown",
      "source": [
        "**TESTE DE HIPOTESE BILATERAL COM DESVIO CONHECIDO**"
      ],
      "metadata": {
        "id": "XbPScSekIdIX"
      }
    },
    {
      "cell_type": "markdown",
      "source": [
        "Preço médio de apartamentos na região central da cidade em 2017 foi 242000.00 com desvio de 25000.00. Em 2018 uma amostra de 150 apartamentos e encontrou o preço médio de 240000.00. Com um nivel de significancia de 1% determine se houve mudança no preço ou não."
      ],
      "metadata": {
        "id": "ZqsCWZUDIkoW"
      }
    },
    {
      "cell_type": "code",
      "source": [
        "# Dados\n",
        "x_bar_preco = 240000.00\n",
        "mi = 242000.00\n",
        "sigma =  25000\n",
        "alpha_preco = 0.01\n",
        "n = 150"
      ],
      "metadata": {
        "id": "THLARl_uIiE3"
      },
      "execution_count": null,
      "outputs": []
    },
    {
      "cell_type": "code",
      "source": [
        "# Calculo do z_estrela\n",
        "z_estrela_preco = (x_bar_preco - mi)/(sigma/(n**0.5))\n",
        "z_estrela_preco"
      ],
      "metadata": {
        "colab": {
          "base_uri": "https://localhost:8080/"
        },
        "id": "l0qxMll0KOII",
        "outputId": "619b5d2f-50e3-4801-833c-03a633158732"
      },
      "execution_count": null,
      "outputs": [
        {
          "output_type": "execute_result",
          "data": {
            "text/plain": [
              "-0.9797958971132712"
            ]
          },
          "metadata": {},
          "execution_count": 49
        }
      ]
    },
    {
      "cell_type": "code",
      "source": [
        "z = (240000 - 242000)/(25000/(150**0.5))\n",
        "z"
      ],
      "metadata": {
        "colab": {
          "base_uri": "https://localhost:8080/"
        },
        "id": "8aZYd10jVDyV",
        "outputId": "f7a51600-931b-4538-d122-615bb6d1cdb5"
      },
      "execution_count": null,
      "outputs": [
        {
          "output_type": "execute_result",
          "data": {
            "text/plain": [
              "-0.9797958971132712"
            ]
          },
          "metadata": {},
          "execution_count": 50
        }
      ]
    },
    {
      "cell_type": "code",
      "source": [
        "# Calculo do Zc\n",
        "zc_preco_negativo = stats.norm.ppf(alpha_preco/2)\n",
        "zc_preco_positivo = zc_preco_negativo * (-1)\n",
        "zc_preco_negativo, zc_preco_positivo"
      ],
      "metadata": {
        "colab": {
          "base_uri": "https://localhost:8080/"
        },
        "id": "9yXXfUXmMY6x",
        "outputId": "a6dece1f-54b3-41d3-ed5e-e6708e9502cd"
      },
      "execution_count": null,
      "outputs": [
        {
          "output_type": "execute_result",
          "data": {
            "text/plain": [
              "(-2.575829303548901, 2.575829303548901)"
            ]
          },
          "metadata": {},
          "execution_count": 51
        }
      ]
    },
    {
      "cell_type": "code",
      "source": [
        "# Rejeitamos H0 ?\n",
        "h0 = 'Aceitamos h0' if zc_preco_negativo < z_estrela_preco < zc_preco_positivo else 'Rejeitamos h0'\n",
        "h0"
      ],
      "metadata": {
        "colab": {
          "base_uri": "https://localhost:8080/",
          "height": 36
        },
        "id": "lrMXnZbRPjhO",
        "outputId": "04931022-90c7-407f-9560-b86fee24dddd"
      },
      "execution_count": null,
      "outputs": [
        {
          "output_type": "execute_result",
          "data": {
            "text/plain": [
              "'Aceitamos h0'"
            ],
            "application/vnd.google.colaboratory.intrinsic+json": {
              "type": "string"
            }
          },
          "metadata": {},
          "execution_count": 52
        }
      ]
    },
    {
      "cell_type": "markdown",
      "source": [
        "**Metodo do p-value**"
      ],
      "metadata": {
        "id": "SOOyQRi3Uy8s"
      }
    },
    {
      "cell_type": "code",
      "source": [
        "# Qual a forma de calcular p está correta ? Vi em videos que a probabilidade é mutiplicada por 2 como a seguir\n",
        "p_value_preco0 = 2 * (1 - stats.norm.cdf(abs(z_estrela_preco)))\n",
        "p_value_preco0"
      ],
      "metadata": {
        "colab": {
          "base_uri": "https://localhost:8080/"
        },
        "id": "PYgkbWbSfP2H",
        "outputId": "23f76533-1f84-4119-ffb4-216bd71bad14"
      },
      "execution_count": null,
      "outputs": [
        {
          "output_type": "execute_result",
          "data": {
            "text/plain": [
              "0.32718687779030575"
            ]
          },
          "metadata": {},
          "execution_count": 53
        }
      ]
    },
    {
      "cell_type": "code",
      "source": [
        "# p_value_preco = min(stats.norm.cdf(z_estrela_preco), 1- stats.norm.cdf(z_estrela_preco))\n",
        "# p_value_preco"
      ],
      "metadata": {
        "id": "Ibx-h5fGU1Rd"
      },
      "execution_count": null,
      "outputs": []
    },
    {
      "cell_type": "code",
      "source": [
        "# Rejeitamos H0 ?\n",
        "h0 = 'Aceitamos h0' if p_value_preco0 > alpha_preco else 'Rejeitamos h0'\n",
        "h0"
      ],
      "metadata": {
        "colab": {
          "base_uri": "https://localhost:8080/",
          "height": 36
        },
        "id": "hpkM0VqtXnpN",
        "outputId": "7eac29bf-0e60-4729-dcac-f409c57a6abd"
      },
      "execution_count": null,
      "outputs": [
        {
          "output_type": "execute_result",
          "data": {
            "text/plain": [
              "'Aceitamos h0'"
            ],
            "application/vnd.google.colaboratory.intrinsic+json": {
              "type": "string"
            }
          },
          "metadata": {},
          "execution_count": 55
        }
      ]
    },
    {
      "cell_type": "markdown",
      "source": [
        "**TESTE DE HIPÓTESE QUANDO O DESVIO PADRÃO NÃO E CONHECIDO (DISTRIBUIÇÃO t)**"
      ],
      "metadata": {
        "id": "nTMinMByNqMT"
      }
    },
    {
      "cell_type": "code",
      "source": [
        "import scipy.stats as stats"
      ],
      "metadata": {
        "id": "YzF4F9ACVEeP"
      },
      "execution_count": null,
      "outputs": []
    },
    {
      "cell_type": "markdown",
      "source": [
        "Exemplo de um teste **unilateral** **a** **DIREITA**\n",
        "\n",
        "Um fabricante de freios sabe que a vida ultil média dos componentes é 800 horas. Um novo componente foi desenvolvido e informaram que a vida util deste era maior que a do modelo atual. Uma amostra com 50 fo selecionada e encontrada a média de 810h com um desvio padrão amostral de 25 horas. PAra um nivel de significancia de 5%, determine se a afirmação está correta."
      ],
      "metadata": {
        "id": "I2UdZauzN9HD"
      }
    },
    {
      "cell_type": "markdown",
      "source": [
        "h0: média igual a 800 horas\n",
        "\n",
        "h1: média maior que 800 horas"
      ],
      "metadata": {
        "id": "ZYpIzshZQIRj"
      }
    },
    {
      "cell_type": "code",
      "source": [
        "x_bar = 810\n",
        "std = 25\n",
        "mi = 800\n",
        "alpha = 0.05\n",
        "n = 50\n",
        "# Calcula os graus de liberdade\n",
        "grau_liberdade = n - 1"
      ],
      "metadata": {
        "id": "OBSowZ73UzoT"
      },
      "execution_count": null,
      "outputs": []
    },
    {
      "cell_type": "code",
      "source": [
        "#Calcular o desvipadrão amostral não tendencioso\n",
        "std = ((n/(grau_liberdade)) ** 0.5) * std\n",
        "std"
      ],
      "metadata": {
        "colab": {
          "base_uri": "https://localhost:8080/"
        },
        "id": "ZyZ2kgI5Nyhc",
        "outputId": "5a65edf4-6e21-4b69-8393-a9cd081ac6a8"
      },
      "execution_count": null,
      "outputs": [
        {
          "output_type": "execute_result",
          "data": {
            "text/plain": [
              "25.25381361380527"
            ]
          },
          "metadata": {},
          "execution_count": 58
        }
      ]
    },
    {
      "cell_type": "markdown",
      "source": [
        "**Metodo t crítico**"
      ],
      "metadata": {
        "id": "qWupn7naVayd"
      }
    },
    {
      "cell_type": "code",
      "source": [
        "t_estrela = (x_bar - mi)/((std)/(n**0.5))\n",
        "t_estrela"
      ],
      "metadata": {
        "colab": {
          "base_uri": "https://localhost:8080/"
        },
        "id": "8GheZqLfVQ0s",
        "outputId": "1f117f31-a359-4e0a-db5e-03c6040fa315"
      },
      "execution_count": null,
      "outputs": [
        {
          "output_type": "execute_result",
          "data": {
            "text/plain": [
              "2.8"
            ]
          },
          "metadata": {},
          "execution_count": 59
        }
      ]
    },
    {
      "cell_type": "code",
      "source": [
        "t_critico = stats.t.ppf(1 - alpha, df=grau_liberdade)\n",
        "t_critico"
      ],
      "metadata": {
        "colab": {
          "base_uri": "https://localhost:8080/"
        },
        "id": "QLo2XXRCW1tl",
        "outputId": "d310239a-bfa3-4490-9aef-73d4f5091fce"
      },
      "execution_count": null,
      "outputs": [
        {
          "output_type": "execute_result",
          "data": {
            "text/plain": [
              "1.6765508919142629"
            ]
          },
          "metadata": {},
          "execution_count": 60
        }
      ]
    },
    {
      "cell_type": "code",
      "source": [
        "# Rejeitamos h0 ?\n",
        "h0 = 'Aceitamos h0' if t_estrela < t_critico else 'Rejeitamos h0'\n",
        "h0"
      ],
      "metadata": {
        "colab": {
          "base_uri": "https://localhost:8080/",
          "height": 36
        },
        "id": "AJTAiTnnXykk",
        "outputId": "c39fa410-6017-4a12-de11-c1976ea9b491"
      },
      "execution_count": null,
      "outputs": [
        {
          "output_type": "execute_result",
          "data": {
            "text/plain": [
              "'Rejeitamos h0'"
            ],
            "application/vnd.google.colaboratory.intrinsic+json": {
              "type": "string"
            }
          },
          "metadata": {},
          "execution_count": 61
        }
      ]
    },
    {
      "cell_type": "markdown",
      "source": [
        "**Metodo p value**"
      ],
      "metadata": {
        "id": "tUlzIHgvYlA0"
      }
    },
    {
      "cell_type": "code",
      "source": [
        "t_estrela = (x_bar - mi)/((std)/(n**0.5))\n",
        "t_estrela"
      ],
      "metadata": {
        "colab": {
          "base_uri": "https://localhost:8080/"
        },
        "id": "gMggOxfMZ6xr",
        "outputId": "88b353e8-1e7b-4be6-c54b-b994b7f15047"
      },
      "execution_count": null,
      "outputs": [
        {
          "output_type": "execute_result",
          "data": {
            "text/plain": [
              "2.8"
            ]
          },
          "metadata": {},
          "execution_count": 62
        }
      ]
    },
    {
      "cell_type": "code",
      "source": [
        "p_value = 1- stats.t.cdf(t_estrela, df=grau_liberdade)\n",
        "p_value"
      ],
      "metadata": {
        "colab": {
          "base_uri": "https://localhost:8080/"
        },
        "id": "Bf4a70yZYqH7",
        "outputId": "0f7a4898-314f-4ebc-db0e-41a9d7bf9c0d"
      },
      "execution_count": null,
      "outputs": [
        {
          "output_type": "execute_result",
          "data": {
            "text/plain": [
              "0.003645849336526563"
            ]
          },
          "metadata": {},
          "execution_count": 63
        }
      ]
    },
    {
      "cell_type": "code",
      "source": [
        "# Rejeitamos h0 ?\n",
        "h0 = 'Aceitamos h0' if p_value > alpha else 'Rejeitamos h0'\n",
        "h0"
      ],
      "metadata": {
        "colab": {
          "base_uri": "https://localhost:8080/",
          "height": 36
        },
        "id": "6QL1-md_ZZtL",
        "outputId": "de042277-d477-4496-f8a9-dd9faf7d3a26"
      },
      "execution_count": null,
      "outputs": [
        {
          "output_type": "execute_result",
          "data": {
            "text/plain": [
              "'Rejeitamos h0'"
            ],
            "application/vnd.google.colaboratory.intrinsic+json": {
              "type": "string"
            }
          },
          "metadata": {},
          "execution_count": 64
        }
      ]
    },
    {
      "cell_type": "markdown",
      "source": [
        "Exemplo de um teste **BILATERAL**\n",
        "\n",
        "Preço médio de apartamentos na região central da cidade em 2017 foi 245000.00 com desvio **ESTIMADO** de 20000.00. Em 2018 uma amostra de 150 apartamentos e encontrou o preço médio de 240000.00. Com um nivel de significancia de 1% determine se houve mudança no preço ou não."
      ],
      "metadata": {
        "id": "X1s6J62BaX9j"
      }
    },
    {
      "cell_type": "markdown",
      "source": [
        "h0: média igual a 245000.00 reais\n",
        "\n",
        "h1: média diferente de 245000.00 reais"
      ],
      "metadata": {
        "id": "XiSZlhQKa9oL"
      }
    },
    {
      "cell_type": "code",
      "source": [
        "x_bar = 240000\n",
        "std = 20000\n",
        "mi = 245000\n",
        "alpha = 0.01\n",
        "n = 150\n",
        "# Calcula os graus de liberdade\n",
        "grau_liberdade = n - 1"
      ],
      "metadata": {
        "id": "czxzOpCGa7q7"
      },
      "execution_count": null,
      "outputs": []
    },
    {
      "cell_type": "markdown",
      "source": [
        "**Metodo t crítico**"
      ],
      "metadata": {
        "id": "HlLgPKnrbg4t"
      }
    },
    {
      "cell_type": "code",
      "source": [
        "# Calculo do t_estrela\n",
        "t = (x_bar - mi)/(std/(n** 0.5))\n",
        "t"
      ],
      "metadata": {
        "colab": {
          "base_uri": "https://localhost:8080/"
        },
        "id": "UWY0GJcEbfbU",
        "outputId": "5b54d6e9-9286-447e-e25e-2ef76407e6df"
      },
      "execution_count": null,
      "outputs": [
        {
          "output_type": "execute_result",
          "data": {
            "text/plain": [
              "-3.0618621784789726"
            ]
          },
          "metadata": {},
          "execution_count": 66
        }
      ]
    },
    {
      "cell_type": "code",
      "source": [
        "# calculo dos t criticos\n",
        "\n",
        "tc_negativo= stats.t.ppf(alpha/2, df=grau_liberdade)\n",
        "tc_negativo"
      ],
      "metadata": {
        "colab": {
          "base_uri": "https://localhost:8080/"
        },
        "id": "lP71PYNHb0lE",
        "outputId": "1c6fd9ee-2d85-4475-8351-41a4a29f05f1"
      },
      "execution_count": null,
      "outputs": [
        {
          "output_type": "execute_result",
          "data": {
            "text/plain": [
              "-2.609227907332193"
            ]
          },
          "metadata": {},
          "execution_count": 67
        }
      ]
    },
    {
      "cell_type": "code",
      "source": [
        "tc_positivo = tc_negativo * (-1)\n",
        "tc_positivo"
      ],
      "metadata": {
        "colab": {
          "base_uri": "https://localhost:8080/"
        },
        "id": "2YHJhuw8cXfF",
        "outputId": "d11ed46d-4494-484a-f234-a90ae1cd7c14"
      },
      "execution_count": null,
      "outputs": [
        {
          "output_type": "execute_result",
          "data": {
            "text/plain": [
              "2.609227907332193"
            ]
          },
          "metadata": {},
          "execution_count": 68
        }
      ]
    },
    {
      "cell_type": "code",
      "source": [
        "# Rejeitamos h0 ?\n",
        "h0 = 'Aceitamos h0' if tc_negativo < t < tc_positivo else 'Rejeitamos h0'\n",
        "h0"
      ],
      "metadata": {
        "colab": {
          "base_uri": "https://localhost:8080/",
          "height": 36
        },
        "id": "_KrVu4JGclIs",
        "outputId": "3ea7828f-f741-470c-ada9-520af1b45e00"
      },
      "execution_count": null,
      "outputs": [
        {
          "output_type": "execute_result",
          "data": {
            "text/plain": [
              "'Rejeitamos h0'"
            ],
            "application/vnd.google.colaboratory.intrinsic+json": {
              "type": "string"
            }
          },
          "metadata": {},
          "execution_count": 69
        }
      ]
    },
    {
      "cell_type": "markdown",
      "source": [
        "**Metodo P VALUE**"
      ],
      "metadata": {
        "id": "MDlwit4TdMkc"
      }
    },
    {
      "cell_type": "code",
      "source": [
        "# Calculo do t_estrela\n",
        "t = (x_bar - mi)/(std/(n** 0.5))\n",
        "t"
      ],
      "metadata": {
        "id": "9Sjh4vggdTRl",
        "colab": {
          "base_uri": "https://localhost:8080/"
        },
        "outputId": "905f50be-2170-4adb-f985-3934a1d7a0ff"
      },
      "execution_count": null,
      "outputs": [
        {
          "output_type": "execute_result",
          "data": {
            "text/plain": [
              "-3.0618621784789726"
            ]
          },
          "metadata": {},
          "execution_count": 70
        }
      ]
    },
    {
      "cell_type": "code",
      "source": [
        "# Calculo do p-value\n",
        "p_value = 2 * (1 - stats.t.cdf(abs(t), df=grau_liberdade))\n",
        "p_value"
      ],
      "metadata": {
        "colab": {
          "base_uri": "https://localhost:8080/"
        },
        "id": "hoR_tDA8dWKl",
        "outputId": "20976ccf-a5c0-420a-ba5b-c0d961684c23"
      },
      "execution_count": null,
      "outputs": [
        {
          "output_type": "execute_result",
          "data": {
            "text/plain": [
              "0.002610366877835446"
            ]
          },
          "metadata": {},
          "execution_count": 71
        }
      ]
    },
    {
      "cell_type": "code",
      "source": [
        "# Rejeitamos h0 ?\n",
        "h0 = 'Aceitamos h0' if p_value > alpha else 'Rejeitamos h0'\n",
        "h0"
      ],
      "metadata": {
        "colab": {
          "base_uri": "https://localhost:8080/",
          "height": 36
        },
        "id": "JZ5FAneghG32",
        "outputId": "3b5a23ab-dabf-4646-d0f6-9499ef5eb613"
      },
      "execution_count": null,
      "outputs": [
        {
          "output_type": "execute_result",
          "data": {
            "text/plain": [
              "'Rejeitamos h0'"
            ],
            "application/vnd.google.colaboratory.intrinsic+json": {
              "type": "string"
            }
          },
          "metadata": {},
          "execution_count": 72
        }
      ]
    },
    {
      "cell_type": "markdown",
      "source": [
        "**TESTE DE DIFERENÇA ENTRE AS AMOSTRAS**\n",
        "1.   AS DIFERENÇAS SÃO SIGNIFICATIVAS ENTRE AS AMOSTRAS?\n",
        "2.   TESTAR DOIS GRUPOS INDEPENDENTES (CONTROLE E EXPERIMENTAL)\n",
        "\n",
        "\n"
      ],
      "metadata": {
        "id": "YleW7cBBkOGm"
      }
    },
    {
      "cell_type": "markdown",
      "source": [
        "Grupo de 4 atletas treinou um nova técnica diferente para competirem no revesamento 4x100. As listas a seguir mostra os resultados antes e depois da técnica. Determine se há diferença significativas entre tempos usando um teste de hipótese e um nivel de significancia de 1%"
      ],
      "metadata": {
        "id": "2gV6kFDDkzZ9"
      }
    },
    {
      "cell_type": "code",
      "source": [
        "import numpy as np\n",
        "import scipy.stats as stats"
      ],
      "metadata": {
        "id": "dgpbZmdPmnzg"
      },
      "execution_count": null,
      "outputs": []
    },
    {
      "cell_type": "code",
      "source": [
        "tempo_a = np.array([ 11.23, 10.98, 10.75, 11.03])\n",
        "tempo_b = np.array([10.88, 10.78, 10.81, 10.66] )"
      ],
      "metadata": {
        "id": "goWLgi1wkbbj"
      },
      "execution_count": null,
      "outputs": []
    },
    {
      "cell_type": "code",
      "source": [
        "tempo_dif = tempo_a -tempo_b\n",
        "tempo_dif"
      ],
      "metadata": {
        "colab": {
          "base_uri": "https://localhost:8080/"
        },
        "id": "c1M59p9XmbsE",
        "outputId": "fa621ca5-5c6a-41cc-c5e6-11d26d0c990f"
      },
      "execution_count": null,
      "outputs": [
        {
          "output_type": "execute_result",
          "data": {
            "text/plain": [
              "array([ 0.35,  0.2 , -0.06,  0.37])"
            ]
          },
          "metadata": {},
          "execution_count": 75
        }
      ]
    },
    {
      "cell_type": "code",
      "source": [
        "# Calculo da média\n",
        "media = np.mean(tempo_dif)\n",
        "media"
      ],
      "metadata": {
        "colab": {
          "base_uri": "https://localhost:8080/"
        },
        "id": "5z45IbqM80at",
        "outputId": "bd927630-4bdd-4f08-9ec3-e40e155e6fc5"
      },
      "execution_count": null,
      "outputs": [
        {
          "output_type": "execute_result",
          "data": {
            "text/plain": [
              "0.21499999999999986"
            ]
          },
          "metadata": {},
          "execution_count": 76
        }
      ]
    },
    {
      "cell_type": "code",
      "source": [
        "# Calculo da desvio padrão (amostral)\n",
        "std = np.std(tempo_dif, ddof=1)\n",
        "std\n",
        "\n",
        "# std_population = np.std(tempo_dif, ddof=0)"
      ],
      "metadata": {
        "colab": {
          "base_uri": "https://localhost:8080/"
        },
        "id": "cGLdK12Y9Ebc",
        "outputId": "162bfc77-d363-40fd-b6da-e13b6f60af90"
      },
      "execution_count": null,
      "outputs": [
        {
          "output_type": "execute_result",
          "data": {
            "text/plain": [
              "0.19841034919244166"
            ]
          },
          "metadata": {},
          "execution_count": 77
        }
      ]
    },
    {
      "cell_type": "markdown",
      "source": [
        "h0: média igual a 0 seg\n",
        "\n",
        "h1: média maior que 0 seg"
      ],
      "metadata": {
        "id": "M5fAEmdl-cJc"
      }
    },
    {
      "cell_type": "markdown",
      "source": [
        "Usaremos um teste unilateral a direita"
      ],
      "metadata": {
        "id": "sQpT9Fi4-sxn"
      }
    },
    {
      "cell_type": "code",
      "source": [
        "alpha = 0.01\n",
        "n = 4\n",
        "grau_liberdade = n -1\n",
        "std\n",
        "x_bar = media\n",
        "mi = 0"
      ],
      "metadata": {
        "id": "_eJWFBpp-og8"
      },
      "execution_count": null,
      "outputs": []
    },
    {
      "cell_type": "code",
      "source": [
        "t = (x_bar - mi) /(std/(n**0.5))\n",
        "t"
      ],
      "metadata": {
        "colab": {
          "base_uri": "https://localhost:8080/"
        },
        "id": "nAhsU55a_Rl9",
        "outputId": "f8f28dec-11dd-428e-da3c-e439893c296d"
      },
      "execution_count": null,
      "outputs": [
        {
          "output_type": "execute_result",
          "data": {
            "text/plain": [
              "2.167225660103724"
            ]
          },
          "metadata": {},
          "execution_count": 79
        }
      ]
    },
    {
      "cell_type": "code",
      "source": [
        "# Calculo do tc\n",
        "tc = stats.t.ppf(1-alpha, df=grau_liberdade)\n",
        "tc"
      ],
      "metadata": {
        "colab": {
          "base_uri": "https://localhost:8080/"
        },
        "id": "xIE4UqwJ_gaE",
        "outputId": "5e349a9a-ed69-4374-a5d0-15e48852443c"
      },
      "execution_count": null,
      "outputs": [
        {
          "output_type": "execute_result",
          "data": {
            "text/plain": [
              "4.540702858698419"
            ]
          },
          "metadata": {},
          "execution_count": 80
        }
      ]
    },
    {
      "cell_type": "code",
      "source": [
        "# Rejeitamos h0 ?\n",
        "h0 = 'Aceitamos h0' if t < tc else 'Rejeitamos h0'\n",
        "h0"
      ],
      "metadata": {
        "colab": {
          "base_uri": "https://localhost:8080/",
          "height": 36
        },
        "id": "1XQSXTytALJE",
        "outputId": "6561f04a-1a6a-468f-9054-cebd1cc4a459"
      },
      "execution_count": null,
      "outputs": [
        {
          "output_type": "execute_result",
          "data": {
            "text/plain": [
              "'Aceitamos h0'"
            ],
            "application/vnd.google.colaboratory.intrinsic+json": {
              "type": "string"
            }
          },
          "metadata": {},
          "execution_count": 81
        }
      ]
    },
    {
      "cell_type": "markdown",
      "source": [
        "@ Aumentando o alpha (nivel de significancia) aumentamos a chance de  h0 ser rejeitada, pois a área critica aumenta!"
      ],
      "metadata": {
        "id": "nv29u3f3A09s"
      }
    },
    {
      "cell_type": "markdown",
      "source": [
        "Usando o método do p-value"
      ],
      "metadata": {
        "id": "byHGmNQiBBxV"
      }
    },
    {
      "cell_type": "code",
      "source": [
        "t = (x_bar - mi) /(std/(n**0.5))"
      ],
      "metadata": {
        "id": "EnaVs6rbBBNU"
      },
      "execution_count": null,
      "outputs": []
    },
    {
      "cell_type": "code",
      "source": [
        "# Calculo do p-value\n",
        "value_p = 1- stats.t.cdf(t, df=grau_liberdade)\n",
        "value_p"
      ],
      "metadata": {
        "colab": {
          "base_uri": "https://localhost:8080/"
        },
        "id": "JANVDwNxBHVU",
        "outputId": "4e2d12c2-c35c-440a-a034-9e9fcf59ffa9"
      },
      "execution_count": null,
      "outputs": [
        {
          "output_type": "execute_result",
          "data": {
            "text/plain": [
              "0.05938271884852775"
            ]
          },
          "metadata": {},
          "execution_count": 83
        }
      ]
    },
    {
      "cell_type": "code",
      "source": [
        "# Rejeitamos h0 ?\n",
        "h0 = 'Aceitamos h0' if value_p > alpha else 'Rejeitamos h0'\n",
        "h0"
      ],
      "metadata": {
        "colab": {
          "base_uri": "https://localhost:8080/",
          "height": 36
        },
        "id": "KpArlDa9BXUG",
        "outputId": "c7f5a144-3a0e-4b9f-9950-ec1af3da3cac"
      },
      "execution_count": null,
      "outputs": [
        {
          "output_type": "execute_result",
          "data": {
            "text/plain": [
              "'Aceitamos h0'"
            ],
            "application/vnd.google.colaboratory.intrinsic+json": {
              "type": "string"
            }
          },
          "metadata": {},
          "execution_count": 84
        }
      ]
    },
    {
      "cell_type": "markdown",
      "source": [
        "**ERRO TIPO I E TIPO II**"
      ],
      "metadata": {
        "id": "o86h0_hQccDk"
      }
    },
    {
      "cell_type": "markdown",
      "source": [
        "Exercício 1:\n",
        "\n",
        "Um provedor de internet informa que a velocidade de conexão segue uma distribuição normal com sigma de 0.4Mbps. A empresa afirma que seu novo pacote tem velocidades superiores a 8Mbps que é a média historica local. Uma amostra com 6 residências é selecionada e um teste de hipoteses é conduzido com alfa de 1%. Determine a probabilidade do erro tipo II, sabendo que a velocidade média real é 8.6Mbps."
      ],
      "metadata": {
        "id": "cymfizy5chR8"
      }
    },
    {
      "cell_type": "markdown",
      "source": [
        "Variavel é a velocidade de conexão\n",
        "Logo, X ~N(mi,0.4**2)\n",
        "\n",
        "h0: mi = 8\n",
        "\n",
        "h1: mi > 8 (unilateral a direita)"
      ],
      "metadata": {
        "id": "F5l3wBZmduHc"
      }
    },
    {
      "cell_type": "markdown",
      "source": [
        "Exercício 2:\n",
        "\n",
        "Uma amostra com 10 objetos é selecionada a partir de uma população com comprimento médio mi desconhecido e desvio padrão 15 cm. O seguinte teste de hipotese é feito:\n",
        "\n",
        "h0: mi = 30 cm e h1: mi != 30 cm"
      ],
      "metadata": {
        "id": "0WpXw_eHja4t"
      }
    },
    {
      "cell_type": "markdown",
      "source": [
        "**TESTE QUI QUADRADO**"
      ],
      "metadata": {
        "id": "mJr6U6OJk1PY"
      }
    },
    {
      "cell_type": "code",
      "source": [
        "import pandas as pd\n",
        "import numpy as np\n",
        "from scipy.stats import chi2_contingency, chisquare"
      ],
      "metadata": {
        "id": "nEXdLvAyuMwh"
      },
      "execution_count": null,
      "outputs": []
    },
    {
      "cell_type": "markdown",
      "source": [
        "TESTE QUI QUADRADO DE **INDEPENDENCIA**"
      ],
      "metadata": {
        "id": "QXlhpCctHeJc"
      }
    },
    {
      "cell_type": "markdown",
      "source": [
        "100 pessoas foram entrevistadas, perguntadas sua sobremesa favorita. Conduzir um teste qui-quadrado com alfa igual a 5% para determinar se a escolha da sobremesa esta relacionada com o sexo. Os resultados estão nos dicionários a seguir."
      ],
      "metadata": {
        "id": "_1laqkiCsiVo"
      }
    },
    {
      "cell_type": "code",
      "source": [
        "alfa = 0.05"
      ],
      "metadata": {
        "id": "t5LyW5KTEYQJ"
      },
      "execution_count": null,
      "outputs": []
    },
    {
      "cell_type": "code",
      "source": [
        "m = {'sorvete': 19, 'bolo': 6, 'torta Doce': 12, 'Mousse': 8}\n",
        "f = {'sorvete': 10, 'bolo': 9, 'torta Doce': 23, 'Mousse': 13}"
      ],
      "metadata": {
        "id": "YXObgNnoszwG"
      },
      "execution_count": null,
      "outputs": []
    },
    {
      "cell_type": "code",
      "source": [
        "df = pd.DataFrame({'Sobremesa': list(m.keys()), # ou f.keys()\n",
        "                   'Homens': list(m.values()),\n",
        "                   'Mulheres': list(f.values())})"
      ],
      "metadata": {
        "id": "00FyME5puUIP"
      },
      "execution_count": null,
      "outputs": []
    },
    {
      "cell_type": "code",
      "source": [
        "df"
      ],
      "metadata": {
        "colab": {
          "base_uri": "https://localhost:8080/",
          "height": 175
        },
        "id": "KWcoFjU6vcxg",
        "outputId": "000572e9-fc84-4eeb-d0c0-8285e234b0a2"
      },
      "execution_count": null,
      "outputs": [
        {
          "output_type": "execute_result",
          "data": {
            "text/plain": [
              "    Sobremesa  Homens  Mulheres\n",
              "0     sorvete      19        10\n",
              "1        bolo       6         9\n",
              "2  torta Doce      12        23\n",
              "3      Mousse       8        13"
            ],
            "text/html": [
              "\n",
              "  <div id=\"df-23aee731-b3a8-4365-a08b-06ed88aad179\" class=\"colab-df-container\">\n",
              "    <div>\n",
              "<style scoped>\n",
              "    .dataframe tbody tr th:only-of-type {\n",
              "        vertical-align: middle;\n",
              "    }\n",
              "\n",
              "    .dataframe tbody tr th {\n",
              "        vertical-align: top;\n",
              "    }\n",
              "\n",
              "    .dataframe thead th {\n",
              "        text-align: right;\n",
              "    }\n",
              "</style>\n",
              "<table border=\"1\" class=\"dataframe\">\n",
              "  <thead>\n",
              "    <tr style=\"text-align: right;\">\n",
              "      <th></th>\n",
              "      <th>Sobremesa</th>\n",
              "      <th>Homens</th>\n",
              "      <th>Mulheres</th>\n",
              "    </tr>\n",
              "  </thead>\n",
              "  <tbody>\n",
              "    <tr>\n",
              "      <th>0</th>\n",
              "      <td>sorvete</td>\n",
              "      <td>19</td>\n",
              "      <td>10</td>\n",
              "    </tr>\n",
              "    <tr>\n",
              "      <th>1</th>\n",
              "      <td>bolo</td>\n",
              "      <td>6</td>\n",
              "      <td>9</td>\n",
              "    </tr>\n",
              "    <tr>\n",
              "      <th>2</th>\n",
              "      <td>torta Doce</td>\n",
              "      <td>12</td>\n",
              "      <td>23</td>\n",
              "    </tr>\n",
              "    <tr>\n",
              "      <th>3</th>\n",
              "      <td>Mousse</td>\n",
              "      <td>8</td>\n",
              "      <td>13</td>\n",
              "    </tr>\n",
              "  </tbody>\n",
              "</table>\n",
              "</div>\n",
              "    <div class=\"colab-df-buttons\">\n",
              "\n",
              "  <div class=\"colab-df-container\">\n",
              "    <button class=\"colab-df-convert\" onclick=\"convertToInteractive('df-23aee731-b3a8-4365-a08b-06ed88aad179')\"\n",
              "            title=\"Convert this dataframe to an interactive table.\"\n",
              "            style=\"display:none;\">\n",
              "\n",
              "  <svg xmlns=\"http://www.w3.org/2000/svg\" height=\"24px\" viewBox=\"0 -960 960 960\">\n",
              "    <path d=\"M120-120v-720h720v720H120Zm60-500h600v-160H180v160Zm220 220h160v-160H400v160Zm0 220h160v-160H400v160ZM180-400h160v-160H180v160Zm440 0h160v-160H620v160ZM180-180h160v-160H180v160Zm440 0h160v-160H620v160Z\"/>\n",
              "  </svg>\n",
              "    </button>\n",
              "\n",
              "  <style>\n",
              "    .colab-df-container {\n",
              "      display:flex;\n",
              "      gap: 12px;\n",
              "    }\n",
              "\n",
              "    .colab-df-convert {\n",
              "      background-color: #E8F0FE;\n",
              "      border: none;\n",
              "      border-radius: 50%;\n",
              "      cursor: pointer;\n",
              "      display: none;\n",
              "      fill: #1967D2;\n",
              "      height: 32px;\n",
              "      padding: 0 0 0 0;\n",
              "      width: 32px;\n",
              "    }\n",
              "\n",
              "    .colab-df-convert:hover {\n",
              "      background-color: #E2EBFA;\n",
              "      box-shadow: 0px 1px 2px rgba(60, 64, 67, 0.3), 0px 1px 3px 1px rgba(60, 64, 67, 0.15);\n",
              "      fill: #174EA6;\n",
              "    }\n",
              "\n",
              "    .colab-df-buttons div {\n",
              "      margin-bottom: 4px;\n",
              "    }\n",
              "\n",
              "    [theme=dark] .colab-df-convert {\n",
              "      background-color: #3B4455;\n",
              "      fill: #D2E3FC;\n",
              "    }\n",
              "\n",
              "    [theme=dark] .colab-df-convert:hover {\n",
              "      background-color: #434B5C;\n",
              "      box-shadow: 0px 1px 3px 1px rgba(0, 0, 0, 0.15);\n",
              "      filter: drop-shadow(0px 1px 2px rgba(0, 0, 0, 0.3));\n",
              "      fill: #FFFFFF;\n",
              "    }\n",
              "  </style>\n",
              "\n",
              "    <script>\n",
              "      const buttonEl =\n",
              "        document.querySelector('#df-23aee731-b3a8-4365-a08b-06ed88aad179 button.colab-df-convert');\n",
              "      buttonEl.style.display =\n",
              "        google.colab.kernel.accessAllowed ? 'block' : 'none';\n",
              "\n",
              "      async function convertToInteractive(key) {\n",
              "        const element = document.querySelector('#df-23aee731-b3a8-4365-a08b-06ed88aad179');\n",
              "        const dataTable =\n",
              "          await google.colab.kernel.invokeFunction('convertToInteractive',\n",
              "                                                    [key], {});\n",
              "        if (!dataTable) return;\n",
              "\n",
              "        const docLinkHtml = 'Like what you see? Visit the ' +\n",
              "          '<a target=\"_blank\" href=https://colab.research.google.com/notebooks/data_table.ipynb>data table notebook</a>'\n",
              "          + ' to learn more about interactive tables.';\n",
              "        element.innerHTML = '';\n",
              "        dataTable['output_type'] = 'display_data';\n",
              "        await google.colab.output.renderOutput(dataTable, element);\n",
              "        const docLink = document.createElement('div');\n",
              "        docLink.innerHTML = docLinkHtml;\n",
              "        element.appendChild(docLink);\n",
              "      }\n",
              "    </script>\n",
              "  </div>\n",
              "\n",
              "\n",
              "<div id=\"df-72681188-eef1-4b97-ab95-3ed72788795d\">\n",
              "  <button class=\"colab-df-quickchart\" onclick=\"quickchart('df-72681188-eef1-4b97-ab95-3ed72788795d')\"\n",
              "            title=\"Suggest charts.\"\n",
              "            style=\"display:none;\">\n",
              "\n",
              "<svg xmlns=\"http://www.w3.org/2000/svg\" height=\"24px\"viewBox=\"0 0 24 24\"\n",
              "     width=\"24px\">\n",
              "    <g>\n",
              "        <path d=\"M19 3H5c-1.1 0-2 .9-2 2v14c0 1.1.9 2 2 2h14c1.1 0 2-.9 2-2V5c0-1.1-.9-2-2-2zM9 17H7v-7h2v7zm4 0h-2V7h2v10zm4 0h-2v-4h2v4z\"/>\n",
              "    </g>\n",
              "</svg>\n",
              "  </button>\n",
              "\n",
              "<style>\n",
              "  .colab-df-quickchart {\n",
              "      --bg-color: #E8F0FE;\n",
              "      --fill-color: #1967D2;\n",
              "      --hover-bg-color: #E2EBFA;\n",
              "      --hover-fill-color: #174EA6;\n",
              "      --disabled-fill-color: #AAA;\n",
              "      --disabled-bg-color: #DDD;\n",
              "  }\n",
              "\n",
              "  [theme=dark] .colab-df-quickchart {\n",
              "      --bg-color: #3B4455;\n",
              "      --fill-color: #D2E3FC;\n",
              "      --hover-bg-color: #434B5C;\n",
              "      --hover-fill-color: #FFFFFF;\n",
              "      --disabled-bg-color: #3B4455;\n",
              "      --disabled-fill-color: #666;\n",
              "  }\n",
              "\n",
              "  .colab-df-quickchart {\n",
              "    background-color: var(--bg-color);\n",
              "    border: none;\n",
              "    border-radius: 50%;\n",
              "    cursor: pointer;\n",
              "    display: none;\n",
              "    fill: var(--fill-color);\n",
              "    height: 32px;\n",
              "    padding: 0;\n",
              "    width: 32px;\n",
              "  }\n",
              "\n",
              "  .colab-df-quickchart:hover {\n",
              "    background-color: var(--hover-bg-color);\n",
              "    box-shadow: 0 1px 2px rgba(60, 64, 67, 0.3), 0 1px 3px 1px rgba(60, 64, 67, 0.15);\n",
              "    fill: var(--button-hover-fill-color);\n",
              "  }\n",
              "\n",
              "  .colab-df-quickchart-complete:disabled,\n",
              "  .colab-df-quickchart-complete:disabled:hover {\n",
              "    background-color: var(--disabled-bg-color);\n",
              "    fill: var(--disabled-fill-color);\n",
              "    box-shadow: none;\n",
              "  }\n",
              "\n",
              "  .colab-df-spinner {\n",
              "    border: 2px solid var(--fill-color);\n",
              "    border-color: transparent;\n",
              "    border-bottom-color: var(--fill-color);\n",
              "    animation:\n",
              "      spin 1s steps(1) infinite;\n",
              "  }\n",
              "\n",
              "  @keyframes spin {\n",
              "    0% {\n",
              "      border-color: transparent;\n",
              "      border-bottom-color: var(--fill-color);\n",
              "      border-left-color: var(--fill-color);\n",
              "    }\n",
              "    20% {\n",
              "      border-color: transparent;\n",
              "      border-left-color: var(--fill-color);\n",
              "      border-top-color: var(--fill-color);\n",
              "    }\n",
              "    30% {\n",
              "      border-color: transparent;\n",
              "      border-left-color: var(--fill-color);\n",
              "      border-top-color: var(--fill-color);\n",
              "      border-right-color: var(--fill-color);\n",
              "    }\n",
              "    40% {\n",
              "      border-color: transparent;\n",
              "      border-right-color: var(--fill-color);\n",
              "      border-top-color: var(--fill-color);\n",
              "    }\n",
              "    60% {\n",
              "      border-color: transparent;\n",
              "      border-right-color: var(--fill-color);\n",
              "    }\n",
              "    80% {\n",
              "      border-color: transparent;\n",
              "      border-right-color: var(--fill-color);\n",
              "      border-bottom-color: var(--fill-color);\n",
              "    }\n",
              "    90% {\n",
              "      border-color: transparent;\n",
              "      border-bottom-color: var(--fill-color);\n",
              "    }\n",
              "  }\n",
              "</style>\n",
              "\n",
              "  <script>\n",
              "    async function quickchart(key) {\n",
              "      const quickchartButtonEl =\n",
              "        document.querySelector('#' + key + ' button');\n",
              "      quickchartButtonEl.disabled = true;  // To prevent multiple clicks.\n",
              "      quickchartButtonEl.classList.add('colab-df-spinner');\n",
              "      try {\n",
              "        const charts = await google.colab.kernel.invokeFunction(\n",
              "            'suggestCharts', [key], {});\n",
              "      } catch (error) {\n",
              "        console.error('Error during call to suggestCharts:', error);\n",
              "      }\n",
              "      quickchartButtonEl.classList.remove('colab-df-spinner');\n",
              "      quickchartButtonEl.classList.add('colab-df-quickchart-complete');\n",
              "    }\n",
              "    (() => {\n",
              "      let quickchartButtonEl =\n",
              "        document.querySelector('#df-72681188-eef1-4b97-ab95-3ed72788795d button');\n",
              "      quickchartButtonEl.style.display =\n",
              "        google.colab.kernel.accessAllowed ? 'block' : 'none';\n",
              "    })();\n",
              "  </script>\n",
              "</div>\n",
              "    </div>\n",
              "  </div>\n"
            ]
          },
          "metadata": {},
          "execution_count": 89
        }
      ]
    },
    {
      "cell_type": "markdown",
      "source": [
        "H0: sobremesa é independente do sexo\n",
        "\n",
        "H1: sobremesa não é independente do sexo\n",
        "\n",
        "\n"
      ],
      "metadata": {
        "id": "KSQvl6Yrv8VI"
      }
    },
    {
      "cell_type": "markdown",
      "source": [
        "Para realizar um teste qui-quadrado de independência no Python, você pode usar a função scipy.stats.chi2_contingency da biblioteca SciPy. Essa função calcula o teste qui-quadrado em uma tabela de contingência, que é exatamente o que está sendo criado com os dicionários m e f."
      ],
      "metadata": {
        "id": "GiGxRIlBB7yB"
      }
    },
    {
      "cell_type": "code",
      "source": [
        "# Tabela de contingência\n",
        "observed = df[['Homens', 'Mulheres']].values\n",
        "observed"
      ],
      "metadata": {
        "colab": {
          "base_uri": "https://localhost:8080/"
        },
        "id": "dSAOapnqvh--",
        "outputId": "fef80d52-0e85-4438-d283-b7ee8eff5d18"
      },
      "execution_count": null,
      "outputs": [
        {
          "output_type": "execute_result",
          "data": {
            "text/plain": [
              "array([[19, 10],\n",
              "       [ 6,  9],\n",
              "       [12, 23],\n",
              "       [ 8, 13]])"
            ]
          },
          "metadata": {},
          "execution_count": 90
        }
      ]
    },
    {
      "cell_type": "code",
      "source": [
        "chi2, p, dof, expected = chi2_contingency(observed)"
      ],
      "metadata": {
        "id": "mjNfgyEqBuu5"
      },
      "execution_count": null,
      "outputs": []
    },
    {
      "cell_type": "markdown",
      "source": [
        "O formato da tabela de contingência que precisa passar para a função chi2_contingency é uma matriz em que as linhas representam as diferentes categorias de uma variável (neste caso, as sobremesas) e as colunas representam os diferentes grupos ou categorias da outra variável (por exemplo, homens e mulheres)."
      ],
      "metadata": {
        "id": "QEtO1nEsEHHD"
      }
    },
    {
      "cell_type": "code",
      "source": [
        "# Imprimir resultados\n",
        "print(\"Qui-Quadrado:\", chi2)\n",
        "print(\"Valor p:\", p)\n",
        "print(\"Graus de Liberdade:\", dof)\n",
        "print(\"Esperados:\", expected)"
      ],
      "metadata": {
        "colab": {
          "base_uri": "https://localhost:8080/"
        },
        "id": "hK1VKMULBw6S",
        "outputId": "37583a43-4333-45b3-8301-a93615ef5dbf"
      },
      "execution_count": null,
      "outputs": [
        {
          "output_type": "stream",
          "name": "stdout",
          "text": [
            "Qui-Quadrado: 7.111840904944351\n",
            "Valor p: 0.06841717881820417\n",
            "Graus de Liberdade: 3\n",
            "Esperados: [[13.05 15.95]\n",
            " [ 6.75  8.25]\n",
            " [15.75 19.25]\n",
            " [ 9.45 11.55]]\n"
          ]
        }
      ]
    },
    {
      "cell_type": "code",
      "source": [
        "h0 = 'Aceitamos que a Sobremesa é independente do sexo' if p > alfa else 'Rejeitamos que a sobremesa é independente do sexo'\n",
        "h0"
      ],
      "metadata": {
        "colab": {
          "base_uri": "https://localhost:8080/",
          "height": 36
        },
        "id": "ggvL1v8AEQtz",
        "outputId": "d3ec4476-894d-4ac1-8bc4-07756ee5ede8"
      },
      "execution_count": null,
      "outputs": [
        {
          "output_type": "execute_result",
          "data": {
            "text/plain": [
              "'Aceitamos que a Sobremesa é independente do sexo'"
            ],
            "application/vnd.google.colaboratory.intrinsic+json": {
              "type": "string"
            }
          },
          "metadata": {},
          "execution_count": 93
        }
      ]
    },
    {
      "cell_type": "markdown",
      "source": [
        "TESTE QUI QUADRADO DE **ADERÊNCIA (GOODNESS OF FIT)**"
      ],
      "metadata": {
        "id": "bvn-EGfPHpsc"
      }
    },
    {
      "cell_type": "markdown",
      "source": [
        "\n",
        "\n",
        "*   A amostragem deve ser aleatória\n",
        "*   A variável em estudo deve ser categórica (e não numérica)\n",
        "*   OS valores observados da variável em cada categoria devem ser, pelo menis iguais a 5 (havendo menores que 5, combina-se 2 ou mais categorias)\n",
        "\n",
        "\n",
        "\n",
        "\n"
      ],
      "metadata": {
        "id": "lJucN1gxINoE"
      }
    },
    {
      "cell_type": "markdown",
      "source": [
        "Exemplo\n",
        "\n",
        "Jogo de aposta com o lançamento de 2 dados, sendo o prêmio pago  proporcionalmente ao numero de vez que o numero 6 é obtido. Um apostador lança 60 vezes obtendo os resultados como o dicionário que segue a baixo. Conduza um teste qui-quadrado de aderência com um nível de significancia de 5%, para verificar se os dados utilizados neste jogo são honestos."
      ],
      "metadata": {
        "id": "cPPLBIzKKqA-"
      }
    },
    {
      "cell_type": "code",
      "source": [
        "# Frequências observadas\n",
        "dados_obs = [34, 18, 8]"
      ],
      "metadata": {
        "id": "LUrgJu0I6M6n"
      },
      "execution_count": null,
      "outputs": []
    },
    {
      "cell_type": "code",
      "source": [
        "# Número total de lançamentos\n",
        "total_lancamentos = sum(dados_obs) # Informado 60"
      ],
      "metadata": {
        "id": "-ni2-hBL6Y3Z"
      },
      "execution_count": null,
      "outputs": []
    },
    {
      "cell_type": "code",
      "source": [
        "# Probabilidade teórica de cada resultado\n",
        "prob_teorica = [(5/6)**2 * total_lancamentos, 2 * (1/6) * (5/6) * total_lancamentos, (1/6)**2 * total_lancamentos]\n",
        "prob_teorica"
      ],
      "metadata": {
        "colab": {
          "base_uri": "https://localhost:8080/"
        },
        "id": "KQJY6wNo6kLP",
        "outputId": "1569f59b-96e2-4fad-e896-34d1d489c186"
      },
      "execution_count": null,
      "outputs": [
        {
          "output_type": "execute_result",
          "data": {
            "text/plain": [
              "[41.66666666666667, 16.666666666666668, 1.6666666666666665]"
            ]
          },
          "metadata": {},
          "execution_count": 96
        }
      ]
    },
    {
      "cell_type": "markdown",
      "source": [
        " No teste qui-quadrado de aderência, o grau de liberdade (K) é igual a (número de categorias - 1), onde o número de categorias é o número de resultados possíveis menos 1."
      ],
      "metadata": {
        "id": "BKdVcivF71VU"
      }
    },
    {
      "cell_type": "markdown",
      "source": [
        "Aqui estão os principais parâmetros do método chisquare:\n",
        "\n",
        "**f_obs**: Este é o parâmetro obrigatório e representa as frequências observadas no seu conjunto de dados. É uma lista ou matriz de números inteiros que representam as contagens reais dos eventos ou categorias que você está analisando.\n",
        "\n",
        "**f_exp** (opcional): Este é o parâmetro opcional e representa as frequências esperadas sob a hipótese nula. Geralmente, você fornece essa lista ou matriz quando deseja comparar as frequências observadas com as frequências esperadas calculadas a partir de uma distribuição teórica específica. Se este parâmetro não for fornecido, o teste qui-quadrado será realizado para verificar a aderência das frequências observadas a uma distrib\n",
        "\n",
        "**ddof** (int, opcional): Grau de liberdade. Este parâmetro especifica o número de graus de liberdade do teste. Geralmente, é calculado como o número de categorias menos 1 (K - 1), onde K é o número de categorias nos seus dados.\n",
        "\n",
        "**axis** (int ou None, opcional): Eixo ao longo do qual as frequências são somadas antes de realizar o teste. Se None, as frequências são achatadas e o teste é aplicado globalmente aos dados.\n",
        "\n",
        "**nan_policy** ({\"propagate\", \"raise\", \"omit\"}, opcional): Especifica como lidar com valores NaN (Not-a-Number) nos dados. \"propagate\" permite que NaNs se propaguem pelos cálculos, \"raise\" gera um erro se houver NaNs e \"omit\" exclui NaNs dos cálculos.\n",
        "\n"
      ],
      "metadata": {
        "id": "jGv455lL9gvn"
      }
    },
    {
      "cell_type": "code",
      "source": [
        "# Nível de significância\n",
        "alfa = 0.05\n",
        "\n",
        "# Teste qui-quadrado de aderência\n",
        "chi2, p_valor = chisquare(f_obs=dados_obs, f_exp=prob_teorica, ddof=1)\n",
        "\n"
      ],
      "metadata": {
        "id": "wvjugAkF72cX"
      },
      "execution_count": null,
      "outputs": []
    },
    {
      "cell_type": "code",
      "source": [
        "resultado = 'Aceita-se h0' if p_valor > alfa else 'Reita-se h0 A situação não segue uam distribuição binomial'"
      ],
      "metadata": {
        "id": "CCPXffV18y6X"
      },
      "execution_count": null,
      "outputs": []
    },
    {
      "cell_type": "code",
      "source": [
        "# Imprimir resultados\n",
        "print(\"Estatística Qui-Quadrado:\", chi2)\n",
        "print(\"P-valor:\", p_valor)\n",
        "print(resultado)"
      ],
      "metadata": {
        "colab": {
          "base_uri": "https://localhost:8080/"
        },
        "id": "nAft3X1b8cYq",
        "outputId": "a1a39959-817e-45b5-ead6-3193b97c74a6"
      },
      "execution_count": null,
      "outputs": [
        {
          "output_type": "stream",
          "name": "stdout",
          "text": [
            "Estatística Qui-Quadrado: 25.584000000000007\n",
            "P-valor: 4.2353681123389017e-07\n",
            "Reita-se h0 A situação não segue uam distribuição binomial\n"
          ]
        }
      ]
    },
    {
      "cell_type": "markdown",
      "source": [
        "**TESTE ANOVA**\n",
        "Usado para comparar as médias de 3 ou mais amostras e verificar se há diferença estatística entre elas.\n",
        "\n",
        "Há vários tipos de amostras, aqui verificaremos **Anova 1 fator (one-way)** e **Anova 2 fatores (two-way)**\n",
        "\n",
        "1 way ANOVA\n",
        "\n",
        "Se a variância entre os grupos for significativamente maior do que a variância dentro dos grupos, então podemos rejeitar a hipótese nula e concluir que pelo menos um grupo tem uma média populacional diferente. Ex de fatores ou subcategorias diferentes tipos de dieta, ou diferentes tipo de doença ou até grupos raciais. As categorias seriam, dieta, doença e raça.\n",
        "\n",
        "2 way ANOVA\n",
        "\n",
        "ANOVA bidirecional é um método estatístico usado para analisar o efeito de duas variáveis independentes em uma variável dependente. Ele testa a hipótese nula de que não há interação entre as duas variáveis independentes e a variável dependente. Isso é feito comparando a variância entre os grupos com a variância dentro dos grupos para cada variável independente, bem como a interação entre as duas variáveis independentes. Se a variância entre os grupos for significativamente maior do que a variância dentro dos grupos para a variável independente ou para a interação, então podemos rejeitar a hipótese nula e concluir que pelo menos uma variável independente tem um efeito significativo na variável dependente. Leva em consideração 2 fatores ou duas categorias de modo que cada uma tem 2 ou mais suncategorias.Ex um estudo pode analisar os efeitos de 3 diferentes tipos de dieta e também as diferenças entre os sexo masculino e feminino."
      ],
      "metadata": {
        "id": "di7nIx33Q1lL"
      }
    },
    {
      "cell_type": "markdown",
      "source": [
        "As hipoteses são:\n",
        "\n",
        "H0 --> Assume sempre que as médias de cada subcategoria são iguais\n",
        "\n",
        "H1 --> Indica que pelo menos uma das médias não é igual às outras\n",
        "\n",
        "O teste estatistico é chamado de teste F (Fcalculado = razão entre a variancia entre amostras e intra-amostras). Assume que exista mesma variabilidade entre as populações correspondentes, ou seja , a variância populacional é a mesma para todas as populações.\n",
        "\n",
        "**O teste ANOVA é SEMPRE UNILATERAL à Direita!**\n",
        "\n",
        "Fcalc > Fcritico rejeita-se H0"
      ],
      "metadata": {
        "id": "5zgcPJP_Wgr6"
      }
    },
    {
      "cell_type": "markdown",
      "source": [
        "Exemplo\n",
        "\n",
        "Estudo para comparar a eficiência de frenagem de carros compactos, carros de médio porte e carros grandes. Conduz-se um teste com 5 amostras para cada veículos para cada umas das subcategorias. Conduza um teste ANOVA 1 Fator para decidir se há diferenças significativas na distancia média de frenagem (em metros) para reduzir a velocidade  de 90km/h. Considere o nível de significancia de 5%"
      ],
      "metadata": {
        "id": "GG2qSKFZZjhG"
      }
    },
    {
      "cell_type": "markdown",
      "source": [
        "HIPÓTESES\n",
        "\n",
        "H0: media_compacto = media+medio_porte = media_grande\n",
        "\n",
        "H1: As distancias médias não são todas iguais"
      ],
      "metadata": {
        "id": "1HQE1Z6BcsUS"
      }
    },
    {
      "cell_type": "markdown",
      "source": [
        "Uma as formas de clacular o F é usando a tabela ANOVA"
      ],
      "metadata": {
        "id": "chcLKmbzpDKh"
      }
    },
    {
      "cell_type": "code",
      "source": [
        "import numpy as np\n",
        "import scipy.stats as stats"
      ],
      "metadata": {
        "id": "om-phWH0S-qd"
      },
      "execution_count": null,
      "outputs": []
    },
    {
      "cell_type": "code",
      "source": [
        "alpha =0.05\n",
        "campacto = np.array([37, 39, 42, 44, 39])\n",
        "medio_porte = np.array([45, 46, 49, 39, 45])\n",
        "grande = np.array([46, 51, 48, 46, 54])\n"
      ],
      "metadata": {
        "id": "r3LYeuFjbbf6"
      },
      "execution_count": null,
      "outputs": []
    },
    {
      "cell_type": "code",
      "source": [
        "# Calculo do p e do F\n",
        "f_calc, p_value = stats.f_oneway(campacto, medio_porte, grande)\n",
        "print('P_value', p_value)\n",
        "print('F calculado', f_calc)"
      ],
      "metadata": {
        "colab": {
          "base_uri": "https://localhost:8080/"
        },
        "id": "aqjVKiZKiLtp",
        "outputId": "8ffeca59-bb96-4e23-a722-ad9586684ee9"
      },
      "execution_count": null,
      "outputs": [
        {
          "output_type": "stream",
          "name": "stdout",
          "text": [
            "P_value 0.00438090623458213\n",
            "F calculado 8.832826747720368\n"
          ]
        }
      ]
    },
    {
      "cell_type": "code",
      "source": [
        "h0 = 'Aceitamos h0' if p_value > alpha else 'Rejeitamos h0'\n",
        "h0"
      ],
      "metadata": {
        "colab": {
          "base_uri": "https://localhost:8080/",
          "height": 36
        },
        "id": "gSkdz1NNivve",
        "outputId": "12d8d78e-7600-4aa5-d901-f426079d746c"
      },
      "execution_count": null,
      "outputs": [
        {
          "output_type": "execute_result",
          "data": {
            "text/plain": [
              "'Rejeitamos h0'"
            ],
            "application/vnd.google.colaboratory.intrinsic+json": {
              "type": "string"
            }
          },
          "metadata": {},
          "execution_count": 103
        }
      ]
    },
    {
      "cell_type": "markdown",
      "source": [
        "**TESTE ANOVA 2 FATORES SEM REPETIÇÃO**"
      ],
      "metadata": {
        "id": "Q4RRhHjjEaO-"
      }
    },
    {
      "cell_type": "markdown",
      "source": [
        "Exercício:\n",
        "\n",
        "Queremos saber se há diferença significativas na potência de um chute em uma bola de futebol dependendo do modelo da chuteira utilizada, para diferente jogadores. Os dados a seguir mostram amostragem de 3 tipos de chuteira para cinco jogadores diferentes. Veja que para cada jogador foi coletado apenas uma amostra para cada tipo de chuteira."
      ],
      "metadata": {
        "id": "Xb_1Y0EhEgRD"
      }
    },
    {
      "cell_type": "markdown",
      "source": [
        "Estabelecendo as hipóteses\n",
        "\n",
        "Linhas (jogadores): H0 : mediaA = mediaB = mediaC= mediaD = mediaE\n",
        "                    H1: As velocidades médias não são todas iguais\n",
        "\n",
        "Colunas (Chuteiras): H0: media1 = media2 = media3\n",
        "                     H1: As velocidades médias não são todas iguais"
      ],
      "metadata": {
        "id": "OvEUBKwgLZzE"
      }
    },
    {
      "cell_type": "code",
      "source": [
        "import numpy as np\n",
        "import scipy.stats as stats\n",
        "import pandas as pd"
      ],
      "metadata": {
        "id": "yRzoCLBWJ9YA"
      },
      "execution_count": null,
      "outputs": []
    },
    {
      "cell_type": "code",
      "source": [
        "alpha = 0.05"
      ],
      "metadata": {
        "id": "rwQDfg44LIHd"
      },
      "execution_count": null,
      "outputs": []
    },
    {
      "cell_type": "code",
      "source": [
        "jogadores = ['JogadorA', 'JogadorB', 'JogadorC', 'JogadorD', 'JogadorE']\n",
        "chuteiras = {'Chuteira1': [155, 138, 106, 199, 175], 'Chuteira2': [167, 132, 127, 200, 165],'Chuteira3': [145, 130, 128, 183, 168] }"
      ],
      "metadata": {
        "id": "dRmq63VuKApu"
      },
      "execution_count": null,
      "outputs": []
    },
    {
      "cell_type": "code",
      "source": [
        "tabela = pd.DataFrame(data=chuteiras, index=jogadores)\n",
        "tabela"
      ],
      "metadata": {
        "colab": {
          "base_uri": "https://localhost:8080/",
          "height": 206
        },
        "id": "Ple66FuIK119",
        "outputId": "d319c03b-eb70-411a-9600-ff1f8e055184"
      },
      "execution_count": null,
      "outputs": [
        {
          "output_type": "execute_result",
          "data": {
            "text/plain": [
              "          Chuteira1  Chuteira2  Chuteira3\n",
              "JogadorA        155        167        145\n",
              "JogadorB        138        132        130\n",
              "JogadorC        106        127        128\n",
              "JogadorD        199        200        183\n",
              "JogadorE        175        165        168"
            ],
            "text/html": [
              "\n",
              "  <div id=\"df-3a2960ed-74f8-4495-af8c-93cb7260413a\" class=\"colab-df-container\">\n",
              "    <div>\n",
              "<style scoped>\n",
              "    .dataframe tbody tr th:only-of-type {\n",
              "        vertical-align: middle;\n",
              "    }\n",
              "\n",
              "    .dataframe tbody tr th {\n",
              "        vertical-align: top;\n",
              "    }\n",
              "\n",
              "    .dataframe thead th {\n",
              "        text-align: right;\n",
              "    }\n",
              "</style>\n",
              "<table border=\"1\" class=\"dataframe\">\n",
              "  <thead>\n",
              "    <tr style=\"text-align: right;\">\n",
              "      <th></th>\n",
              "      <th>Chuteira1</th>\n",
              "      <th>Chuteira2</th>\n",
              "      <th>Chuteira3</th>\n",
              "    </tr>\n",
              "  </thead>\n",
              "  <tbody>\n",
              "    <tr>\n",
              "      <th>JogadorA</th>\n",
              "      <td>155</td>\n",
              "      <td>167</td>\n",
              "      <td>145</td>\n",
              "    </tr>\n",
              "    <tr>\n",
              "      <th>JogadorB</th>\n",
              "      <td>138</td>\n",
              "      <td>132</td>\n",
              "      <td>130</td>\n",
              "    </tr>\n",
              "    <tr>\n",
              "      <th>JogadorC</th>\n",
              "      <td>106</td>\n",
              "      <td>127</td>\n",
              "      <td>128</td>\n",
              "    </tr>\n",
              "    <tr>\n",
              "      <th>JogadorD</th>\n",
              "      <td>199</td>\n",
              "      <td>200</td>\n",
              "      <td>183</td>\n",
              "    </tr>\n",
              "    <tr>\n",
              "      <th>JogadorE</th>\n",
              "      <td>175</td>\n",
              "      <td>165</td>\n",
              "      <td>168</td>\n",
              "    </tr>\n",
              "  </tbody>\n",
              "</table>\n",
              "</div>\n",
              "    <div class=\"colab-df-buttons\">\n",
              "\n",
              "  <div class=\"colab-df-container\">\n",
              "    <button class=\"colab-df-convert\" onclick=\"convertToInteractive('df-3a2960ed-74f8-4495-af8c-93cb7260413a')\"\n",
              "            title=\"Convert this dataframe to an interactive table.\"\n",
              "            style=\"display:none;\">\n",
              "\n",
              "  <svg xmlns=\"http://www.w3.org/2000/svg\" height=\"24px\" viewBox=\"0 -960 960 960\">\n",
              "    <path d=\"M120-120v-720h720v720H120Zm60-500h600v-160H180v160Zm220 220h160v-160H400v160Zm0 220h160v-160H400v160ZM180-400h160v-160H180v160Zm440 0h160v-160H620v160ZM180-180h160v-160H180v160Zm440 0h160v-160H620v160Z\"/>\n",
              "  </svg>\n",
              "    </button>\n",
              "\n",
              "  <style>\n",
              "    .colab-df-container {\n",
              "      display:flex;\n",
              "      gap: 12px;\n",
              "    }\n",
              "\n",
              "    .colab-df-convert {\n",
              "      background-color: #E8F0FE;\n",
              "      border: none;\n",
              "      border-radius: 50%;\n",
              "      cursor: pointer;\n",
              "      display: none;\n",
              "      fill: #1967D2;\n",
              "      height: 32px;\n",
              "      padding: 0 0 0 0;\n",
              "      width: 32px;\n",
              "    }\n",
              "\n",
              "    .colab-df-convert:hover {\n",
              "      background-color: #E2EBFA;\n",
              "      box-shadow: 0px 1px 2px rgba(60, 64, 67, 0.3), 0px 1px 3px 1px rgba(60, 64, 67, 0.15);\n",
              "      fill: #174EA6;\n",
              "    }\n",
              "\n",
              "    .colab-df-buttons div {\n",
              "      margin-bottom: 4px;\n",
              "    }\n",
              "\n",
              "    [theme=dark] .colab-df-convert {\n",
              "      background-color: #3B4455;\n",
              "      fill: #D2E3FC;\n",
              "    }\n",
              "\n",
              "    [theme=dark] .colab-df-convert:hover {\n",
              "      background-color: #434B5C;\n",
              "      box-shadow: 0px 1px 3px 1px rgba(0, 0, 0, 0.15);\n",
              "      filter: drop-shadow(0px 1px 2px rgba(0, 0, 0, 0.3));\n",
              "      fill: #FFFFFF;\n",
              "    }\n",
              "  </style>\n",
              "\n",
              "    <script>\n",
              "      const buttonEl =\n",
              "        document.querySelector('#df-3a2960ed-74f8-4495-af8c-93cb7260413a button.colab-df-convert');\n",
              "      buttonEl.style.display =\n",
              "        google.colab.kernel.accessAllowed ? 'block' : 'none';\n",
              "\n",
              "      async function convertToInteractive(key) {\n",
              "        const element = document.querySelector('#df-3a2960ed-74f8-4495-af8c-93cb7260413a');\n",
              "        const dataTable =\n",
              "          await google.colab.kernel.invokeFunction('convertToInteractive',\n",
              "                                                    [key], {});\n",
              "        if (!dataTable) return;\n",
              "\n",
              "        const docLinkHtml = 'Like what you see? Visit the ' +\n",
              "          '<a target=\"_blank\" href=https://colab.research.google.com/notebooks/data_table.ipynb>data table notebook</a>'\n",
              "          + ' to learn more about interactive tables.';\n",
              "        element.innerHTML = '';\n",
              "        dataTable['output_type'] = 'display_data';\n",
              "        await google.colab.output.renderOutput(dataTable, element);\n",
              "        const docLink = document.createElement('div');\n",
              "        docLink.innerHTML = docLinkHtml;\n",
              "        element.appendChild(docLink);\n",
              "      }\n",
              "    </script>\n",
              "  </div>\n",
              "\n",
              "\n",
              "<div id=\"df-c2cc2b81-b2f8-4245-ad79-cab6337610eb\">\n",
              "  <button class=\"colab-df-quickchart\" onclick=\"quickchart('df-c2cc2b81-b2f8-4245-ad79-cab6337610eb')\"\n",
              "            title=\"Suggest charts.\"\n",
              "            style=\"display:none;\">\n",
              "\n",
              "<svg xmlns=\"http://www.w3.org/2000/svg\" height=\"24px\"viewBox=\"0 0 24 24\"\n",
              "     width=\"24px\">\n",
              "    <g>\n",
              "        <path d=\"M19 3H5c-1.1 0-2 .9-2 2v14c0 1.1.9 2 2 2h14c1.1 0 2-.9 2-2V5c0-1.1-.9-2-2-2zM9 17H7v-7h2v7zm4 0h-2V7h2v10zm4 0h-2v-4h2v4z\"/>\n",
              "    </g>\n",
              "</svg>\n",
              "  </button>\n",
              "\n",
              "<style>\n",
              "  .colab-df-quickchart {\n",
              "      --bg-color: #E8F0FE;\n",
              "      --fill-color: #1967D2;\n",
              "      --hover-bg-color: #E2EBFA;\n",
              "      --hover-fill-color: #174EA6;\n",
              "      --disabled-fill-color: #AAA;\n",
              "      --disabled-bg-color: #DDD;\n",
              "  }\n",
              "\n",
              "  [theme=dark] .colab-df-quickchart {\n",
              "      --bg-color: #3B4455;\n",
              "      --fill-color: #D2E3FC;\n",
              "      --hover-bg-color: #434B5C;\n",
              "      --hover-fill-color: #FFFFFF;\n",
              "      --disabled-bg-color: #3B4455;\n",
              "      --disabled-fill-color: #666;\n",
              "  }\n",
              "\n",
              "  .colab-df-quickchart {\n",
              "    background-color: var(--bg-color);\n",
              "    border: none;\n",
              "    border-radius: 50%;\n",
              "    cursor: pointer;\n",
              "    display: none;\n",
              "    fill: var(--fill-color);\n",
              "    height: 32px;\n",
              "    padding: 0;\n",
              "    width: 32px;\n",
              "  }\n",
              "\n",
              "  .colab-df-quickchart:hover {\n",
              "    background-color: var(--hover-bg-color);\n",
              "    box-shadow: 0 1px 2px rgba(60, 64, 67, 0.3), 0 1px 3px 1px rgba(60, 64, 67, 0.15);\n",
              "    fill: var(--button-hover-fill-color);\n",
              "  }\n",
              "\n",
              "  .colab-df-quickchart-complete:disabled,\n",
              "  .colab-df-quickchart-complete:disabled:hover {\n",
              "    background-color: var(--disabled-bg-color);\n",
              "    fill: var(--disabled-fill-color);\n",
              "    box-shadow: none;\n",
              "  }\n",
              "\n",
              "  .colab-df-spinner {\n",
              "    border: 2px solid var(--fill-color);\n",
              "    border-color: transparent;\n",
              "    border-bottom-color: var(--fill-color);\n",
              "    animation:\n",
              "      spin 1s steps(1) infinite;\n",
              "  }\n",
              "\n",
              "  @keyframes spin {\n",
              "    0% {\n",
              "      border-color: transparent;\n",
              "      border-bottom-color: var(--fill-color);\n",
              "      border-left-color: var(--fill-color);\n",
              "    }\n",
              "    20% {\n",
              "      border-color: transparent;\n",
              "      border-left-color: var(--fill-color);\n",
              "      border-top-color: var(--fill-color);\n",
              "    }\n",
              "    30% {\n",
              "      border-color: transparent;\n",
              "      border-left-color: var(--fill-color);\n",
              "      border-top-color: var(--fill-color);\n",
              "      border-right-color: var(--fill-color);\n",
              "    }\n",
              "    40% {\n",
              "      border-color: transparent;\n",
              "      border-right-color: var(--fill-color);\n",
              "      border-top-color: var(--fill-color);\n",
              "    }\n",
              "    60% {\n",
              "      border-color: transparent;\n",
              "      border-right-color: var(--fill-color);\n",
              "    }\n",
              "    80% {\n",
              "      border-color: transparent;\n",
              "      border-right-color: var(--fill-color);\n",
              "      border-bottom-color: var(--fill-color);\n",
              "    }\n",
              "    90% {\n",
              "      border-color: transparent;\n",
              "      border-bottom-color: var(--fill-color);\n",
              "    }\n",
              "  }\n",
              "</style>\n",
              "\n",
              "  <script>\n",
              "    async function quickchart(key) {\n",
              "      const quickchartButtonEl =\n",
              "        document.querySelector('#' + key + ' button');\n",
              "      quickchartButtonEl.disabled = true;  // To prevent multiple clicks.\n",
              "      quickchartButtonEl.classList.add('colab-df-spinner');\n",
              "      try {\n",
              "        const charts = await google.colab.kernel.invokeFunction(\n",
              "            'suggestCharts', [key], {});\n",
              "      } catch (error) {\n",
              "        console.error('Error during call to suggestCharts:', error);\n",
              "      }\n",
              "      quickchartButtonEl.classList.remove('colab-df-spinner');\n",
              "      quickchartButtonEl.classList.add('colab-df-quickchart-complete');\n",
              "    }\n",
              "    (() => {\n",
              "      let quickchartButtonEl =\n",
              "        document.querySelector('#df-c2cc2b81-b2f8-4245-ad79-cab6337610eb button');\n",
              "      quickchartButtonEl.style.display =\n",
              "        google.colab.kernel.accessAllowed ? 'block' : 'none';\n",
              "    })();\n",
              "  </script>\n",
              "</div>\n",
              "    </div>\n",
              "  </div>\n"
            ]
          },
          "metadata": {},
          "execution_count": 107
        }
      ]
    },
    {
      "cell_type": "markdown",
      "source": [
        "A ANOVA de dois fatores sem reposição é usada quando cada combinação de níveis de fatores é testada apenas uma vez. Neste caso, temos dois fatores: o tipo de chuteira e o jogador. Para realizar a ANOVA de dois fatores sem reposição, você pode seguir os seguintes passos:\n",
        "\n",
        "Calcular a média geral de todos os dados.\n",
        "\n",
        "Calcular a soma dos quadrados total (SST), que é a soma dos quadrados das diferenças entre cada valor e a média geral.\n",
        "\n",
        "Calcular a soma dos quadrados dos jogadores (SSP), que é a soma dos quadrados das diferenças entre a média de cada jogador e a média geral.\n",
        "\n",
        "Calcular a soma dos quadrados das chuteiras (SSC), que é a soma dos quadrados das diferenças entre a média de cada tipo de chuteira e a média geral.\n",
        "\n",
        "Calcular a soma dos quadrados das interações (SSPI), que é a soma dos quadrados das diferenças entre a média de cada combinação de jogador e tipo de chuteira e a média geral.\n",
        "\n",
        "Calcular os graus de liberdade total (dft), que é o número total de observações menos 1.\n",
        "\n",
        "Calcular os graus de liberdade dos jogadores (dfp), que é o número de jogadores menos 1.\n",
        "\n",
        "Calcular os graus de liberdade das chuteiras (dfc), que é o número de tipos de chuteira menos 1.\n",
        "\n",
        "Calcular os graus de liberdade das interações (dfpi), que é o produto dos graus de liberdade dos jogadores e das chuteiras.\n",
        "\n",
        "Calcular o quadrado médio dos jogadores (MSP), que é a razão entre SSP e dfp.\n",
        "\n",
        "Calcular o quadrado médio das chuteiras (MSC), que é a razão entre SSC e dfc.\n",
        "\n",
        "Calcular o quadrado médio das interações (MSPI), que é a razão entre SSPI e dfpi.\n",
        "\n",
        "Calcular o valor F para os jogadores (FP), que é a razão entre MSP e MSPI.\n",
        "\n",
        "Calcular o valor F para as chuteiras (FC), que é a razão entre MSC e MSPI.\n",
        "\n",
        "Calcular o valor p para os jogadores (p_value_p), que é a probabilidade de obter um valor F igual ou maior que FP, dado que a hipótese nula é verdadeira.\n",
        "\n",
        "Calcular o valor p para as chuteiras (p_value_c), que é a probabilidade de obter um valor F igual ou maior que FC, dado que a hipótese nula é verdadeira.\n",
        "\n",
        "Comparar os valores p com o nível de significância (alfa) para determinar se há diferenças significativas entre os jogadores, chuteiras ou interações.\n"
      ],
      "metadata": {
        "id": "XvaaG6AfSTD9"
      }
    },
    {
      "cell_type": "code",
      "source": [
        "linhas = tabela.shape[0]\n",
        "colunas = tabela.shape[1]\n",
        "print(linhas, colunas)"
      ],
      "metadata": {
        "colab": {
          "base_uri": "https://localhost:8080/"
        },
        "id": "qVVFcZ0HTma3",
        "outputId": "edb46d88-e1f6-45de-bdc7-2cc2e2fb2d11"
      },
      "execution_count": null,
      "outputs": [
        {
          "output_type": "stream",
          "name": "stdout",
          "text": [
            "5 3\n"
          ]
        }
      ]
    },
    {
      "cell_type": "code",
      "source": [
        "# Calcular a média geral\n",
        "media_geral = tabela.values.mean()\n",
        "media_geral"
      ],
      "metadata": {
        "colab": {
          "base_uri": "https://localhost:8080/"
        },
        "id": "KB5TpSKgPMuC",
        "outputId": "afbaa27e-e704-4210-db44-133ceb47c430"
      },
      "execution_count": null,
      "outputs": [
        {
          "output_type": "execute_result",
          "data": {
            "text/plain": [
              "154.53333333333333"
            ]
          },
          "metadata": {},
          "execution_count": 109
        }
      ]
    },
    {
      "cell_type": "code",
      "source": [
        "# Calcular a soma dos quadrados total (SQT)\n",
        "sqt = ((tabela - media_geral) ** 2).sum().sum()\n",
        "sqt"
      ],
      "metadata": {
        "colab": {
          "base_uri": "https://localhost:8080/"
        },
        "id": "cq64RmxsSsdh",
        "outputId": "dab23b41-e86b-4164-d225-c0ff2bf8a1d5"
      },
      "execution_count": null,
      "outputs": [
        {
          "output_type": "execute_result",
          "data": {
            "text/plain": [
              "11011.733333333334"
            ]
          },
          "metadata": {},
          "execution_count": 110
        }
      ]
    },
    {
      "cell_type": "code",
      "source": [
        "# Calcular a soma dos quadrados dos jogadores (SQL) LINHAS\n",
        "ssp = ((tabela.mean(axis=1) - media_geral) ** 2).sum() * tabela.shape[1]\n",
        "ssp"
      ],
      "metadata": {
        "colab": {
          "base_uri": "https://localhost:8080/"
        },
        "id": "bYQDFNyeS-3G",
        "outputId": "7db6620c-f044-42e5-a2c8-fc11955e4325"
      },
      "execution_count": null,
      "outputs": [
        {
          "output_type": "execute_result",
          "data": {
            "text/plain": [
              "10191.066666666668"
            ]
          },
          "metadata": {},
          "execution_count": 111
        }
      ]
    },
    {
      "cell_type": "code",
      "source": [
        "# Calcular a soma dos quadrados das chuteiras (SQC) COLUNAS\n",
        "ssc = ((tabela.mean(axis=0) - media_geral) ** 2).sum() * tabela.shape[0]\n",
        "ssc"
      ],
      "metadata": {
        "colab": {
          "base_uri": "https://localhost:8080/"
        },
        "id": "uj4bE1jxTQyd",
        "outputId": "520cf110-06fa-4683-dc05-e9227b11dd07"
      },
      "execution_count": null,
      "outputs": [
        {
          "output_type": "execute_result",
          "data": {
            "text/plain": [
              "136.93333333333248"
            ]
          },
          "metadata": {},
          "execution_count": 112
        }
      ]
    },
    {
      "cell_type": "code",
      "source": [
        "# Calcular a soma dos quadrados das interações (RESÍDUO - ERROR)\n",
        "sspi = sqt - ssp - ssc\n",
        "sspi"
      ],
      "metadata": {
        "colab": {
          "base_uri": "https://localhost:8080/"
        },
        "id": "IY9b8kcvTZxx",
        "outputId": "d49734b7-8231-4911-c5d6-9212479b9187"
      },
      "execution_count": null,
      "outputs": [
        {
          "output_type": "execute_result",
          "data": {
            "text/plain": [
              "683.7333333333336"
            ]
          },
          "metadata": {},
          "execution_count": 113
        }
      ]
    },
    {
      "cell_type": "code",
      "source": [
        "# Calcular os graus de liberdade\n",
        "dft = tabela.size - 1\n",
        "dfp = tabela.shape[0] - 1\n",
        "dfc = tabela.shape[1] - 1\n",
        "dfpi = dfp * dfc"
      ],
      "metadata": {
        "id": "wVMP07UVT1rc"
      },
      "execution_count": null,
      "outputs": []
    },
    {
      "cell_type": "code",
      "source": [
        "# Calcular os quadrados médios\n",
        "msp = ssp / dfp\n",
        "msc = ssc / dfc\n",
        "mspi = sspi / dfpi"
      ],
      "metadata": {
        "id": "_u5T0G56UTGt"
      },
      "execution_count": null,
      "outputs": []
    },
    {
      "cell_type": "code",
      "source": [
        "# Calcular os valores F e p\n",
        "fp = msp / mspi\n",
        "fc = msc / mspi\n",
        "p_value_p = 1 - stats.f.cdf(fp, dfp, dfpi)\n",
        "p_value_c = 1 - stats.f.cdf(fc, dfc, dfpi)"
      ],
      "metadata": {
        "id": "PwpYifhDUave"
      },
      "execution_count": null,
      "outputs": []
    },
    {
      "cell_type": "code",
      "source": [
        "# Exibir os resultados\n",
        "print(\"Valor F para jogadores:\", fp)\n",
        "print(\"Valor F para chuteiras:\", fc)\n",
        "print(\"Valor p para jogadores:\", p_value_p)\n",
        "print(\"Valor p para chuteiras:\", p_value_c)"
      ],
      "metadata": {
        "colab": {
          "base_uri": "https://localhost:8080/"
        },
        "id": "P56DfWk8Uf20",
        "outputId": "10487121-f40e-4f28-f509-fb8d9cf5080f"
      },
      "execution_count": null,
      "outputs": [
        {
          "output_type": "stream",
          "name": "stdout",
          "text": [
            "Valor F para jogadores: 29.81006240249609\n",
            "Valor F para chuteiras: 0.801092043681742\n",
            "Valor p para jogadores: 7.420257968659971e-05\n",
            "Valor p para chuteiras: 0.481814468058946\n"
          ]
        }
      ]
    },
    {
      "cell_type": "markdown",
      "source": [
        "REFAZENDO AS CONTAS\n",
        "https://www.youtube.com/watch?v=zblF5nfVyJw&ab_channel=diogoheronMacowski\n"
      ],
      "metadata": {
        "id": "QgWXDYzVYBxp"
      }
    },
    {
      "cell_type": "code",
      "source": [
        "import numpy as np\n",
        "import scipy.stats as stats\n",
        "import pandas as pd"
      ],
      "metadata": {
        "id": "WCsHPcLJYBQA"
      },
      "execution_count": null,
      "outputs": []
    },
    {
      "cell_type": "code",
      "source": [
        "jogadores = ['JogadorA', 'JogadorB', 'JogadorC', 'JogadorD', 'JogadorE']\n",
        "chuteiras = {'Chuteira1': [155, 138, 106, 199, 175], 'Chuteira2': [167, 132, 127, 200, 165],'Chuteira3': [145, 130, 128, 183, 168] }"
      ],
      "metadata": {
        "id": "tiHeP2TPcyiU"
      },
      "execution_count": null,
      "outputs": []
    },
    {
      "cell_type": "code",
      "source": [
        "tabela = pd.DataFrame(data=chuteiras, index=jogadores)\n",
        "tabela"
      ],
      "metadata": {
        "colab": {
          "base_uri": "https://localhost:8080/",
          "height": 206
        },
        "id": "kA_ZXNDgc9Fj",
        "outputId": "80ca4770-0d83-4c90-b177-2761b848527a"
      },
      "execution_count": null,
      "outputs": [
        {
          "output_type": "execute_result",
          "data": {
            "text/plain": [
              "          Chuteira1  Chuteira2  Chuteira3\n",
              "JogadorA        155        167        145\n",
              "JogadorB        138        132        130\n",
              "JogadorC        106        127        128\n",
              "JogadorD        199        200        183\n",
              "JogadorE        175        165        168"
            ],
            "text/html": [
              "\n",
              "  <div id=\"df-97ebafef-9506-4c73-a00a-20d4108742f0\" class=\"colab-df-container\">\n",
              "    <div>\n",
              "<style scoped>\n",
              "    .dataframe tbody tr th:only-of-type {\n",
              "        vertical-align: middle;\n",
              "    }\n",
              "\n",
              "    .dataframe tbody tr th {\n",
              "        vertical-align: top;\n",
              "    }\n",
              "\n",
              "    .dataframe thead th {\n",
              "        text-align: right;\n",
              "    }\n",
              "</style>\n",
              "<table border=\"1\" class=\"dataframe\">\n",
              "  <thead>\n",
              "    <tr style=\"text-align: right;\">\n",
              "      <th></th>\n",
              "      <th>Chuteira1</th>\n",
              "      <th>Chuteira2</th>\n",
              "      <th>Chuteira3</th>\n",
              "    </tr>\n",
              "  </thead>\n",
              "  <tbody>\n",
              "    <tr>\n",
              "      <th>JogadorA</th>\n",
              "      <td>155</td>\n",
              "      <td>167</td>\n",
              "      <td>145</td>\n",
              "    </tr>\n",
              "    <tr>\n",
              "      <th>JogadorB</th>\n",
              "      <td>138</td>\n",
              "      <td>132</td>\n",
              "      <td>130</td>\n",
              "    </tr>\n",
              "    <tr>\n",
              "      <th>JogadorC</th>\n",
              "      <td>106</td>\n",
              "      <td>127</td>\n",
              "      <td>128</td>\n",
              "    </tr>\n",
              "    <tr>\n",
              "      <th>JogadorD</th>\n",
              "      <td>199</td>\n",
              "      <td>200</td>\n",
              "      <td>183</td>\n",
              "    </tr>\n",
              "    <tr>\n",
              "      <th>JogadorE</th>\n",
              "      <td>175</td>\n",
              "      <td>165</td>\n",
              "      <td>168</td>\n",
              "    </tr>\n",
              "  </tbody>\n",
              "</table>\n",
              "</div>\n",
              "    <div class=\"colab-df-buttons\">\n",
              "\n",
              "  <div class=\"colab-df-container\">\n",
              "    <button class=\"colab-df-convert\" onclick=\"convertToInteractive('df-97ebafef-9506-4c73-a00a-20d4108742f0')\"\n",
              "            title=\"Convert this dataframe to an interactive table.\"\n",
              "            style=\"display:none;\">\n",
              "\n",
              "  <svg xmlns=\"http://www.w3.org/2000/svg\" height=\"24px\" viewBox=\"0 -960 960 960\">\n",
              "    <path d=\"M120-120v-720h720v720H120Zm60-500h600v-160H180v160Zm220 220h160v-160H400v160Zm0 220h160v-160H400v160ZM180-400h160v-160H180v160Zm440 0h160v-160H620v160ZM180-180h160v-160H180v160Zm440 0h160v-160H620v160Z\"/>\n",
              "  </svg>\n",
              "    </button>\n",
              "\n",
              "  <style>\n",
              "    .colab-df-container {\n",
              "      display:flex;\n",
              "      gap: 12px;\n",
              "    }\n",
              "\n",
              "    .colab-df-convert {\n",
              "      background-color: #E8F0FE;\n",
              "      border: none;\n",
              "      border-radius: 50%;\n",
              "      cursor: pointer;\n",
              "      display: none;\n",
              "      fill: #1967D2;\n",
              "      height: 32px;\n",
              "      padding: 0 0 0 0;\n",
              "      width: 32px;\n",
              "    }\n",
              "\n",
              "    .colab-df-convert:hover {\n",
              "      background-color: #E2EBFA;\n",
              "      box-shadow: 0px 1px 2px rgba(60, 64, 67, 0.3), 0px 1px 3px 1px rgba(60, 64, 67, 0.15);\n",
              "      fill: #174EA6;\n",
              "    }\n",
              "\n",
              "    .colab-df-buttons div {\n",
              "      margin-bottom: 4px;\n",
              "    }\n",
              "\n",
              "    [theme=dark] .colab-df-convert {\n",
              "      background-color: #3B4455;\n",
              "      fill: #D2E3FC;\n",
              "    }\n",
              "\n",
              "    [theme=dark] .colab-df-convert:hover {\n",
              "      background-color: #434B5C;\n",
              "      box-shadow: 0px 1px 3px 1px rgba(0, 0, 0, 0.15);\n",
              "      filter: drop-shadow(0px 1px 2px rgba(0, 0, 0, 0.3));\n",
              "      fill: #FFFFFF;\n",
              "    }\n",
              "  </style>\n",
              "\n",
              "    <script>\n",
              "      const buttonEl =\n",
              "        document.querySelector('#df-97ebafef-9506-4c73-a00a-20d4108742f0 button.colab-df-convert');\n",
              "      buttonEl.style.display =\n",
              "        google.colab.kernel.accessAllowed ? 'block' : 'none';\n",
              "\n",
              "      async function convertToInteractive(key) {\n",
              "        const element = document.querySelector('#df-97ebafef-9506-4c73-a00a-20d4108742f0');\n",
              "        const dataTable =\n",
              "          await google.colab.kernel.invokeFunction('convertToInteractive',\n",
              "                                                    [key], {});\n",
              "        if (!dataTable) return;\n",
              "\n",
              "        const docLinkHtml = 'Like what you see? Visit the ' +\n",
              "          '<a target=\"_blank\" href=https://colab.research.google.com/notebooks/data_table.ipynb>data table notebook</a>'\n",
              "          + ' to learn more about interactive tables.';\n",
              "        element.innerHTML = '';\n",
              "        dataTable['output_type'] = 'display_data';\n",
              "        await google.colab.output.renderOutput(dataTable, element);\n",
              "        const docLink = document.createElement('div');\n",
              "        docLink.innerHTML = docLinkHtml;\n",
              "        element.appendChild(docLink);\n",
              "      }\n",
              "    </script>\n",
              "  </div>\n",
              "\n",
              "\n",
              "<div id=\"df-ec5bf78b-87f1-4a1b-98b2-568de9a830e4\">\n",
              "  <button class=\"colab-df-quickchart\" onclick=\"quickchart('df-ec5bf78b-87f1-4a1b-98b2-568de9a830e4')\"\n",
              "            title=\"Suggest charts.\"\n",
              "            style=\"display:none;\">\n",
              "\n",
              "<svg xmlns=\"http://www.w3.org/2000/svg\" height=\"24px\"viewBox=\"0 0 24 24\"\n",
              "     width=\"24px\">\n",
              "    <g>\n",
              "        <path d=\"M19 3H5c-1.1 0-2 .9-2 2v14c0 1.1.9 2 2 2h14c1.1 0 2-.9 2-2V5c0-1.1-.9-2-2-2zM9 17H7v-7h2v7zm4 0h-2V7h2v10zm4 0h-2v-4h2v4z\"/>\n",
              "    </g>\n",
              "</svg>\n",
              "  </button>\n",
              "\n",
              "<style>\n",
              "  .colab-df-quickchart {\n",
              "      --bg-color: #E8F0FE;\n",
              "      --fill-color: #1967D2;\n",
              "      --hover-bg-color: #E2EBFA;\n",
              "      --hover-fill-color: #174EA6;\n",
              "      --disabled-fill-color: #AAA;\n",
              "      --disabled-bg-color: #DDD;\n",
              "  }\n",
              "\n",
              "  [theme=dark] .colab-df-quickchart {\n",
              "      --bg-color: #3B4455;\n",
              "      --fill-color: #D2E3FC;\n",
              "      --hover-bg-color: #434B5C;\n",
              "      --hover-fill-color: #FFFFFF;\n",
              "      --disabled-bg-color: #3B4455;\n",
              "      --disabled-fill-color: #666;\n",
              "  }\n",
              "\n",
              "  .colab-df-quickchart {\n",
              "    background-color: var(--bg-color);\n",
              "    border: none;\n",
              "    border-radius: 50%;\n",
              "    cursor: pointer;\n",
              "    display: none;\n",
              "    fill: var(--fill-color);\n",
              "    height: 32px;\n",
              "    padding: 0;\n",
              "    width: 32px;\n",
              "  }\n",
              "\n",
              "  .colab-df-quickchart:hover {\n",
              "    background-color: var(--hover-bg-color);\n",
              "    box-shadow: 0 1px 2px rgba(60, 64, 67, 0.3), 0 1px 3px 1px rgba(60, 64, 67, 0.15);\n",
              "    fill: var(--button-hover-fill-color);\n",
              "  }\n",
              "\n",
              "  .colab-df-quickchart-complete:disabled,\n",
              "  .colab-df-quickchart-complete:disabled:hover {\n",
              "    background-color: var(--disabled-bg-color);\n",
              "    fill: var(--disabled-fill-color);\n",
              "    box-shadow: none;\n",
              "  }\n",
              "\n",
              "  .colab-df-spinner {\n",
              "    border: 2px solid var(--fill-color);\n",
              "    border-color: transparent;\n",
              "    border-bottom-color: var(--fill-color);\n",
              "    animation:\n",
              "      spin 1s steps(1) infinite;\n",
              "  }\n",
              "\n",
              "  @keyframes spin {\n",
              "    0% {\n",
              "      border-color: transparent;\n",
              "      border-bottom-color: var(--fill-color);\n",
              "      border-left-color: var(--fill-color);\n",
              "    }\n",
              "    20% {\n",
              "      border-color: transparent;\n",
              "      border-left-color: var(--fill-color);\n",
              "      border-top-color: var(--fill-color);\n",
              "    }\n",
              "    30% {\n",
              "      border-color: transparent;\n",
              "      border-left-color: var(--fill-color);\n",
              "      border-top-color: var(--fill-color);\n",
              "      border-right-color: var(--fill-color);\n",
              "    }\n",
              "    40% {\n",
              "      border-color: transparent;\n",
              "      border-right-color: var(--fill-color);\n",
              "      border-top-color: var(--fill-color);\n",
              "    }\n",
              "    60% {\n",
              "      border-color: transparent;\n",
              "      border-right-color: var(--fill-color);\n",
              "    }\n",
              "    80% {\n",
              "      border-color: transparent;\n",
              "      border-right-color: var(--fill-color);\n",
              "      border-bottom-color: var(--fill-color);\n",
              "    }\n",
              "    90% {\n",
              "      border-color: transparent;\n",
              "      border-bottom-color: var(--fill-color);\n",
              "    }\n",
              "  }\n",
              "</style>\n",
              "\n",
              "  <script>\n",
              "    async function quickchart(key) {\n",
              "      const quickchartButtonEl =\n",
              "        document.querySelector('#' + key + ' button');\n",
              "      quickchartButtonEl.disabled = true;  // To prevent multiple clicks.\n",
              "      quickchartButtonEl.classList.add('colab-df-spinner');\n",
              "      try {\n",
              "        const charts = await google.colab.kernel.invokeFunction(\n",
              "            'suggestCharts', [key], {});\n",
              "      } catch (error) {\n",
              "        console.error('Error during call to suggestCharts:', error);\n",
              "      }\n",
              "      quickchartButtonEl.classList.remove('colab-df-spinner');\n",
              "      quickchartButtonEl.classList.add('colab-df-quickchart-complete');\n",
              "    }\n",
              "    (() => {\n",
              "      let quickchartButtonEl =\n",
              "        document.querySelector('#df-ec5bf78b-87f1-4a1b-98b2-568de9a830e4 button');\n",
              "      quickchartButtonEl.style.display =\n",
              "        google.colab.kernel.accessAllowed ? 'block' : 'none';\n",
              "    })();\n",
              "  </script>\n",
              "</div>\n",
              "    </div>\n",
              "  </div>\n"
            ]
          },
          "metadata": {},
          "execution_count": 120
        }
      ]
    },
    {
      "cell_type": "markdown",
      "source": [
        "![Tabela_Anova_2_sem_repete.png](data:image/png;base64,iVBORw0KGgoAAAANSUhEUgAAA4EAAAFDCAIAAAALd5wNAAAACXBIWXMAABYlAAAWJQFJUiTwAAAgAElEQVR4nOzddVxV5xsA8Oecc4vu7hAQVFRQUATsxviJ3TFnzJmb3W52bDpnTedmd2EjCjYGtoR0d3PrnPP74xIX5F5CxanP97PPZ3JPvXnuc98TL8GyLCCEEEIIIdSAyM+dAIQQQggh9M3BGBQhhNA3hUm9stTP1cbC3r3fz/vvR99Z2dHKZdol0edOFkLfGgKvxSOEEPqGSJ8v83Bfk9uut13y9RsReTQLpFanLY+uTLOnPnfSEPqmYAyKEELoW8KkBP99+F2jYaO99TMenT0dHE/adR7o11QHrwsi1LAwBkWo3uiYQzNnHIySvN+HCH7zSbt+9TMAAADxs13Tlp9PEhMCy75Lt4xvyitfTfT4z6mrLiSLWCAIkuQKtE2cWvcaPqp3Y62qyyv2zLEauP7PMY5QdHvj5I23CjTa/7RjVlvV91Kg+KDVUry69PXf0xediBVRWs4DFy4f4SI7FJNxeeWPfz7l+P68e1ZbgWxNJvf5sc0b95y5GRadXsQKtE3sm3v7jZ89099FA5jsyysmbX8kVG099Y9F3fQqvuyZhFMLZv39im40cvO6QVZUXdLO5D4/sfX3v8/efByZXEBoWzbvMm7Rr7M7m703lvV+MRIc60Ebto52oJTlvobqXeVnQCrPdNWDEwRJ8tQMrV19/UcP8TLjVZ+2iioGEL47t37ZlhN3X8emCVXNnNv2mbx06chm6lXTo2g1JTunww/MWnAkSshSKuY+U5fP6mAsH4AVP/970Zoz4XkSQmAzcOWW0c4chSVa10xJX+yZuuR0oohlCYLk8DUM7Nw6DxjW39OUr2TL0z/zlFTF6V87VtcZ8l4e27J+16mgsJgsEd/IsY3fhHkLvmtrVNY8amhlNVYsQujDsQihehIGTbNVcPGO23Lps9K1ii5NtChdi7Kecr2kYns65Y9O78VXhKrLtIuZtMLllO20IJZl6eRtnXgAwO+2I72apCk+aLWUprFzaRoIldYrn0lkH0ternDjAvC778qUfSCNOTLWSZV4ryBITbefrmXSrDBwijUFQGj13ZdGV+xeGrO5vYAA0nD4idw6pl0YMN60ysAVoea25KGw6orVFSNlNvFy+YoKDlhD9UpqzrTCOqYMO65/UlJTFaecGG3NJYCgNMxdXB3NNLkEaTz2fNXyULyakp3Tqds7ly+irCdfL5LfY8zWTmplueJ13JpUmxKtdab+6Fx1GUHpeCy4kUUr3lJ5VVTTGeiks1NdNao2D+3+/2TWqpXVomIRQh8OY1CE6i//xfm9u3ft2rXrz1ntdUgAyrTnoh27du3atXvf1fDSEKfg3FhTCigjM2MOAZT5hIDC8s1LvzoJ9X5/JaanJb0JXO9nRgEQqt13pNAVy4HX5ffo9FKZmflCuW0VxKBKDlqdWqSRL+ATQBr0359Es+x7Maj03R/dtEkAgm/jt+zY3fD4+KjQ8xuGOasRAAS30bQbhaww6AdbqkocwNJxWzuqEEAajTyVX9e0Cy/P9Ok588+LYTFJkTd+6WJIAgBwHGbdFlVZsayouM3Gbtkls/uvM2E5ZaGEwgPWUL21yHSVOkxLirz7z0RXVQKA1B10JFdpFUujN/rwCSDUfNe/EbEsyxZGBWxYtv+lpHLulKymZOeliyh9Bwc9EkiT0WfyK/b46hcPHkHqOTubUAC8Dr8nVi36+mdKftm7tOR3D08s7GBIAhBct2XPJIq3VFoV73UGOnH//4xIAIIy8Jqx79abuPi3tw8t+5+jToct8XTNraxWFYsQ+nAYgyL0EQgvTjCjADhOP92rEgHlnhxhRALHYcb+5R48ovK3fVl8pzHwiGwYquj4UG0CgOu5+q2UlYsze+7JqXpEpTGosoNWoxZp5Lr38zOngOA6TL9ZyFaNQUX35zpzAAi+25JQuQElyctf26gQAKTxmHNFrPDWdHsOAKkz4GBW2c6T/uyqJjtgQT3TXqro2BBtAgAos+8uVR0IrWHIuBYHrLZ6a5Xp9+uQjt/SgQcA3DZrIqXKqlgUPKMRB4DUHXgoW0nOlaymZOdlMajFmLkjzSgg9QYdLqsUycP5TbhAmY1eMtGOozwGrXum3l8mCp5hzwEgBH77cpVuKVNtVVSpYUnY0pY8AoCyGH1aftCyIDE+q/RPZZVeu4pFCH04vAcboU8p5/KxyxkMx6bn//wH9HblEEzaxaOXc6uuxdASsbgo5eHeQ8EFLKHu5tfDrtKVR5aRiMVisVgsldLMxzpo3VanWo7/zk0Aksi9S3eG05WX0bFBtyKlABy3QaNaCCo+5zgN6t+SA8BkhT2KAL6nv58tB5i8m+euyfbOpAecv1fMUiY9/DuX3eNYx7SXpSAtIbkYAAieY9PG3JpLqK65r+6Qtcm09L3NpAlBIeE0AKnv5GwiV8nvVzHHupEVjwAm5/RMv2m7bycpeHNQbVZT0n74Xv49TSgm++rhs2kMAIAw5J+jbyWURZ/B7QTV7Kpatc9UNUhSNoLN43PquKUCdOzlqy/ELHBsB4zvKXfrMaibWejK/lRW6fWsWIRQ3WEMitAnlBVw7Go2w7Hq3q+1qmPfXs04BJN15WhAVqWV2IKTw7X5fHVTj2mnk0nTbsu3/uha6RkQ0aWJhnw+n8/ncwV2PwTW9BrDWh20rqszhP2k+YNNKbbg9qZVZ7IqxQXSuNgkBoDUsGlU+YEgysTGUo0AYDJT0wB4rf372HGAyQk8ez0PAJjMS+dvF7KUcY8BHdTql/ZSebc277wnYYEyGzh1iIWis5rk8e/+HTt27NixY6fO/uvuiT/ggLXNdEWwLg3d3K9jRx93B9fxp5IZgd3gNQt7qlVsVE0VkxbDFkx1VSdYadqdbRN9Gtn7TPzjTlqV8L9WqylrP4TAZ2Bvc4rNCzx8MokBKLj6z6k4Kce235B2/JrLoM6ZqkoYdXTbiXdSIFRbeXsI6rKlklRFvYtnAIBq1KRJ9Y+zKa30OlYsQqj+MAZF6JNh0s4eC8xlKIvu/T35wGncr1cTDjA5gcfOp8nHcATH0MXbx6ddaxczNUKafPmnLp2W3i6QW4HUd/Ly8fHx8fHx9WnjpKf8HYa1PGhdV2eB0PObN9NLnaCTj6/e+lwKFU9ssCKJhAUADqdq0kiKoggAkD3PzHP379uIA0x24NnAAoCcy+dDCljKtJd/e7V6pV2Gjjvyw3c7IiXAtR+zdW0/A4UnNSbzdXBQUFBQUNCNGxfvRonre8C6ZboslRmvbgUFhTyOyaO5tiP33zowqtJQd7VVrN1hTWDgrqkdLFUIYEsSQ3ZP69x+6vm0qimpcTWl7YdQ8RnkZ0mxxSFHjkVLs87/ez6V5jTqP9iz5hC0XpkqJQle5N7I1tzEefSReJrUaj175Ti5p47q1OKrYkUiEQtAkDxetSFoDZVex4pFCNUfp+ZVEEL1wqSeOX4znyVUDSRPd219CUAXaGuRkJkXdOxs6qiJFQ91q/guvnxssCqAOGb/MO/xJ5NCN60+MjngO8PS5dzWcy4EjNf+uAetx+qU0/dLRu/ovj3q6Y61F0ZWfE5qa2mQkEoXZGYWA8hdvmRyklMKWADK0NgYAIDn5t/PcfObV5nXz90oaF98/mY+S1n2HuSrWq+0yza5OLPPhIPRUtKoy9rjv/czVvKzmtv8u62zvFUBAEjNxl1U63XAumW6Iorhd/8z+mDXF1vGDv0lOPrgjFndvA8PM6nYv4IqJnVbT9h2Y+T82/t/nbt41710Yfi+5Tt3+C2p3WqLlO+8PGltB/ax2fHbuwdHDt1SvX8lm+E2HTDEnQd3leT+QzIFAACspCS/gBDoOXq28+w1btb0/o3l3zhVlxb/HkJLS5OATEaalpxEg0PVSLLGSq9bxSKEPsDnviEVoa9BdU9K0HFbO1XzehcAIFQ7bY2jq3kmiWUL/umrQgBwmy4IrdczSTUftPJeaptGrvvKV1KWZenYnT11SCB4FtZmVNkzSXTqrh6qBABlOvpMbqU07u2jTQJQpuMulGZQ8mhhMy4AZTr28P4heiRQtj/cENYv7SxLZ99a5KlNAkEZdFx9P/e95cqLqg4HrLZ6a5fpKnUoebGyFZ8AgttsYaiIVV7FlWUfGaxPApB6I2q9Wm2eSZp0TciyotuzHDgAHDNbKx5BcN2Wv5CwrOjWj7V8JqkumVKe4Y/yTBKduquHGgFAqHX4LVr63iFqqvQ6tGaE0IfBa/EIfRp07MkTd0pYUq/D7K3by/yx4n+2HGBL7hw/EVvNLWXS+AuXn4pZIFRtG1nV7jCsVFSYK5NXKJLU7aB1TyNpNXrx985cECfEJpUvJA169vPVIIBOOb5k/pk42Y2WTO7j7VOWXsxjCK7doFEdSoc6Oa7+fZ25QKcFLFl1OYfh2PQe2JZfv8RI3/w51P/X+7mg7TH30N+THNnc3NzcvLxice0Krn41JFcStc+0HI7zuO86aRCs5NX+HdcK3lssryB429KdQXHFsr+EyXGpQhaANDKr12pK8VoN6teIA9Kk6Dgx8NwHDm5cpytkdchUQyAN/AZ11iaBLQpePXnT/WzZXRV09rMjv/5+PSO6pkqvX8UihOrjcwfBCH0N3h+dkb5d05Zf5c2XLMtKHs534QIQ/DZr3krLxkE5Bk5t2rZt6+FqqUkRAISG28KQArZieIfUdfBoW8rLe8DGR3LL5BCCDgvn1XhQuc/rkMaycVCWZenUw4PLLnmXv6O+6P6SVuoEAADB17dv0cq9iYUWhwAAQsV5akC63Bim5NnSltzScSiOw8wQUR0SI1/kktAFTap5Ap7Q6Le/yjuKFIyD1uKAiqu31pl+f2Qv++gQAxKA1O67L4VWXMV0/G8deEBwNMyc3TzcG5uokgQAqd3pt7esPGWrKWk/lcdBy17IBACEiu+md1KWrcs4aO0zVdtx0KpbVqxRm3czsawwbK2PNgkAQHA0zV3cW7s5GquSBNd92flfa1HptW/NCKEPgTEoQh+BKHiOswrF0WizqnQiITrtLz9NkuTbfB9QUGlNydMVHuoUQaj33J3K5p4YbVoWjxEExdM0dfYdMm//k+yytxjKLS9DmX13qfplhMB3eJeaD1quVmmkM//5ny6Ho9X594rLmtLwvwbZqZEEKbD/4WrZGxTp5MDVg5ob8CqSRPAMWgxZE5hc5XKo9NWGDjpcgiA4Gm5LHpQFErVLjPxuXq/1UiXeu6haTQzKZh0YZMAluQZDDsuFPbU5YNlH71Vv+U5qznTmPwP0uCTXcMSxssMUBc5wEpAEpTfkSL6SKpbGnpzZ3kKVLGsfHG2XAWtuplUNgJStpqT9ZP4zQJdLqTSZe0dWA5Jnq721OSTXqP/e0te4S0KXuKlSHJ1+e9PYquqdqfJNDYYdLXhvtwpTXLFC9VWR+a+/Ppfk6g85VFbDdGbIhkHN9Cr2RZDqNt1+ubC9dpVe69aMEPoAOF88QujjEWdHhYW9TcqVcLVMHZq3cNCrYZ76r8InzDSdF/P06ZvkfELb2tWtmanah632zZFmvz74Y6/xh7LaLT63b5a3jVbdniX6JlszQg0IY1CEEEJfIXHS41vP42+vH7PyFmfYiaQD/Wv90n2EUIPAGBSh+iPevxaMEPoG4FcnQh8On4tHCCGEEEINDcdBEUIIIYRQQ8NxUIQQQggh1NAwBkUIIYQQQg0NY1CEEEIIIdTQMAZFCCGEEEINDWNQhBBCCCHU0DAGRQghhBBCDQ1jUIQQQggh1NAwBkUIIYQQQg0NY1CEEEIIIdTQMAZFCCGEEEINDWNQhBBCCCHU0DAGRQghhBBCDY0j+593986fNx0IIYQQQugrFnL5uvyfOA6KEEIIIYQaGsagCCGEEEKooWEMihBCCCGEGhrGoAghhBBCqKFhDIoQQgghhBoaxqAIIYQQQqihYQyKEEIIIYQaGsagCCGEEEKooWEMihBCCCGEGhrGoAghhBBCqKFhDIoQ+soQAl1LR+emzRwsdLifKQl811FL1m2a08cOT7EIIaQA53MnACGEPhZSt9mAyWMHdHDU45MEAEuXpIZd2rVuT0gy07AJ4Zo2dW/pVpRuRMG7Bj40Qgh9ITAGRQh9HQjt1lN/W9jHmsfkxz+6+SKhgNSxdm7ZvM+YPrfu7QiXfu7kIYQQqgRjUITQV4HfdNTE3lY8SezlVbO33k0vHX0UWHp46qbTAKSV1+BOpnFBD3g9RvewjD/16z8PWet2vbu2bWploMbkJ76+deL0rZgS4Fn7DvK2KnoRcCYsiwWOlZd/Z1vRi8tnH2YwpHYTv4F+XvZ63KK018En/rkZI6qUAjX7TkOG+DrpSWKDLqRVWkLqNO3m39ezkQFXmB5x99TJK28K2IYqF4QQ+o/CGBQh9DXgNunU3oRic4L27CkPQAFAGP/gZjwAgKpL15Fj3LI69tCzNOXRuk+1TqtP2jDXi8iKS8zhGLm0cPPyNBaP3nRf0Mxv3PCmuZfeXAjLkoCgafdRY9yKAiIuPMyyHLp49ffOZFZCfL6J12DjjODgmPCKA5GmPeZvnuapTQJAC7fWYmn5yZXQajNl08pe5kxWTLxQt1OLNj4tDGfM+eeNpAFLByGE/nswBkUIfQUIHQszbQro2NcvigHUPCcvHtKURwCwrOjdqY3bAjMBAAiOsSlzZdnYXc9ETHaxwZXdS3beehBfwlJWI3b+Mca+mZs9936ioiOoubRopEKnnFo+dXuYRGBoopYnf6Mnadezj7s2FIb9s2BJgLDNd4tndbKgZEsseo7uak4lnJ4zc3tYsWGfFbtmu/Xq2+Lwm4cYhCKEvmkYgyKEvgIERVIEAAsMAwAMw7IAoGJsZ2PA0XptSMliUGBL7h/ZdSMlHwAACoMDC51bdR9sZaipbq9CAMHlqyg5QklsdJq0tXmfFZv0L148c+r680oX4tXsHc0oVvz84rnXOYVwccexDj6zW8uWOLnYc4Gm9dsOnuAJhLaKhCU1TU11CEjH6/EIoW8ZxqAIoa8Ak5ORWcKAqqWTs+DC3ZKHO+Y/BE6TH3ZsHGwitxZLC0tKZP8kdNvOWTPfz4LKTYxNLlLRIgAIpUeQvvprxRri+9G9W3gP/9GrZ/s9sxYdjyobyiRUVPgEwQoLC0RVNiNUVAUkAaBl2bSJHgsAkPzqZeGzOLwhFCH0rcMYFCH0NRA9vxOa79tRz3fs0Ksv9z3PryHEI/S8+ne34KVdXjzmt4dFqt3XHpnjCQAAUloKQKppaQsAJKrWVgYVb/gUJdz8Y9Gt/dbdZi+b2blJz672p6PelD5uzxbk5UtYQt3S1oS8Hc+oWFqUbccW5OSLWCAjT8xfejn3U+QcIYS+TBiDIoRqgatn72jKJr99l13Puxj5+nZOxmxieHTWp7kNks0L3nuwW4tJ7k4D1/zt+uD+6zSJloOXocJ3xLMMzQKpadu6vY+Oke9Qt9K32bNFScnZtLuh++iVM10K7H29LSlZNEsY9Fu1pGlMwM03Qn1VDrBMQV6B3A2hwheP3pT4uDkMmb9Y7xXb1NfLlgNs6ZL7TwrbebuNmDeSDQjP5+haN22m+nTn3pA8HAlFnx1X39bJjE1+FpP18fbJN7R1MGGTX8d8or6Ovh7UsmXLAGDfgX8+d0pqj9986JK5wzxUo++9zW2gkzhl3HpAH99GRHJ4WomCVbiuQ5bMG+alGX/vdXbld1KTJp59+3W0I5LepRVzmo5cOGdMG/XYB2+zQO7zyvngNxu+csYIT5XouxE5tcoh33XUwtmjW6lE3Q+v3QafH1fdyMbW2kSVzs8voT9LCj5uofF1LG3trEx0VeiivJKP9irKOreET7AHAAAgrQas3j13oE361cvhRQAAwNUwsrK3MlajC/KqVGD1RUEa91y8Y+5w54JbV95+osvQbF7EnftpKhY2trbW9k6NnRvbGKmBMDPq9oWAB7ElpFXb/t4WojeBp+8kMwAgTM1Vb9HGtVEzH29Pe9H9e5mWVvyIy+ceJKYmldi2aW1tbGFnr593a29QsaujytvrZ+4lqzXpPXRI1y5dvJubc7KfHvv9zzup4oqjF0XHlNi3bmFnbuvcyLDw7oFrhY2dBBGXzz1ILop5lazu4trczcO7c4eOHTya26km3b54N1asMCdfKdK025J9G+f00nh56Ul61V4v3x8JhefGmn0b/fpjZZO0GLj+9/lDrdL+vf62PqnQsbC3tTTVEdCFcudx0qjPgq1LhjkV3Lr+qvCzfiFx5b5wP8ZUER/pdPpNGzdilPyftR4H5TiO27x+pC0fKm6aEj/+c8zsC3X+8USZtx3U3k7y5sqpx+n1ahVcc+dW7s2L0gwpiKlhB4RB3007J7tKH22ZuvhcRmmbIc0HbNoyoUnmyc6T9tTuiKR1l7FThzdinxWffX5GwTo8s8at3ZuLcgwJiKy0gLLq+t2EkQ5sWNH95ydLTF1atXQT5RgTECX/eVal9swzdfFo0aIww5CC6FrFZ1/WpCxcq57T5k3paK/FIYClC+IurV3w263sBu/RH6vQBDbdx00d16WpsQpFALCsOPNN4N9/7jgXWfThaaxzS/gEewAA4Dj17OrEK3kUeDsDAHhW3Wb/NLGrnawCC2Mvb5y5LSSLVV4UTHLwrRcjmrh26dbo7L7wT9VKhTGB22cG7tY2t7XUU+PSBakJsUl5srEY4fVf+12XW5UteLR9+ogzjewMIT0qMqWQWV+2JPH8yvEPbO1N+bnvwhMLGDi8W/Z56O+Thh63tTVRlWbGRcXnVR3iEcecmfddiJ29mUp+/NuEXCkc+r10CZN2Z/vkBwctbK0MVNiS7KSYxGzhF/8NRtoN2bxthJMAxNnPDyxcevRtWXmQxt2Wrp7qY8iH4hc7Zv18NKG0sgm9jpNHt1WN2r/4nxdVb5qFSv0x1lzhubFm30a//kjZ5DTu2q0xryT0ZnBdK1TFpuukSaO6NzFSLS2erFc3/t2yKyC8GIBJuRH8apxL0x5d7U7uj/woQwz1/CrnVnzhhn+MZNSx4jiNR27dMsSWX/Y3K376+4T5p+vapL9qtY5BCU09HT6HFLOiwui4LBEAsOK4el2VU3HpNWFEK+GN6HOP0z/1QACb9fx5ErjZN+/gqX/+vKzlkiZtvJuqkbkhz2q9GyY+6OAe0l708m490kAn3tj/D+Ugfh6Sw4JAweffENLCb/qMLvZEXOCfx+9nqdt5dXa00SI+Qwz6UZAmveau/clTBwrjH1wLSxRp2LZs09y5x6zlGuIZKy7X70fWfw+nkXc7U1Ly8tHDHBZI8/4//NDDjogN2nXwfraGXZvuDlbaREgWUUNRsJmPQmNot0Ztfez2h0d+0pKR5CaG5yp8x5IcpjA5/FlyNQuE6dEv06tZvygl6kWKkh2Kst69UvCzXJqXEPE8oRaJ+kJQ+kZGKhxCUkLoN//fAPdzv9yTXSMiHbr7+xgRYjGhqmporENBWQwqMOTFXd5++sK5N9VEoJV8/nPjt9GvgePQvo0ZJXnx8EkOAKf2FUoad1/yy0wvHSiMD730PEmkbtPKs1mT7j+u1ZB8/8vVNIbNePL4Hd3CsY23/b+RH+UH50f6Km9ghKauDp8ixRkxMdliAGDF8ZniL/Ob7pOp4/2gdAqdcm/1zErDGIRGoy59/XycTDXIovR3jwPOXgjLZCgL76HtTeOCrmY1HTy4nZ1aYdSN4wcuRhVruPQc0caMBIJv02nCWPuYO0cvRQhrM4mIum3n4QM6NNaRxNw+lyr3+CqhbuPbvbuXs7WhGp2f9PrG2ZNBcXKXy5m4m/fejbJ3cPH01LtwPpMFII3atXbgMpn3gsMUbk5a+g7sYB5/6w6363fdLWLPrN+XzALDEgQhO6SdV8+eni42Bmp0QeKr4DNHg2PLD0loOPf93s/bRq3w3a0jh6+8LWSBZlmWZoCoemNalc/V7LoNGtjJUUcSF3xafo4VhYf7Qidl4To6NxIQdETI0aOBMTTcvHK2fBGhad9xQK92LqYaVFF6xJMrJy8+S2egvC3luA4d3NaKygg7e+joY7a5/9C+HsaQ8uTs3lNPMpka6qWM4kIjNB079OvbtrGZBlmUERV69cy55xk0gPKpcQQtBo9trUsUhW2fM/9onAQAQM31x01r/S09h/Swv7Y/glI46Q6rYVPNJD0AilrC+9P8PChQU9D4FbUlBb0Vasgmad6imSnFJLx9nckC8Bo1aSQg6MigYyeuxDIQfP2ErCjcaigKmkl98TZV6mTRorkxRFYX+KEvDx3x+LFpmzZtOnho3LtZAADcpt19LYmsu/czPDs6lq9G6rr0GNzT00GfZ2eoZ3zuxKUI2TNjCvpjpXMjobCnVKhzvwZSu2mPwf09GulzilLCbx09ciNarsU3YL8uO78F3+N2GednEX9sw757hWp1PufX6/RFmrVsbkzRiW9eZZZ/QdSmQgWtBo1so0sUPts1ddGJGAkAgHqzKdt/7W/t4d/H7vruSIZJffkqjXY2d3UzIsNTPkYQWsNXeW0aiaJSqubUWumJRsWnU1KnSe//9W5rr88Xpr+5d/bItfDqHoWkk69vmLI/4vPccvaf94HPJBGEhvu09Uv9rTgFKTHppH2zFm07ezsun7Uh1Knr2GGtMtt117G0UCEAoLm7s0bepE0JLl39Pcw5ABwbn6HWokeZFy5F8qudROSdBMpHSUnjXotXT2+rRQKAWwsPuRlINLrM3LzQk8xMSMjhGDdt1sq7lbF40oY7FVdLmLiQOxFDHRo7t2mrc+FcNkvoe7Z14DIZ94NeShRuzjbuMXyER7Zvb10Lcx6tF6Z5RKv7uOEeoqDo44/SNDrM2TanDZkVH5/LMXZ29WjjYSyesOa+rDxUvSev6cTnEgDQ3M3NnJy4/GKKwKXXyJFtRIHvAkJT5Quv0ucmfX5eN9tDiwSA5i3byOew+sOVfLGTsjDZ2XkMGNn1nPpdwh8HQ2LKwmV76O8AACAASURBVGNC023y1sX9bTgFSbEZpF1TtzYd2zv+MmVTiLCsLelaWggIAGjZyqn5GzXX5gYcAgCauxqWfD8nQFG9yF84UzKTjabH9xtX9bXmFCZHZ5CNmrRs196n8Zrpq+9qKp0ah+PUqqUexRSEnj0XV1a+RS/O3YruP6qRpbOLHhHJKJp0p8RnXjWT9NwrJBW1BJWq0/z8+9qz2tZborAtERqtqu2tN3OtlGaTb29rTrHipIREGgCYnOxcBozs+kweF7fjSFCM7IavGosiIp2VxsYl02BqbWsHgDHoV0L8OuS+k2evlh29tW9dzGVVWnbxMYTUgFuvrTw7lq5CaLf+YesiPwsmKzqhRNe3pVfblkbzZu6LoBX2R/lzo2rH6ntKRRLq3q9v51oPWLZhnAuVHR9XYOIzwCTjzs3oqPIW35D9GgSy85tPT31zMx79+pEW8bJVXc/59Tt9Ad/G1oJiJSkJCXIf1lyhHAeP5voUU3D//IWYsuIpfBkQGNNngr1FUxd9IjKdlcbHJNNgYmlvx4WUmsa9a0XpV7l6p5oaiZLGIHrv1CoXgyquOELLY8a6pf3M6czYxBKdDm6e7dwNf/rhQPg3d5v3h1H40KiC1U1Ik84/b/ht+6bf/lg/r5+1tVXv0f2seLl3N42dMHnshB+2PS0ijToO7WoBAEBwjPUKzy4f6Td+3Y1MhtJ1b+tExR+b3nfLAzEw+TeWdurRa+b5rPJJRH7+fuKE76ZseVQkaNSrbwtu2WOqAEA26ta3tRYUvvh70pABYzbfTK3oMCVRN3bO/36w/6SpEybO/ieKpnRdW9lx5ZPMJAUHR0pB0MSrtTYBhIGHpzOPSXsY/FyifHOCY2TC3PxlyMBhCy8myf+OK4m+/seyCf1GfffdtPE/Ho6kKd0WLe1LlxGEOPbswvH9+y88FSUmtN16djGvVQlTtt3/56YFRc/3zPT3m7wxME0uh9UermJSlh/7DJ645lbFBorKs5Y1/OlJws4euJ1OU3rNh8/fcWzXigle5jwAIC37jfKz4eWG/DZp+A/fD5/+56Mi0qT94F4WsqEQjrFe/smlI/r8uO9ZCQismptH75kyfOicc3FSQq2ZWzNQXi8yiguNsvQb38ual3dn3ZSx46eM/X7nk0LSuPPA7lYasqlxApZPnTx61JBhK8/HVvpJzzU20qeASUtOkjvvMKkp6VKWILR0dJW8b1IYfWX3klHDh43+ccqonw9G0JReMzd7rrKWAKXT/NxYNvZ//isvJDLVt17FeyAV9lY1pdkk9Y31+QRTmJ0jBgCQPD9x+G4aTeq7Dlm27cCBpWN9zLi1LAphdnYhSwr0jZQ3EfQlEb24+TCLUWvRuZ0+AZpendvoQVJw0JuK53dIC79h3S2o+BNLxo+ZNm7Cn6GFAoc+vVryFPfHShT0lAr16NekelNXB1Um+dyaSeMnDe8/ftkZ+Siswfs1EBwTY+ba6lG9Ri07l8TU9Zxf39MXaWBkwCeYgpzsSkFijRXKNTbRJ4FJT6xUPGnJsuLR1iEBAEqycwpZUmBgqK24sOpG2Vd5jY1EWWOQ1YD8qVVuKyWn0x4jeplTcWcWjZo8ecS0bQ+KBI49ertV801LmnaauXXTb9s3bdn6s591HWOur15dY1AVUmDk4OzS1NmlmbOjmb5LUxdbDpSEhQSnMwDSpJCHUTTBsba3AwAApij02O77KblJdx68o1lSRV2tmsPJTyIyaWxf57JJRMy0yzu6eiN7c4oVhV09+yo3793V7Yefl4/pSaPvXI9Sa9nrf8PHjezmpEIAwRMIKh+ASb55N1wCKq6erbVIXU8PZz6Teif4taSmzdmSh//uvplUkJ1V+ck+aeztq9Fq7t38R40c09NBBYDg8cu2YYrvH/srJKkg8+mFoFgaKHNrS6o25apm38icYkXPL596k5sbc/n3k88qcljt4eQnZcmLvrjj2NOyDRSVp/LXbzckJuny0hlzNl8ISxYRahZtRy1YN9dHBzRcmtpwoORFUEg6AyBNvnP3HU1wrBrZ8mQbFYWe2PswNSfq7pMkGpjEq4fOvMzKePLgVQ5DcNTUQHm9yCguNI3GLrYcKHlx62YGAyBNvHs/kiY4lvb20tjoNCll0mfFpiWTejhAZlblX/QkScoe0avUQgiSIACABWU3QEhjggPfqbfoPnjo6HFdHcsn6VHSEgAqpvnJyi5kFbRexXvQUNhbS5RnU1VVAADC4hJZhpiEKyu/n7f1zLMUIaFm2WbY8jWzO+hQtSkKVigSs0AIlM1GhL40orDge+mMoJmvr7mBd7eWmkx8SGCU3CPkqs5NbLggpfVbD500bvz/HFWkLKllbKqtrrA/VqKgp1SoR7/mFsfEpkpJ0/4Lf18xrpcTm5FZqcU3eL8GtiT08Pbg5Pzs7AK2zuf8+p6+QFVFAADCkpLKOaqpQomy4qmstHjY0p2VCMUsECoqqkpKq26UfJXX2EiUNQYAqHJqraC44tScG9tyQUrre4wYN+F7PydVKUtqmsjFLRUFo2LYqKmzS1PnJk0cTNUxBq2sjtfipdHShHuTppbeD0oa+Q8UkAQrEQpltzqwRcVCFoDiVPktIJXSAEBUFwYpnEQktrwlEAIVPkGwosJCoewoclvrek9bv7iHJZmXGJtSqKJZ7VQnTMqd269Hubg2bdvGnPJyFtAp94Jkj/wp3ZylhSXCahKs12b6lrm9rMjchLiUAhVNstIhy9LGCktkJUHVpsURKgI+SbDFRYXvXbSo/nBf+qQsdPbL09vmnD/UcszCJSNdDHy7tPklXFWVJFhJSekLPthiWVPicqpUKC1loOJEJ/sLoKZ6AVBWaKSKqgpFsMXl7bi4pPTgjLKpcQDEuXlFDGgZGJlwIKbsdh/SzNSIIlg6Ky2NVdjBFEzSo6QlyFJWMc2PgtareA+kiqqi3qp0BiAAKc0AACnXlpmsl+c2zr34d4uRKxYObabv3dPjr9M1FQUAAEVRAMB8tHfcoP8C8avgO2m9Bzh1HDJY3EKVfhcSFCWFJmVLCRVVFZIA0LZ2bqoPAACJb18UvowrFFgr6I+V1DidVX36NSl98e+yVcSkcd3d2g+a4dO1w44F849El7f4Bu/XwNKi8m+bup7z6336KuvYZNUvKeUVCpLcnCIGtPRNjLlQfn8paWZmRBEsnZFe+sSWrK/T9Efs7Aq/ymsx55mSxiD7W+7UWkFxxREqagKSANC2cGmmBwAAyW+eF76IreZdVNJ3h38cj/eDKvBBMTlTkJ2VK2IJNWMT2dUJjpW5CQlMZqqyJ0eBZQEIkpIFF6WTiEgiT8yfNX3KrOlTZk2fOmfhX09LHpW3B7YgN1/CEupWViYkAKhYWeqXJpvQ9R7Q2ZKXfmnRuLETZs47+Kb65s6k3Q5+IwYV1+7jOrqqMMn3g2Ur1nLzSghd375drbjpF1aOGT7tx9nHKm9DcA1NjDkAoGJnb0oCk5WRVZuGx+bn5UtYQsPC2pQEABVr84ocVns4+UlZAOD9SVneL89aJKNhcPVMDGXjk9LssCsP4hkAgiSZguwcEUuoGZuVNiULSxMKmMzk1Nrdx6q8XgBAWaEx+dm5IpZQNzItO7iFKQV0ZkqKRDY1zriBUzdeTwOdJj272st/+0jDX0cKWVLLrWsHg9JzHqHt4d/RhmKFr0Kf5LOVJt2Bikl3yifpWTb0uymTFhx9VTbbjsKWUE2Oq229ivfAFCjprcqyyebmFrBAqGtqErIKNDUorcCsZ9fuJjAABEnVXBQAQGlqqJEsnY+zBX1dJK+CHqTQ3EZ+vVx4kvCg4Hj5sx5bmJ0rZkEafmR56RlpyuyZP//7pFhhf5SnqKfI7b9e/RpE8YG7F4wYNWntzVRWu6lfx0Zyu/yc/bru5/x6n77Y3LwCFggNTc2qiVFaoSCNeBUlZEmt1p19DcuKR6d1v27WFCt88+BpaV/X0lAlWSY/N09RRutBwVd5zY2khsagkOKKYwuy80UsSN+eWlLaqmfNmLpk/6P/zjftF+LDnkkqefrk3tP8tl5NB8wYX3ghiu82tIcFJY6+fuMNWCncSFxQUMwQmi0Gzp3S7N3Dvw8pmETkRT5b9gZ64bOnr0u83B39F63Qe8k6t/e2LpuBRDbViYatp3d7XcP2IxXd9cikBd95PbFZi5aezYGOOxMSUXZmqN3mlZRuY9/Ku6O2UachLSttQwiajV7/m/WdBIO2XfVIaUro7XAp1GKvwpdPXpa0a91o0LIFes/BpVMbmyo5rHq4L3dSFtJ2wNINPaVh918lFvFM3do5UWzxs4dPoKQkJCzfu22TIdNGF1x8J2g5uI85KYoJuvZWCiY177WGepFRXGjFz+4+LvDydhk4Z2TB2WhBq4E9LUnxu1uBr3X6/aJkahxgs0JOXx3Usq+p10+btng+eJPJ6jq29nI1IsXR5/ZeTWEAFE26o2CSHiUtQVGOq7ZexXsoVtRba5gBiM1PSMqjXbWNjfVISCVs+q5e11367OHzxCKeSYsOjhRb/OLek7ys/BqKAoA0NDHiE0xqYm1em4S+INLXwXeT+wyypFjRm1tByZVvdhQ+v/uswLdNqzGzRsOV8DyOjo2zq9rzP3fdU9gf5SnqKXL7r3O/fkUbDli8zDXuQmBEib4Kl2CZgvwC+WN+zn5d93N+vU9feUmJuXRzHUMTPRIqP7yutELZ7KAzgcNa9DZvO+PPja3uvs1idBzatm1qTEqiLuwPkD2uQRqYGvEJJi0hsVhBNutFwVd5zY1ESWOQgpniAyquOGHYg2cFXm09hs0Zx15+W8DRtXJpofps6993GmrmnK9ErWNQtqS4hGE0hLRQWHEfMpuTHbR9rb3OHD/30bNbAbDS/KiArWv+iZBSpmIRzQqFpQPYYpGIYaRCCQMA4mdXL8e1G2zj1MXPRjvu0MFH13/fYq871a/t8J+8AIBlhGlXnjMsU1GRbPrVXbtaWUzxsPX1sylJCNp7xmCkn6FYDGzOraPnezTu7zhg5kK6IPLqvXCDdjrian7WsOl3Ah+NaOalQYje3QyKLAtBFW3OiMVimhGJyoffGUlZdticG6fO9nYc4NRnzjK6IOLGnbf6ProSCQAtlkikhc/PBap26t2nGQV0QfjRPw6GSQAoub0x1f+bzbi8/e/WVhM87dr1tRXGX//3tOGQPkZiMavocGz6xT17PS0mtrXx/p91SdzN/Sf0h/U3FIsB2Ozqy7MOjeKTYuLv3XzZeYhHT/s2BAArynh6cuvq88nAwrUdmxx1ZvR3G7HAHYCV5kVd3rThwBspqEjk25JUJJQytEgkYQCAlYhEDC1RVi9ylBRaTuBvWxrpTuvTetjPHgCsNC/iym+rDoVLOJpp/HEjp/uSBLDizKdH/zqXVPl0XBS6bflGdtr4ni7OnXq7ALCMWCSmgaPr3LaF6du7yaLnp/bf95jR1tita8/C2Gs7T5uM72skFrPZwSdOdXca5NBv3ny6IOr67QgDXx2JRElLAFosEtOsqLz7KWq9ivfAKuqtrEqS0mxK3r4OF/ZoY+voyIfUkoSH1192HNmqm4OHrAKfHdm+/lQKA1BTUYCqo705xRRHvIn+dO0LNRRWWFLC0oJiEcMCSMNvXn/nN9pO8ujGrRQGgKCFJWKaFpWIWWCzr+7Y5KD9Y7/WI+d7AADLCFMvvWRZxf1R7tyosKfIJaTO/VrKqiRm8CcOmdlB1uKfH95xsfLvoobr13JfLqXZqfs5v76nL0nE67fCXl7Wjk58SCmpdYUCFD7eMX8z+9PY7k0bd+jnXFo8UuDoNfZ0N4kISRGBqoOjOcUUR76M/rg33lT7Va64kch/ySpqDCCocmqtdDzFp9OsG3+stdee1ctz7Ow2AMAywpRrLyp/05aFTSJ8Vl4hQnZjnXf3zh+yF662ZSNLXZ4kOz4qvlbvrefq2jpaaUtTIyJSCmWdgqNV0yQifD2bRhaC/NjI+NxKrZrUMHGwM4D0dxHJRfV4D1l9NifVTZxsDSEj6m3K+9sQ6iaO9gZs+rvIuqaHr2vjYKaSHx8Rl1c5h4oOx9eTm5SlsprL83MiVQxtbEy0yOLUmHeVS4mrY2FvpcuT5MRHxufUteMqrZcySgqNq21lZ6XHk2QnRMbmlE8SomaieGqcMoSKnpWNqY4KW5AUnSjw+XntFG9Trjjl+vpBG28CCAzlJt2RT65pxSQ9ldOooCW8n2NFrVfJHqrvrUqzSej2XLdnZquigDnjtjySAACpYmBlb6JFFqe9i66SeMVFsa1k7l8regnu/zJ+2ZWGGpWnjFv372gveXnl7PMsXpOhS4c3lzz4a9WZiI/yxchvNnzp0GZFd3auuVDL2W74zYcuGN20OHj3+tM1zfH21eFom9tZ66mwJdmJcQlZorIGoKQ/llPcUyrUtV8DqWZkZ2+sKsmKi0zMVdCxP1e/rtc5vx6nL0LXb8XfP7UsPLdo9IbqnwhTihDoW9qY6wjYguSoREHHOatmtDPhilMvb/xho3D84aXdBQ/WDVt5rYHGBWvTSEBRY6iBkorjaJk3stRXYUuykuPi/3PftP9FIZflp6v7SDEoQkgOoenYc/xo/w6cS31+Pva5E/NRaHaav3dJO9H5JeM2PK7T2/4qimLwScuDS7pSt1aOWBdSUPOGdcdpMmXb6gEGUXtnzT4YJ/sWIu1G/rFneCP22baOc8+odVl5braHKGhlv7UhH2VcQqP7r2dmuBdeXTJw0/3a7VC998pjc92KApYPW/Pgv/LCXlRrX1+/Bk3fRQfmeosvLfTf+uhD90VoOncf/d0AH+ryz0csV//amQr8ZezKO4U1b4i+JVVi0A98Rz1C6H1sfnjA5gUBmz93Oj6e/ODjB29oe1G6enV8vXx5UZDWPeckvLhx88S9TxKAAgChoqbO4/HVVHjlH33QLLsIVfb19WvIv3v0n2Btb0rvI+yLzX99aevMS1uBtOwzKzHsZvDhBxiAohpgDIoQqpkk6vTyuac/YAdM7MV10y9+tPTU9qggN8uuDKHu0mtyvza2akVRN04evBQhe5lKxWSSwozwkNLJJKubxE+1rnPqKpxn+L89py76NkgiT6yZc+Lj7pOJP7dhzrmPu0/0lcIYFCH01RI0rphlFwAACJU2P2z0lU2n26JVc3Pqx6Xn01gFk0nyqk7idzC+fd3m1C1SOM/wf31OXYQQ+uTwnf0IoW8HQUpiTq0c03P4/OPRYkKrlV8Hc4WTSco2kJvEL8W6jnPqKp5n+D8/py5CCH1yOA6KEPp2MEWhR3fdTRRD8rmQmP62DuZWVqCqVjGZpDuAVtlkksRLgIpJ/ABAs3XFxH0FcPn3kz4dZ7jL9iuNvX210Mmjm7+NgaaGXflUsfLzDBfA1e2HvX3nugFUnlPXEwjtijl10/F6PELoG4ExKELoG8SWlE2nq2gyydKbMysm8avznLqK5xn+MubURQihTwpjUITQt4Pg6psYcyBeqmpva0YCk5WZyRZCrpgFMvzI8sUXK80sqFZ5W/mJ++7GMtXNqbts4rrQIrWuq87Nag1QeZ7he/FMxTzDpXPqkpEn5i+9jFOXIoS+TRiDIoS+IqRJ9+mbW4oBgMl7sHtNdpXFhKDJ2C1rbEKSDdp11CPplAf3wkGYXP1kknervo+6znPqKp5n+L8+py5CCH16GIMihL4KbGFuPs3qqxjZuxgBADA5SVpsWsVEiIxEIqELwy5eU/Pt078JBXT+m1Nb97+QKJxM8v35Ues6p66SeYb/43PqIoTQp4fzJCGEvi2EmkljO0M2PSo8VX4iRAWTSb6nznPqKpxn+L8+py5CCH1cOFcnQgghhBBqaFViUHw/KEIIIYQQamgYgyKEEEIIoYaGMShCCCGEEGpoGIMihBBCCKGGhjEoQgghhBBqaBiDIoQQQgihhoYxKEIIIYQQamgYgyKEEEIIoYaGMShCCCGEEGpoGIMihBBCCKGGhjEoQgghhBBqaBiDIoQQQgihhoYxKEIIIYQQamgYgyKEEEIIoYaGMShCCCGEEGpoGIMihBBCCKGGhjEoQgghhBBqaBiDIoQQQgihhoYxKEIIIYQQamgYgyKEEEIIoYbGkf/jxD+HPlc60NfEf9QwbEvoo8N21cCwwFFDwvb2dfMfNez9DwmWZQHAu3tnwBgUIYQQQgh9bLIYNOTydfkP8Vo8QgghhBBqaBiDIoQQQgihhoYxKEIIIYQQamgYgyKEEEIIoYaGMShCCCGEEGpoGIOib1bRm3uP05n6bSsVS2u9ak7k3YDjR08FvsmmAQCk0sqbimMePIgX1y8ZCCGE0JcKY1D0bSp+8ed3s/ZHl7B13/LNkUVT5h9/K6rV2uJH6yf8EqbX3DHvwOhxO9/RQCcE/Dpl1o6H2WXRryT/0ebvZxyPo+uckv+80vD7dODr7K8wdwghhD4Ip+ZVEPraMNmBK2acdvzl9EArqo5bZlxcNP+Oz5+/9TOp3e83nvv8k38DQG6WhqqWloAAyqbvkl91loyd9e+mv0bbUABqrpN/n/qj/7Qt9kdmt1Ctc15qIA1b16Pf71kt/Xs6qwMAiJIeXLhe5H/87krPGpd+IPGj9d9t05qzsO2bX0ePDz9yYopdHQsbIYTQ1wxjUPTtKby9Yeltj9WXPdXquqX46c7fEnrs9CsNQOnUsJvP06SEbmMfN5V3IU8TRFzT5r5NDauGp4XPds8/pr9o3VAz2RLtdj+OPDBw0+V+W3tpAQBp2HPJ9LO9Fu7sfmamC+9DcwelSQvZse0St8ecCZOWDDszMpDXce+qjtoAQMc5Dh0TWzr8y2mubGnVHEaFPE1UkENZNkP3rT6V237ytC6WHADguc8/8TcA5GZrqGpqCYiPkzGEEEJfCbwWj7410lc7fjlnPmGyl3qdNxWFnrqs2bWXZdl4HsEpuLlm4vyATHUusGF7Zi4/k8pRq9qnil7s/HmHaPxvC11zItJKL8CT+p17Ojw4dT23dB3S0O/HgZK9vxxJqOf9qVXkhayacUh3/LKJXrqkpvdPywewRxevC84HAKAs+vw4zde0bE3lS4HgFNxcPXHBhUx1LrDP9sxaVl0Oy6i3Grtiik3AnIVXM8uzUfhs9/yj+ovLw2+EEEJIBr8X0Dcm98qOA6kdR/tb1L3t0zH3n5IuzSsGAUl9rx/G+4gT4vOzgrac4v/89+ahjauMrYpDN/+w+VHMjdXj/Pp+v/etpOxztebNjF/cDyu/qZTnMnK4S+iev5/U7jZTpaRv9m566TNnkE3pmKpOp3lL/YQHF226VwQApGG7/3Wxqlhb6VJS3+uHCT7ihPiCzKDfTvF/3v9+DiuhLPrM6ZGwZVeYGKAs/B5XKfxGCKH/Djr+yvpZkydNXR2QUnaOYlICVk+dNHX+ntBc2UfS9EfHNq1YtHDBojX7bsYWy7ZLuLpp9uRJ05YceSX8TEn/GmAMir4pTPzJfZc43fx96z4ICiCJjUvWNzWVv4GFNOo9xDd636TJBwznbxntwC9fIA0/OH/luUTgtVp06+3Dy6dOnrp499Y63/IVKENTg4KE2Hz5PQ1ol3bsr6t59cmXPPrdpetiz47WFXdfkgY9Fi3qmrt/0R9h1TzOX8NSo95DfKL3TZpywHDellHlOcy5vm7WX2HiypkFACBNOrQTXA94IQZx6KZpmx/F3lg93q/PpL1vJO/vGyGEPi/Ksr0n/+WNK3u2H4uSPTopfXNg+96AgHiLzi21SQA67tjkAcveuk1a9suSCQ6P5/cZ91eEFICy8G3NDb2S07ini+AzZ+FLhveDom8JHXf+dKhqu4nu9Xr2hykqKBGoVrkUzTEx10u6abR4glulsJYQWLdub2aseGekqiqvuLAIwKDsA932ndzmLT91LdvPX7c+ySsjiYpKMupoUekBINLQu5eX5XFDrWrvylS+lGNirpd0y2jxePeKHDK0XtOuRlal549KmaWMrYyyHr4Tg1urxTffLv6QnCBUS+KUe8cPB0Zk5hYyOi5+E8Z4GZEA0vTQUwcuPs8SgoZDlyGDfa1VAeiEq1u2nI6UGLT/fsEQDB4QABBcnna7Hhb3Tp94PnVBC07R7X/uWHRu/jqNyyUAQBiybd1dl6X3fA05ANb95o494PvHnrsj1vnwCQ6XQ3K5GEV9CBwHRd8QJuX6jRe8Vu1a1/Pxcy6PK5VK5C4qS2OPz1udPmiSw50TFzMqPmdSb21YuvZxka6ys5OUpiufvkhd73ZNhHevhRTWL3XlRxcJGdnZUy5BF1bsgenrRtlU92i6sqXS2BNzV2cMmuRw+8TF8pepFr76d8XKM8k8DRKqyyzFI0QifOMpajDFt1cOXhLuOXXpr8tGGYYeuhIjBaDjjk0ZsCzcbfKyX5ZOcHg0v8/YstErD17oZRy9QnJYqYr3wI45Z4/eEzLpFw/HtBvsWnYulEY9eJRp7uhQegsSaeTaxDjz1bNEfNvcx4ERPPqGFD6894K2n+qqIf9ZTOiThOLqXxNKqFt5u1mX/8kxNNTJz8xkwIAEAGAybiyfdb7Jyl0T9I/e8D14Mm7ApNIgjtTXI5ILBIbKQt3C7BxWz0hH/iPK2LWJSeHVe09Ffb35irarGWWgr5aXU8iAaulPTDr28PzdKtP39ZM9FySOCgnleHuV5UvJUibjxvJZ55qs3PWd/rEbvodOxg2YbEMBgLqFWkEM6Jlzqs2sKDeX0NP/6G+ZQkgBOjH0UYKgj6kmCZTr1D3/5qnyQHhr29q7Lsvulo5ezRt7wGf7njsj1vnyCQ6HQ3Jw9ApVYCUSbvtRPddOPXp9iNMZSZ+1dkV3SxcxBQXFLJdXfkIm1dVVCJFIVPc3S6Pq4Dgo+iyYorTIsIcPn8XmVB0vY4pS3z55cD/0VXxeraciqiVx+PM3xZr2TvKXqRlx+IEZQwYNnrDq0PWgoBul/10/u2fxhMGDoDl8JAAAIABJREFUhv58TH57nmNT+8x3USIAADrpyrJRkw6K3H0dBYWJ6YWS0J3LDkeUpTj/+YsMR1dHJV9z4qiIBGuXKkMxfAcnWyr11YvUD/qNzW/i4ZL8LKyk9E/R6x3zTtkvWtxFX9bbi+7uXnX0NdS4lE66smzU5AMi9/YVOTwiy6H4VViklauroNrMil48i3Nu1eIjvWMKoRpRVu07O75eP3TcuvNv8rj6JoaqII26X3n0qlkT48xXz3H0ClWLZVm+57D+etfWzrhkNLifCQllMSZlYKAHWWlpZS2HzszM45pZmFQ9uUvjQx/E4tWfOsPfgqjBid4enDFh6bl4UksgySvW6LDy1P6x9hQACCNOrZy/6uD9dFJDDYryJdrN/eetXzW8iRoAQPH5yW6zxSuf/OVfn8eJAACgOOpdCphZWVa+AN51weI+N6ecjc+13b19TPmDPEya5/gOs+Ir70DLt7PL9pBQoV97AWXWbcWliBWyz91+uvDuJ/kcvgwLt27WTMm1Pmlk8CONDpuqXvzWtLYyYC9GRkqgri/Pl6fTfWz7ffsupHQebEIWPdw4fcPjPPulA0NkCyVZ78LZ//WW/aFsKWXWbcWl8LIczgl4N6ds/0zWq3DWuYe+RMRQfLJyZpmMK4efu4+ZZ4w/b1GD4beYfeyc7bYNv83u9u/OMev+XNrDqNrRK6EYR6+QIhznwQMb7z7SakQHdSKNhdIolLLu3MFxS8C1F0IPNwFAcdiNexLf6R20AACALW9P4uf/LNjleMbDGn981w3GoKiBMWnHVy67rD7hzPOfW2lL059eulWgRgAAkxEwd8SPV00n/xk8vZudOhRGXd4ya9bcEUL1K3/0NSIBRMKSErHoA8YxpEkJyRLSwMiocqsnjfouWnDu9vRL6xYe6vDPyNLgjzTqNbzb2rVQddUJXof2nkryGabsdZd0/NNXVOO+xorDyNwbe29YjPv7vYFSSt9AF3KSkgoYEHxAEKfm9fPyZz8tWae18Ad3FfepG50qf/OS6g4uAADAlChbqhjNoYrv71iwbdSiWV305DIrSgzatuqC7aK1nbTqn3iE6kHTpf+CfX7jbiwbPn7eJp+OG6zLRq9kPyvprMw8rpmlMQeg0liVND70MevqYYWRwzeLjg88dTf+edLZN72Hjtt3ZzDfiJPz4FRglDjyyolHA6e11naZsnFxxIw54yX+HYwy7gTG9N6y/n+GJNAJQWfvp4uKTq9aFEZKUh+cTXLchDPB1RnGoKiBSROiYoV63l7NtEkAnmGLvgNlH7/Zv+VUXvvVp+f3kIV36vY9529NCeuwbMehGb1nOn6Ezk1nZmaz6o3fv1ORNPdfOvfc/Z8D1yw51n7v0NJL9ares3ZrVb0dQN375yUPpi/aYPrrjPYmCr63mMx7DzNaDnNVcEsnnf34rwX7eT9uHPD+WCHHyFCXZLPSM8ruOa0vdbcpf6x9deVhJLdr135NFa1F6jdVslQh0nzUX9d6ga6BGglMWkVmi6NeF3Zc8WcLQzwTo4YkfvzHggdev05pzjNu19/X/Gy6hKWsO3dw/C3gavnoVaCC0at/F+x0OIMx6JdAeGVW6/FHM+jS2iN1/rfrybZezPnJbnNEKx/vre8FMsqyx7rAyNI/eEZ8AFD1mH78xfTyNdSajtsdOCT97bUNEzc8d1qzxMsIcjJzdCy6rb4es7p8rSoDFqh2MAZFDYxn27yJ1q4z69d3svqpi2VZnMakhNx+w/EY11N+fJGy6NK5ydI1D0NzwFFf6U7pyOPLNgeWn50AADjmPeYu6GspFw6xBfmFIFBRqeYFRJT1sOWzzz1cdO2XJad8/hooSwTfokWr91fV8piz0/T26ScRol5N3o8y6fiLm9b/fVtj2vouCs6IdOzjSKtZOyc6VLtcoKpKsnEFBR/hhe6krkuP7h++m+r3raZv8H5mVV26+n2iA6KvAFOUGhEel0urmzo4Wmp9zO8eUdq9rbNmFg93V40NfGA9ZZWvADguUzYtipj+03jpgA5GGXeux/T+rWz06syDdFHR6ZWLwihp6n0cvfpiMAU5+eAxN+DX7qoAAARfz0IAUCwWlpSIPuQCWe2oGjr1XbEzJ2PU3E6eO11b95+7Y5rnpz7mtwBjUNTQdPss2xQ2Ycb2ke3PtPWfPGfmyLYmPJAmJqaCvrNl5Tl4SH1TY4E0Nj2LBuUxKAi0Tc3N+XIxKEEZafMqR5uMUCQBHp9f7UswKfsxK2de6L3i8qplp713VjNEKYdv0W6IRfWLKMtuMzd3/4mjeHPKrssQO8X75nF5IBYKv4jb1mrOLPqKCa/Pbjv2SK5Rz19P7Rgi/2MPcq/N7T3pQKzGoL1hm7vK1lV2qzcUf+BQFq/tipDHGQmJGUXQc8D3JpqytKg1Hbf7xpD0t9c2fLfxudPq0tErTYtua67FrCnfdo2inaL/IkLFwM7J6XPd6iNoPGbf7X6p+RwDA3X84fJxYAyKGhxp0nXZueC+p3b9/sf+xf4XLy06fGCKA8MwLPF+dMiyLMHh1NjdKYsukxd0qWEllmFooDiK2jzHacKqHy74rQnYsifMb1HLai7OGRsZ1ZSQ+khNSyv/N0lxKaDpKj/qxY9WdOizPar6n/qcFvNuBMx0KCujT5TIj0I+p+hLx+Rm55CW5sSVnQdf+s93Le9XdPzJnafEZlac+BzZnF813uoNHz6URaoaWDkYvP+5qqFT3xW7cjNGzuvkscu1db+5a6Z56ry/Gvo6yS6Qpcu1LIJj3mPuor6W9d4lX9u4mnaG6uuLjEGLXh1cteFCmmn3qbOHGwUt/ZOdtMLf4gv6VULHH18wL9R99eqBVpQo7fWLLL1mzkaK70ei44/Pn//Q/dc1gz7kWen/GEq/xcAF+/oOO/x9v9lbfr80fIeLgS5kJqeIAOQucNMpcUkigbFZjTcY0gnXd/17P6vSOKiJz4Rx3oZyY3QERXFAIlb8aCzPxtPdXEPSo5vjZ7s7jJGIJMCpGifz3JfcSV7yeVKEkGKUU/8BGr+fPHhvuqt36X3W0teHDz51GDjdaMem0rm2P/2t3soJGo/ed6dvah7HwBBHr75w0leHZk0K5gAAcBr5L5/VucYLZCbmFrzKF8i0Kp3eP/qPdvylXSe1j0GLz09xmyNc2a5nd2Uvx2HS7/57KM5l7FD3TzdaXnh187rXVrM6pu0d6bNDk2C8Ns1tyBMLk373wKE4l7FD3eqbRTY/OvR2qE4+CyC8+cvAcUFd/g7d0kXhi3zY/OjQ249087+Iy7N1w7P2695s7rXszELKqlULU1FAUHCuf2/tssXSqIArr7iuA1rXeIWOLclOTvw/e3cdFkUTBgD8vb2iO6UVEEEFREIQFMREQQEFC8XGQsVAsQOxxVbUzy5UTCwEO7EACcGglO66427v+4MQlJAQUN/f8z3P523NzHI3++7szGxS9f6gZMYPM88TfPxMYLNrm8KNzA5es+Ci1NyzHoaCNW/RApULr7S0FJgCNfVZ/UVYAzYHMvvVkWXzN9wQmnXr0kx1DFxqRVWzH9H9wLaTdxab24kDABQ+OOqfbDp3uNK9fUACNLmrdzM1ZTHF5GQasj1qmyj8EgqKinQAoNBlRen1dQOiKvWdXu8DMtSaGtAOyi4uLmaxSup+YMJJCjm07dGwQSO6i/62epvfdI6fjlJ3TVEnp4jXX2ia3bVEfldSNeEkBZcV0aAZisjXa+GJs67S3f+dt8aRqVc27kg3neJsoSJI5r49eiEUNMcZyQJT1mVcN3+fVfP0ZTe4GEozyLyYKz4zd0QojjoxXKmipuGVZH2JixMEAAqFT1JFUazi+0vTHLFmz4h6kqaIiQpDUUFBjcE8mXLVa+ENtcWXp+o04RVFTUUW5BeSFBHR3/frQfUi0x5uc5+37wOfOIdNY3H+wnu/5kRRsBvRa5PX6SvJQ8YpEGT69eOBpf22DpFh3SvfoP6u3vV82VuiKQvv3P4Q1PYDPJaO/uXmH25i0P7jz6s/IJOzmDTJ4vsNCf7pW1ejnsWT6U+OnUgxHNMhfHdU9NdL4fni3Ua4zxmm9OHM1ZtPn2Vwvj084F0o0a7XpInmMmRO+IW9B66+Si4R7mA+csasfqplBzh+4ls3e7HbPgdeEv3P7J7ASXt54Zj/3VcfMznCKkaO02YM1ix7ssNNe3Zs95HbERl0BYPBE6Y56okTVFlVkRcHFvo8+5RHldK0cJJX7aNSFsOROeEX9vpdeZXMEm5vPnLG5H6qfABA5r7z37n/8psUnrRO/4lzXQwlqt881bhXlTLuCQjPl+g23H3OMC3BwjdndhwtK+K6QgkFi0muZpRnP5Sl/IgHrrxKZol0MHeuyEeNp7IgMex5jEZHXUU+qDnF77l8dWz5wWuRBZLdRri7l6/gpL28cNw/6NXHzFJhFWNHt+llp43Mfee/Y//lN6k8ae3+k34ucWsiBKWpUcvHmKxmSgrzcnN4yoNW7pmpSwOATm5++wvcF6+z1V8nKi7Ayc0BOWVBIvN5wMWXWmMMpQlBYUHujbX9eq4tO47KxPMP15k1JF6kychKUooz0nN/nnyT+/nk/GWhJt5XR6p+vyCy31/cHWU/17Hphf5lZFp6Jo/aTgZnN2qEWn6zDT5OaeSTaPWFl3bKHRsw+vVvyOdfhiI9YES/ddPOnI8d467+xf/EffGhZyxF4GbFel7TunpjUxZqPF5x1rekxOqN6GRmUetlCP2ocTFo6sOj2y4ev07l7yKpoTHA+PPFAzMnFMvcsS0qyitgkTwuqzA3jybGBih5s3208zH+UR7jBvB9DNjuNnxk7EspouwAl05cB1ETZ3NJEQDWU98lh1PMhgwYLlH87uzOaePzz2/1MjFh5j1aPdzlDMNmor01fLi+fi63w62lOpG+o0b4pnUfPbK/YXFYwPZxN9/6Xt3roECUvNk2emRZYvwfA7a5jYjbGbhtkETOtUVjlyUMXDLNRvDri9fhiWT1iKzmvaSqlNF+oPGnCwdmuRbLhKzVKy3KL2CRPG5JYV4uTZwNP5cFSt5sqyg0/6eAbdOHx+28sW2gVI1hIJny4MiOm/37jTGVhppTNOMDAOAmnpo5Q7WP00Cjzxf8ZroWla1gPdmx5FCKme2A4RLF787snDYu7/y91Sb0rGuLXJbFD1ziZiOYXEOJW5lQjwUXQ6fER0Ul5IC4audOSpVdtKhyfTzPPpv1LSbyUwaLIaWu3VGm6Pk+L891Q038xh+4vW7H+287mpIytZ2yAh/vU1oKCbLVTgjr/Z45GxJt9+4aXHU5+53/tsOZDYpBucn39+06F6syzmeaUaOatrmpKZkgY6zM35idf5MmF6ql1PKbNWtoppm9F/n1BmA9/B2Z/BuJWDoPlnXyP/16ok3g6XCtEZsMmMCqXEuTblJXb2zKQvVq2gMy1JoaPSaJmysxPOD4VDU+4AO2YdEbx6AgwbUrJujpfXsc9Mh67oa5mlSArPOefl8svB+uGCYBAL1F401vZJBjy4aJcBOKjM5cWGte9hzdfN2dW+VHttdIuef49OmzeEMjsSv7TiQbL7/vO06BAJg8ITlDgJZx1XdPeEeP28dmaNAASEdNluXs3Scj7Ra2u7bL74uF98Pl9hIA0Es03mzasRteA5zi30TkajhPG2urRgWb4T+WI6vmvcZKfC9jJz5gGxa9dQi6G8E2M5qwkvb1cdCjvnM3zNGkAgAn7YeyZF3f6Rdv4f1ghX1FoacdC/Qa6PIrvZFqSrE7AQBA7TTj+PEpZSveONwNigCz7sC0WHvnduVp+3bP4dnTeK6J6qc34bkaI6fWUuK2gCaq0sVEpcZVhKB8J0P5ik+CPaYfuOv4+uqVBNlmGD7H1OyoCvdjP7FAt8rRCp9vct/6xcBjKvvV3bsVC3klyff2nP7M79CgBKgKxu3zZgTkuTUys2Tap89Z1PZamvTG7f9bNLVQLarGXxDOP/6b8Rk722scP+3nk/Q8tcf8ERrV4somdvXGpixUgcGk0+GHGfeAEBQS5Aau7W9W/oBMeeL5h94NekCGWlOjLytUeQNTDb6y/WkqygqU/NyftmFFhobl01We7FrzngIAvJx4EE3kgAwDAICqYTOiR5WOnGROzL1b997FZxakvisk2awSFq808t17tqZrz/K5GqlSCrLAevDyXXFHl37ty3JOSFta6hJ3wsIKWDmhYfl0lae71pYllhsP7LQviRxGJ8veiod3uLqVzHZzGawvw6gpiz/tBRLfy1hWwnaU/JzcWrqGVS1LxRF3r6l2RIBfiUFrTZHazqBH5QoFSn5uxdkmc2Lu3br/Lj6jIDWskGSxWDxgaFlaKh72dXUrdncbZ/Njif88NJluwyZ1a5YjqenqiJWEx3ziQJeKb35uyNo5eyOKOBFrXG/9vIN2A7sac+LCY6id7dQh9ur2s2+L5C0nu/ZswAuP2DHRH3mqTl1bpd2aTH9+ZPuxCIWxy+zJ8ztPvqVbzVnioMFocqFaVN2/2eyAmYPWPCr+8WdMEe6/4Y5PvzbdyNu20bSHD9ffu+rgNRnHQ7byP3w3mCa/0NUbm7JQfQRs98Xa/rSUb8DO9193Nv6o3ISbW7df/shStl26aFDZd5f8Frhh7ZUk4e7jPScYihHASXt58WRgWGYJCGlaj3TqrSIAwE28vX17QGypoLgQjcNhKhjajbbvJo19qBqseZo2CIIC5M/xGa+wqBgoREUtQxHTH96/fWWKFKJKz7uog+NGrots16efobIwr8r+JcAnIFj1vodXUFgIAoJClcuYggI0MpddWpZYZbcjiqj+8Nlq/drTQMhiVYC/hu92v0WD92138Dm61VHte6lr3esHFIICZJVXvP20urIs5YWufsT+7WvZsXa1pkghKECWLWdHHhw30jtSofppAyGLVRf91XdUlPjI1uFqf0ITVgsQMDTrznfldWgG2aViEnqamr33MetaXktEiNQxm3wNyOzXbxM79tdjcDPi7gd+6Os7U7IhsRon7tXbbBlDM+3W+HOVhN2LVOgle3Kxz4ocR5dxPZ8O23VhmJ2nLq2JhWo1NfyCRHu6bdg8rPSnGJRfUf9Pv1NrDXQ6nUkvG5pMVXNw7u379qPDWOuy8SIEncFgQFl7Pq2ert40bMpCrYaqbGnCXHvwyq1ETYf+7ppUAE7UiT2Hr4VpLVrcTYwAbvw5t7FHldb+t9JCJCnAY6TtzUn+Jydq0pR6GdG9dmV5vt/hQHy5MNfBaWJ6YMB0DYxCG6i5L3ZldxHl9T5NRlaK4NNx9FxmWHcNz3p5fP8jKbebVxbq0IATtenhxUAAAEJaSpz3JimRA3KV+xPS0pK8l18+c6Dsbd3chI8JpZJdVERoYrJSBJ/OcM+lPyVGlTEat+7UGPc7nnauGw84DVn/vXYrz+LPe/34nvBaiviziiMuqq/QTcd6efzAI6lp5actcvPDC9fL11BljMavPTV29h3Poa4b/ZxssT4vJ2bZrwd95YNHea6O5Y8FBVUNLVWb6/Dst28iRSV6Xls5+5XEvIAj5rINqpC4yQ8efZTsvaR1el3y6Q13Lboxcz5FbeH0Md3JU6UcaXl5AppaqDaFkNaxsNJp7Vz8LQTsDnywq/hAyI48GjPy+0q+QbujBlV+qq+rdxObshqJLCosZgoK/rnfZ9QsKHSGWM+BSk8D/MNmeOnTCh8fe6RorReZSqNRAEoe7trwRHvlUwsZGoCqnafrCYvdBx+P2diLSaHTaWVtTXyqA6y6LFgV86kUMAZtqOZu0KAICwmSKR/j8kkum01o97VUTrq0z/9DIQAAcLJismtpcKJQgMMq4QBw0x6fv/upLAJk6Fj0kI6/vO/ixxIA1rdH+7yPhxNd+vVR+npp138ReSRAYfSZjSeiFIfYGzNp2n17Kydd3lslsTcx2SSw3t+89CqNA0AVkpYQIOjMat1JatvrV4v485Y0bWtL5aRLDTli41EAOOwSDgA3/ftpY0XWVeJ/GyEz0LEP8/mN4KzfcXTOxzfhHCXZnKCrkdJmxg2N1biJN25FKNg6mTd8JHcz4cS8fs/sNaS3GBS9evG+nW5XCaKphfojcXKSP3+M+5xaUMorzU3+9PHzt587GqEGIwTlOxmamfc07CQnSBDSPaYfuPv46mZXw+bo6t1QrMQHe+cMNJ1wOu03Vc3oT8Lj8JuPsMq+fO5pCZkWePpzTyfd8oqOE/f8VYailmZ5pUzI6urIZbwPS6o2RWVh7KUbUcq2dsbYnafhGhCD0hl0BpPBYFAAqHQGjfF9Vg2CQmfQGXQAAKpa38Hdii9ONdTWsdsexTSau21R53AvK339Hj1NdDvp2X4t+8VTaQwajV55AKbhmKkWOX5OPS2tzIdszO9qIE6n0qgAgpYLvMdLP5zXS0dbR9tw3LGvAiIUPpN5W+Z1jl7XT7dT506d+yyL0lu2e4GpAADTaO72RZ3Dvfro6Zuamehp6dmtvPOVBG7G482Ohl0NexgZDD3McVgwofpLGGvZ64cyEgSdSWfQ6ZSyItp0K744tbuOju32KM6PZQGm0dztCzuHL7XS69bDrIeulr5t+RG/q7ILlcaglb8Wp/YUaQwaveLVOQRBZ9AZdDoAMA3HTrXI8XMys7TqOWRjQRcDcQaVCsDNeLxpuGEXox5G3Yce4jgsdK3ptZP/LPEBk5ykH52/ltL81x4y+82bBO3B091dexfeuxXB5pSU1N6c/hNOjP/FSL3xEwxbrcmaTH/95msnAz0mcD6+CuNo62sW5RVwmlSollXrL6hhWI+9B5uamfWaeT6lNGr/aHPTnvZbmzmnCADKu3oP7dzUb3zhu2OLJruuvfL6hu/8qVM9dj1IrfvHzY0953MoSlSIl0v+wtxQ6O/HKy2l93YeRLlxNijsXECp7cgOlPIHnWR+fhGPTq/8ihJCQvwUdgmrfHVpdMCq+S4DBu8WWX5mrZVYTcdGdaPweDwAMB9gDQDnj51qjmOy0qPeRmcLqut1lhcAAODkfImISsynCLdT79RBqtb6pjA5IuwLS76zvqpotciYzHu92Wn4nR4nzy4xkai4Y2ZnxYVHfWMLKml3Ua02n3dNiXFz4yMiEwr5lHS6qtY8+fcvZvF7EdOi3sZUKWLTj9hoNZ62+kv8DyOTz0wYdKDjkZuLm7kTYEnQvB7eMsdue3Z4ttR61tvO5ob95y51UPu18597e671cqrP7c19WvSNC1UVXp9u4tvhXKBHJ4jaOnj4NTlrIwuXhcon+jS6UAi1iOwTo/Q2FE1YvW6iys2pjpdN/IOWGdT34847PUb/ovXTs+Nl/ojuzei3YT9bNuCw/rU9Gjv7O17lqhstPrtJ56SDxa1BD89PkfvkO8TqTHf/+6uNGQAArPuLTCemLHx51Emc/WxZr1FJ8yP+s4v3HTrkhPqOwK2D2upYzbbB0WUUADy8GVR14e94CsKU7mQsXTUNMVW9Hqr17iao0LmHQg3LCZGuQ/p02P8imkOYVC5kSKgbmKnXsHVNiVFFVXR71DwTUMOyWIkp08m47nHuDT1io9V42uov8T+MUHBcMu3c6G3nRv83Rrk5Yyk+661vrAEAoOfKa5cSOdJqMrXcofyE9f6Q72O9hVctWy0ABQBBmz3hNmX/7OR+5oY9W1JVRgCgW2MLhVALYdBpVGVrF1sdRW5+N9kjaekkAJl1fdW0QxFVW+0pDOPZRxf2ws7xqAY0bafhnQ6cMRxjKURJ5QHwAACoqtZWHbdfux1eYmzAB1D0NvhpaS93y7KBdzweD3gAtE4TF9ifdPHe6dRrdY9W60n1p2rr46XJdH+3Ph7X8yR6eOiK4i0GahY0zckbpj+etOKM+cHRKr+lRY8moaL261sXvdvjdVV9+emhsm3mK04VU1L9cVnDCoVQiyLKJiOh0+llkyEQIj0mrFSt/mZeirBiW5p6F7UB3ISggCcJYcmXowaPdP3vyQimLC37+cW7cezY2+dDR8wy0nHbuuyD+/xJHMfesulPgj7b+G4aJkMANzHk0rM0Vs618+8Hu+iYu8+zvO7pMbv93h3jdTEMbYi2HoMS0sP3h7XJadbRn4ymMW7bqiS3Bb6dT8zTbeXusrl31yx703/r3sFybSYCReiPUzlVScX/aRIq2hK1b8/lcnk8bm3zm6B/BVV50Ia7FVM4MGSZACBg7O4f4V6xgWCXCQeCndOj72yavDlMy2eZmSxkZ2SLKPX3CfrkU7GRgvOR984tnfW/Al710L+JkO7tdfTARJ3WH68lauJ53M9NH2+eEWoUTnRA4HvWp7sBr7LTnl1//DUv7HbQF24dO5SEHlk8c+qe58WvD83xWHr4eUGLZRX9oQSktexWH1jR5c0ia2MrR8/TMXk4oULz+B1jkhBCCCGE/i6snJRcmrSMEA7KbIQWG5OEEEIIIfR3YYrJ/cpbt9Evw2fxCCGEEEKopWEMihBCCCGEWhrGoAghhBBCqKVhDIoQQgghhFoaxqAIIYQQQqilYQyKEEIIIYRaGsagCCGEEEKopWEMihBCCCGEWhrGoAghhBBCqKVhDIoQQgghhFoaxqAIIYQQQqilYQyKEEIIIYRaGsagCCGEEEKopWEMihBCCCGEWhqt6gdHl1GtlQ+EEEIIIfTvwHZQhBBCCCHU0qq1g579b29r5QMhhBBCCP2VnFzdfl6I7aAIIYQQQqilYQyKEEIIIYRaGsagCCGEEEKopWEMihBCCCGEWhrGoAghhBBCqKVhDIpQg3DYnEbuyGnkjgghhNBfCGNQhH5VcfSFZTNXn49m/9LWnJy4p7cunLsaHJXNBQBucuB6j/n7X2WRvzeTbQAnO/ZF4IWLl4JjsritnReEEEJtFa3+TRBCAGTGnaVLXljsXm8n/yt3buxXm2fvFp21xPTD+vEzY04dc+ugYrtsufiKGfNPrPNzUaH+5txy3vkij0RPAAAgAElEQVTa2B/I0rcdoC1IAeCVpLwIDClyOPJwlSEA590mR/tdWd0c+nUSAgBgJYdev1vkcObaKhNG05Nmv9o5dbewx2LjKB+3yTGHzrmp/e7CIoRQU3AT7273vf6xRGmIl/vAshqeTLmxcfPVJOHu4+aMNxQlADhpbwJO3QnPLAGhDtbO9hYq/OU7kzkR1/wvPU/KKyEFFIyGTxuiI9CKRfnDYAyK/j1k1qsTp2K7T3PW/vXvP/vtgX3JA7YN/qUAFAAYBp7HDgNATraIgIgYHwUAAETNZjudGrHntt2GgaK5wQdOlvab2F+V2YgS1I6b8vDwnpuMAR7jl44MHB9Mtzq41FIMALgJHSdOiOcBAABNd+rCkVemhtAt/FZbiAEAN7Hj6Olfqh0l/H54Ooci3slcl//j0zdJbLp8Z4su0jUWvuDlSZ9Lub2nTbFWogEAw2DuucMAkJslzC8iWl5yhBBqs6hK5sbMzYeuhiRpDuk3W50KwIk6t+/IrTAt90XdRAkAbkLAzLFnFNfsWm4hkhSwdOzQuxPOHXDVoAGZctXDdQdlxr41E1Xy7i5yPv5khI2OAD5h/lV4ptA/hh1/wX3Cikj1HuoNuQFjvbl4U7jvIMXKJj1uSnjwneDbQW8SWWRG5OM7t0Puhaf/+Ji9IOKQV4Dk0lVOCuU/NEKy9wCN0ICgXADhbt35zkyZvPV5bjM+nM99tMXjjITrinGmEqLmHp72vIAVm5/kAQBQFYdMm2EhX76diKnHCjue/7rND/MBAKgKg2dNsWj3vb2SQi+4v8Hd63qmIB3Id8c8Vl9LoddarQoZjl7lphK4cO2dzMqiFIQdXHVOaoGP86/G7Agh1IrodFGzAQafLl0O5wBA0ZMTzxX6dKXR6DQKALAe7/J9ouM620KaBkxVuznjOrzac/A5C4D1zM/nluqkJYM6CBI0+b6rz210lMM6rwHwZKF/Su6DNTO2sMbvXTdApSGPnblfQt8SWl1lvv9e6o/SiiL9PA+zXH0W6+bGplYGZwK6XWXDn0cAEGLdJuz07hY8e/6Jj800WInz4cjWyJ7zhqqVFU2816JlA4tPrd3+rBAACBmTYdZKlduKW81dOrjk9LLd5SvNhlgrf49BCUnj6RNMSxOT8jMf7ghgLvhvvbOWYB0pUxUHevRP9vULZwMAFIUfWLGfNXbb4i45sWl/f/dX1Fawvz3z3+69funCpV7rTzwp/9Fx0kIDtq9Zu8xr7cYjj+OLvm9NZkde2b3Ry3OZx0LvrQFRRbUcFP0reBz+nkOtcgL9n7HI9NtnPpuM0K2o0Tkfn7/OVOyoXl4JEtJddWQzI98ncTlxj0NTVLp0Ey/fUlBWThyfLjcExqDoH5IXsmXJddW5q2yVGthFsfRL4jcp+XZVKpf6ojR26LYFvqEJIT4zhw6d8190ZZRJlW0nmZ+UUPZBqLvb6mFpWxefjGuOsTvcT3fulhpaqVaWjZAa4OHVN+/o8oPvfo5yCckBS+b3zT21Yk94TSEwIWtjb/755PQZ52QWeY/VqAjYs+9tnn/8XfmgLM6HU6vXXv1atr2cpTHf3dsRbGCH7nb3ffslZOtku5Fuh2NLm6FkCNWv+PGmUStjjd0WrV3uLP3S//ZnDgA3wd9jxOrYblM91yxz0Xy1atik47EcAADy2435Qz3vKwxf4r1ivmXBlVPPs/Fu6V9XWkrv6TSQcvPcvfBz10uHOHQAXvkasiC/iEenV7ZbEIJC/BQ2i80j8/MKgF+AH7scNRZG7OifwY07tu0av9OxYQ1/PswrLCjm4xesth8ha2NvvmXz9Bma/RdtqIzSsu/6rou32jyhS3ev6xFeNRyKwi/ALCqo+MTUmzzJqPfm3XeGbhsg2tBc/aA07tNXmV7VwmtC2nyQkfJ5GZGaqkhCxmygqeIF2RpXAtDlFCW/3peZP8FAqHIZSUp07iujXF5tUPhUu/VuJ1P2gSqrJJv5+iMbunVfEPx+QRPLglADcZNC3yTyDWwnQgC1s5vf/jx+BpQ83r3xufaKOxYyNABl20WjT/Y6eOiJk48FPNu95VZ7t/u2aoIECA70OqtXKokNMv88Ho9p7DxY0mn7vM/dFp2WJU5VxKBUKWkJyEpN40LZ0yIyMzOX3k5BjkalSYlDVkY6BxSbYTznvwh/duhfUfTg6LFIHadRnRpz40Wn07hczg8tJXQ5RcmviTK2VaI0kpTU7muo9OPuVXE5XBq98hMh2WfUQMp1v4D4JjeF8kpYZFnnpcrcpNxacxhm+zjVNDSdTLm+4TC4rR9T0yB9TsIFz21pjhM0n1y5UdnNtSD6xJpNl78yhAkAIFMe7Fy56W2hROXppDEobNavzVuFUHOjKvfq3TFy55hJvtei8+iSctICwIl7+TpToaNm+ShlQkZHRz4zMiyZy/n45EWqip7u9yeo8mLYHoMAgKZt76CVwjMd0VuIwgMobwmlKltZaqQ8DIkoAQCAorCQpxyLweaiQFXrZaqa9Dg4rqx1PfP6Su/LP40LQHXA3x36RxQ+DLib2WVi3+8jbwo+h4YlFvFq3JoQUurZTbnyI1VaSjw3M4MEqcq7tsoobd+VG+l9h0sTAFAQeXbt2uddvS3rykdWLikpXWWBgHE/U+HJ1698GjtLo0mzGBHSkoJ5OQUk8JdlkptwxusY/6zddmUjotifHoXSepqWF4r75fzSQ3yzDtmUr4x7GkozMlUtv8kPWeN1rbPX3kkS/vcGn76YaD9VhQoAQgqC+fEgKU8DACCkJChf8/lkKmchYeXkUCSkcFIS1EqYejNPX1LZs2XfwoFn/VxW7V7eV6ag4OcnqCwWm0fm5+YDPz8+Qf2LcPOTouO+FvMraGooiDS4IuUm3r/0NDE8OTDaxmH8oVvDmTK07NCAu5/ZscEXQ4fOMBLVcVu35MPiRZM5w3pLZzy5/8Vmvc8waQKA0JvkMyd60by5pfbGokm3D52jz572O4r318IYFLUKsjD1c1x8DkWmg5aqGKP6mpTYuIRsUlChQ0clkZ+/oNy85OgP34oF2ml2bNeAqqbk9d3HuR2ceyhU7kKWfji5eNLZFKGug5x6yFbEltz8T4+vBcUV6cyIv+1euTejo7Z6xsM4NmiVZaiWKE1IUSD/C0gq1PGzYsfFJqvpaFVdxG/Uoxvjyr2QbzM0FJvyYILZubt28tO3JdBXAADYkftXBah7/GctUXbMoqfH1gWY3SiLQVnR+5dc7bB4r3X5A8iiZ4c2BVicNlWlAvfb7dWz55ygTA9U5yuISCsoDT3gc9Zq5ygNGrCj3sUqddXlK0suLzwyQ3NYx4qysiLex3fS18MHUqj1iGgP8Tw0cHyIz7hJq7ZZ9NqoIiUBWWmpXCi7ueJmZebQ2ynJ0qhUKXHIysjggAJ+Yf8YJcEePWb5p3PLmw0I0WH7HuwYxARgf7m2ecHK088z6CL83PwSYV3nxTvX2jRoEmaqUt/1t/uWf2DIMAFAoPuss09mVW4hoO26/7JzeuydzbO3hWmuW2osCzmZ2cKS4iKGMw8EuaZ+is9k03uPWNJOkg8fLzcAxqCoxbFiT82bvepqIiHCx84rFum9xP+/0epUAGDFBmxa4n3ueRpVWBAK89hiunYLN3iN6lwx1oedcG2d16rjoRl0YX5OQYlIZ+eVm73tlOtKqwLn4+u36UIdddS+f+MJ8b6eC4bcn38lIVdt3+ZxlUN5yDTjyUPmJ1bfX9TMWufQo5eswb2YdURp7MjwWOXOFUFazfl4+FKo1xaVagsFO3Vuz9v74k3BFEWRXylMbcT7jOt98ui1lD4j5Ipf7Jq79W2euo/Tw7J1pVmf4shh/QEAoPDlNs9tr/M7rBr/qDxX2Z9iyGE2FAAAqny/Vf6Rq8pW6HlceeNRcXgyM/oDaA2Q5LBIKpNgR7yNU+mqw6xYd/tMRPdxc3BaElSr+m4vm9aUxX69Z80Ls2XTdBlyZoPNFQPTS3lU1V69O+4LDIosMdbjAyh+++Apx2x2bxGgCvWyUNl170HcQl1tGpAZt9bs5ExfYVPz/LeojSALcvLAaMHZdQMEAAAoDAlFJgDk3PdxmXVZ2GVz8IK+6kJkZviNvdtfvyuwUWlqB/sa8Etr2K7yzcmYurif9cGuBnYLVswwEQMAQlBWXVu2+dP7B2AMiloYmXp+0+qbghMvPJ5vKMpJD7t5v0CQAgBkeuCKsXNC2k3bGjLLqoMQFMTd9V3gtXhciVDgZltZAiD3waopsy8Ijd15bcHADkJkVviVg9tfRsCvxaBF0R++gKKNerVWD0J2kJfnjcdzgzYtO295xKl8biJCxmZUn42bqu9PyAyZaHL6v6vJ5o4KtUZpZOb7OJ52X8lSNlBrbl7JCTkZojTmUMfqvzuqknp7/uL3MR/ZQ/Sb1CwjYLrAM2zR+s0ic0cp6E/fpFG9nwEhpKEFAECy+Awmb+pI/rBSvd4Z+7k0oih0/1K/sUumW0smvouiatnJUgGA9fXens3X289fb9WkEBr9WUruLjWfeDFHpu/aC1udqg2Fyw1a7Dz9ZILw8F2vtpT1S6nv9rI5mrJYqS92zV9SNFKfP/7+C9WJqy2YQOvktml+7LzlU0qH9JbNfHI33mbr6qEyBACh57Z6TuSyeW6lDqYiiYFH/enTpzbTaUG/Fb+0WseOVeoZ7qdTW/2/6s25uby/OhUACMkuQ5YeGvIbc8Cn6XLolm1KHk1aSghfAddkGIOiFsZJ/JhQItnDtKsoAcCQ7mrrWLb4w7EdV/N6rbiwyLqsh6KQel9P35SwPj77z0y3cVeHuHNbTn/TWxiw3KY9FQAIiS72Cw/Z/2qiX+O/smiy8nI/1BmEgsOiBVdDPYO3rfDvedC5/EE9f88ZB0R/nLBIqOfspS88l2+RX+tuJl9LpEjSiOLnh5btGblt3s9dQrlZr04sPcqYtXnIT42FFFlZSQhKTORA02JQACG9aTtXvr/1OkPZ0q5LLa06hESXvjZdGn5sQtH54K3+PHFJQQLI1Jcv0rqO7MoAgOK4mALLJbv1pLBC/qfwcrKzCEVFyl2/k1EOnp0rryXcxCt+Aex2KtTE7DwA+IXby2ZpymL0WHXjZUZyUnohDLSdIi9c9m0U6DJm3x2H9JiQLVN2h2kt9zKTgeysbBEJcdFuM45dHZ/yOT6jlG5tv0RBAp+g/onIbw9D3pHdlg9uX3vtw429tNr3QeUzfAAAarsBi+Y1eIq+7xhiclKN3RdVgzEoamGM9rqdRPyub95ioeJhqVTxokoy5enjKJrR+L4KVa4EVEVLq84+G1+8zoH2JSEPwkjd5UNV66hq4s77bA/OIL9XNRSqovVOr0EAZEZ6Ngh3FP85wqMqj1wx49rLdUHr1weY73AsS56poNf95+OLGM3b3u7x1Tcf2PKdawwVCYWxu27a8MSlaprOnZvwOk5p7r5xGkI/r6NKSopBSVZGLglNf8kbIa4zsE9TD1LLoQUkJQG4iTf2bD76THjmKmshAAB+HcvBvyc91NZRNYbaC+266P90dmfz8uFonMjT599oDJ0te3hb+STx9dxeUputKYvgl1LSqCE24JfuOGjl/tx0l5X9TY92NbRZ4D3JWJwAIATlOmjLNbbsqBVwI097TX9IAwCgdXBYOd08MSGJlDBXE6+r3uQXlVdsx+BWvTDIiNG/D0hTaKfZvLlM/vqheQ/4F/sjY9Ci9/7rtt5Kbddn+tzhsvd89vJcVzko/LVtMNykC16rXnZfvs6x8XdtbYrEkEVb3s6eu3ea5SUjx2mz3McYyTOAk5ScCpKdlKtHb4RkO1km50t6JpeTGf+VlDStu6rhE5NTVPyhqilrSOEVFhYDg1njy8up6qNWud+yXRvkvfp6z70/N1JWxVA0c1CsYz0hIFnb7TFVzdpJrZZ1FD4+BoVXXFBQ8yD9Noaq1M9tS/9ZtLbWbsRNuuC16kX35d5/yy/lT0BVsx9qcHDP6aC55rZiAABFT46f/9pjjp3i/cNAAtR/e6ku3iJNWXxaIw89HJSSR5WWxieofy4Kv4S8giIdACg0aREawSvlcIAg6vyLUhUtp3nWNVcJakW/HoMWX5vZe2GJl9lAKz+HGlpyypEZT0/6x2uPdjb4fT3DCm777ohUnm6VdsLF8j9RCmm62b0l6xQy/cXJU4na4x0MfkOX5xrw8j6FPg0Vz/8jwpNfQsj1XXH6vt1Vv50Hj60Yd+Pm/BPHJmqSPJJH+TlE5PF4FBqNACjlcICg1Bn2UBWtJ3pa17yOw+UCnU6veS4WWseJXtOvj9oYuOfQu/5eNT0Ob/YbZah2r0wwGDQKcDnc6n9k9tu11iP31vIOJZrenKCr06vO5vQ7MtlcWqJhgJf3KfTpq2b4pZDZr0+tWOh7U2hK4IXJ6hiw1ImiYDPcYueyMzeSB49UIMj062cDOVZbBkuz7pdvUN/tJQg3R1PWL2GKyknXvxVqwwi1/jO9Rn2PLriyMlKQ/TW5EKDWbkzcpHt+J0Izq315ZM0njDGvePcyNlu2oga0g7KLi4tZrBJWnfOvcpJDDu15PKzvcIOGz9D1q/h7zN6uo6SvIWo/POJdPF3doKPw70qqJpykB4d9nw0dNNRAFK9OjUaV1BvqeWiQ85l5Dgv27ro5fI+OpDhkffvGqlaVcFMSktl8cu1kqFSurCRkpSQXAjBrOyY36e6RE8+zqlU1cqaeE00BgEajQSmbXVt4wlAxMZAX5vTtp9kqU7WQJSUcHtCqTzAPwNBb+iBqaWtk6N9Fpj/yXeyxP45PnMOmsbl/z53f7yPZf7jV+ukXL8SNmN0h4fypJxK2B3uLwK2K1bz6bi+bqymr6fdgGIv8cahqRkZKu8/dCPrmNLy299/xirO/JX2t3ojOy6xlZmjUwhr1LJ7MfHribIqBU4eIg1Ex3y6HF4h3GzrbfbDShwtXb758nsFNeXh0faG4goWLa08pMify4r6j115/LRFWM3eeNKOvMgCQGS9OnEzVHyZyZ8PRUIrVqV1jOGlvLp4ICH71JZMjpGxkN82tv0ZZ7yJu+vPjB4/eicqkt+tmM3qKQxdxgiqrKvLy4IoNz7/kEZIaFsPkVHqplM2GQ+aGXzx86OrbZJZw+54ObpMsVfkAgMwNu7TrwI23KTxpnT6u7k6GEtW/qjXuVaWMey+/zxfXdZztNrSjQNHbCzuPhWZwUh/5bSmUkLeYONqUEvpDWQDInPAr+w/eeJ3MEm5v6jR9XF/VH+MmbtrL43tOBUVkErLaVmNdx5vIAkBBzM2Dh649/5RHlVI3HzF+nJXyD5P8kKlPj55M7DzB0VCMAICCNxcOhErPm2xRW24BoJYTW985aSEM1cFWXReHZGUUUpW76cuzAkOe5Dj0F6tYzfl4+3YkTde+mxBQ1XoYKG27ePNmitOo2p6W84qzUpKSqvcHJbPK/iEiLAgl7OKaqx0yO2TzwgBJ9zMzDWvqyQm//eLEKy4p4VEEhWt5a+Yvwivod9zUR8fPhkoOmjlEvWF1XOmHp9FqCy5ulD3u4PLmN2XubyPS236Q7ITzZ8ImDLpzJkx9+AY9Jnx/XxZNuu7bS6A1R1MW+kcxuo2fbHJ+2ba5OxS2uJkqMMm82LsHtz1RXrHMsWLSZ5rGsFW7hrVuNlFtGheDpj46tifgxG0qv7aEeof+Rl8uHVw4qVj65uDiovxCFo/HZRXm5dLE2TwoCfMdO/EE//C5Ln34Pl7bMWO8c3SwJAFkypPj2wNPBoKYsX1PSREA9tOdq/9LMR4ywE68+P25nfMm5B3ZvMTQmJn/eM34cecYNq5DrCAucIMXp8N5L+2YnWNdfdP0Rzv16V4cccl3uuNbn0u7hygQrLe+k0cf5x85b2R/vs+XfOc5f9x4fUtf8Zxbi8d5JwzwmDpI4OuLdxFJZPV4q+a9JKuUcWh/g88BR90nFssELdVlF+cVlBUxP48mxuYBmfpDWaDk7V6XUWf4R84Y25/v06W9M50++QZ6D6j6NuK8Z2udpp5j9ncdZkmNf3R4xZHxtxaVvNs31nlvusEIp376xWHXdrgGvdt2dpd9tVs7TtLD/3Y+sx/sYCgGAGT2y4u7DmrMm2wBteTWlK+GExu0ypCeVfc5+Z3ItKubDmSYjnMyVxIg894du/IS1McZSQNTeqyL7vmNG+brS68f202aQeZ9uLFh9v4IxeFHHRUIAIbhmEk9Ly3f4LlDab2buTyTzI+9dXTbQ8U93kMrDk3TGO61a3iNqVKlZSSgIDOrGOCnyTvJlJvLFgW19zw5Rbu15qvmZmZkg6CyrAheUJsDmf1w3bTJ5wTdjrg2uIJjmi3YbwbAfvQ7Mva34jNwGtrh5NmjG5JepfWY6Vi9+0J9t5dANFNTFt6D/e3oTDoDGD/cqFPVXDb55S5dtHtCj50iEoKc3Hw+bfv52+rs2YHajkaPSSJzxYdeODpelQ/4gG1YFD7i7n3B1Qtd9bp8e3zvsfX09e7qVICsC6sOfTFde3/hUAkAMBNNGHAjgxxTdufKTSo2POS/ukdZzw7zNQE3yo88RP3bI6dnL58ldDMUvbH/1DfjZde3jZUnACZN+JbBT8u8tm9vmMa8m3una9AASEdNttWcg6cjB85vd2v3wQTztTeWDhMHAAvRRIvpZ24s7jMiITwit4PzlBFD1KgwyO7HcmTVvNcYie9l1OIDdvfidyPuB79nmxqNWUFPeXL3WZ85K901qADASfuhLNmBu45+MV92b9kQCQDoJRpvPu/4DY8BYyo7IpFpVw+f+tp9abDPWAUCwHV6EQvIrGs7DoZ3nHnzyGR1GgA5VJNtM2fvuUhb984N/ItUy60B4+cTm8A1VPlU5zn5rQgBaVrMSpe+a5jiQry8XJ7SwOWbp3elAYDWtO17CxZ7eY/q7i0iLsDJzQU5ZUFKZuilS2+0RulL01RcduzKW7Bs90irnaLiQpzcfL5Ow7x8fi1Vajs1RQHu56/fOCBe/TvPjT+10PuVybJLzsrfr5zs6IC9H4a52zZjuevE+fY1E5RUVP7IIYJtDK/o7Z7Z0/0F3f7b4969RXvp/MNo2o62evs3Hr4u7eA38Mc4ktm97ttLbMpCv0Rg4J7ogTUsJyRN3ffen5wS8z4+myesqKmpLNbQmpSbeGu375UvLKUBSxb2K/sCk99ub1p3M0lEz2XhGEMxAoCTFnr11I33mSUgrGHpNMJMRQCAm3xnx95LsRxBcUFaaSlTwcB29GB9nKSuIRp90SPkuxmp85XtT1NWlqcU5P60DTvq1ft8htLTPZveUwCAlxsPIkkckGEAAFDbDxpuWGXgEpnz4dHtexEJWYWpYUUkm80q4ZV+jYhkdxhvWv64hSopLwvsBy8jijs692tflnNCqre5LhESFl7Iyn0Tlk9Xeeq3LrIssURgZ3xJ4jC0evZWPL5zokfxrAljbbrKVG/qYkXVvBdIfC8jANBUFNtRCnJ+LmKZqmVhxbwKK2CovNyzLpoCALy8BGCnfUkGqIxBOZHvotgaY0wrHikzBZjACg0NK+44xqr8NT6EZK/eXYig9+EF0Ln2AWA1/kV+yu2PJ7aEB3Wfk99MyMTj+PNJiVFRSbkgqtq5o2LlKFWqrNWiw49npcRExmew6FIdtDrKFL/Yv2ax92izg6P23VhqJWU8+7+bk77Fvv+cAyLtNLSUfr2qYXbSUqc8iPlQAtpVTyj7/d4lGxMH7N7RX7bKhZP97vL2/7JaLgblfPrwiSWi3UmtTcWg3G8P9vv5xyq5rHc1rOPNT20LLzt47ZS4UoeTp90Nqw+LzL7qPmTT4596Y1CE+njfWtn3jylgW0KnM5g0OgEAQFWzdeq1/91H2zF9yk47QWcwGOXXF1p9t5fYlIWaihCQ62TY6Hm2qEq9DZnrjl27naTp0GeWBhWAE3Xy0JHAiI4L5nQTIwC4Cf4eLscVVh/0tBD5emnBpGG3x549NlaDpmBhSF+6O3tRmI89kXDRw2Xk5PRr5yfhQMZf1zwXPYKgAPlzVzteYVExUIiKioQiqm/X7/tl9vsKAHbUoelj1se0s7LsrizEq7J/CfAJCFZte+cVFhaBQJVlTAEBGplbyuEVFldPrKvDTJW+ajQQMl1x/oj6zn0HFzsf8LX1/m+tQ5VLfa171VhCXm29mKuUhVdUVAwUoiJ/FBE9xylqfVWrFqG4qAT4+H8sViEICH5fxifITyPzSjl1jgCrzffc1nxi6z4nLYAmqtTFRKnGVYSAXKfulVWJgInb9jsO765dTZKhVayX72go3+AUqcoGBkolwWGx7KHfx70XPt8xb3uCwdzxpa/vB1cs5JV8u7fv/Be+FmsEBciNDP/C0HXVr3W0Vaugyhup5c++lDe1TUXG9aCIaHaT++Yfcu3dbGPzah1MRHtMXb/WrvSnGJRfAd9x3zj8ttujKn8lhIzzfy+dv69kDtz5/HubVb23l4JNbsoi0x5umT9rv+CSd3tH1NKru8bdigtLGIICGDP86yg0hrjJAKWXl86/d1vclVb0/ORjBSvdmDQanQIAJc92b3yuveKOhQwNQNl20eiTvQ4eeuLkY8Gg0Gjl0zPwKQ+w0l64Ku5TKWAM+uua+/JS1ohdXs9TZWQlCT4t+4ULDOuu5VlvThx4KjX1fMCCTjTgRG15GhAIAEBISYrzwpMSOSBXuT9FSkaC9yrxCwfK3lXDTfySUCrRRUmYJi4tRfBpO8zx+ikxqoyByxq/0bNCltjP3HRw2OB1xpUXe5pMLXv9+Jacn4pYWzhKk5KRovBp2y306lZLoSlSUuK8d1+rFYuQkpGEV/EJFcu4CZ+SSiV1lIWrtQQQNDodigsLuQBUALKwoL6hfbWcWKjznLQ1NBndoRN1m3oURte+FrJHnzz+xNHXKvvW5z709jgcUcSJWDfj9s+JdmrAY1wyI/So75kIBaelQ3kXd597S+/l7hfrk10AACAASURBVDlE/Zcjm9xHj19T9Ob3bp1xYbVnnhMXEUvVGaQOH6/5Brwrlu09abSZVFtvmqIqDdvsU+g4Y4mn/um9jorfrwWElLa5hXYr5uyfV9/tZdOasggZs1F91P2e1Foz/4SV9OTIli1+KXZXT7rU1g8V/Tt4pfxmwy0ebgh4Nrdzx8Dzn3raWz0NvgMAAJy4l68zFQZrlr+GgZDR0ZHPfB2WzLWoMuVz0cdLNz4o2y43wocqDdHcvzyKkJAgmfrxYz7JZbOJTn3MlZKuHzgfVwQAAJysuOxa2vUoFChlszgA3PTnF+5+KYsAGTqmJtKJVw5c/VgCwEp5fGDriXCiS18Lpa/Xdh+JzCMBCmPPbjobrThgmDGD1ql3b+XkK/svx5Ynlv3hbVw2CazIu5dfZ3AAqEJSEgIUBrNal+ba9qqziIKCZNqnuAKSy2b/vCVNy7q3UtKVwxcqjpj1IexDtSMydCxNZOOv+wV8LgEoib+70WM/MHSsrRS+XjpwNCKfBCiMubD5ZIzi4CE/BIY0RWVleuLDW+8LSHZy0Ob5fjH1NpPWeGLrPid/KYah40DV2OAbcRW3FzSVoWv2Hj/hV+N/Rzf86mtAAVjh92IULGTCD21fdeSLrkuPYn+/i9G138T8KOf+zedgMcSmXatcBmvPPJn79m2ypn5nBpfz8f6dWFEd7dYJkhuKKmuzdNtkieBli/a/ZzV8d05OcvzHuPjUAg6PnZv8+fPnb3nNn0cEAOW3lzadm+/2lwIAQKY+Or7Re5P3xjMva6/KubEBmw59EBHm5ZK0P6mhH/02PE4pvZfDAEqQ/933/pdKbZ3UKBX3M2RBQRGPTv/eZiQoxE9hsSrm+iuNvbRm2fiBzntFFpxabSFWw7FRrRrw66Mz6AxgMJgUABqNTqfTK5sYCILOoNPpAABUFWsbvb3e80yCBTuMP3p9wfQtCz7NWmZnsFVBmlmc9rXkQuxLcQKARqfTaN9/+kz9MVPMbqyZYBGsxCzmMzPXE39HpdIABM091o4Kn7vUqutGEShgydr4DKDw6czYNPfjrPUO+tvF+Fm5LHkrr52zewgAgIH7ljkfZ67p222nkgyzKPVbibb7OX/19hnPtkyY4yUpL1yYki1tu8G1a7X2KWbNe4lXL2NZCRl0CgBQ1SwH6R9c72YZLNR+/Lkzc34oCzAM53gv+Dh/qbX5ViVpZlHa15JO8/2Palbp2yRgPnPdhEj3+Ta6a4R5RaAxdv1CYBrPWTsndv76gWbbxflYOWz5vgt3eBjxA5SdbVpZTiT7u00+6+o72uA4PyFsPHta32T/stLUktuaTiwNgKz7nPylGHqjJ5me33fytdsaIz4AEFQ2tFRujgMzdR1HF99cuJCiMn/aiO7k+VKupFydb1uqiky6fipEfMSRQa00yUztmWeHvYkSEe95a7X7O4m5xw+Zy7T550uVvxRhk/mbFoWP3bTwUO/L07UbFGKwnvvYTTz+tSx2OTK21xFqe9eER4t/S37Rb0GICaXfu5k0YucUg9p7lFI1hi1dAXlnnqyMacm8oTaMxwNmd+ehEs4bFn82mndKnjhdEYNSpaQkICstlQtl74rmZmXm0NspydIA2ABA1xi6bI1tgoKD3YaNfbtvHij5R9ystxGUsj6O5gOsAeDsf3ub45js9OiwmGyBDrra8gIAAJychPfRyfkgJK/RsYNkrdFOUXJkWDxbTqerqmi1vyCZ927ryPF3ehw47WkoUXE5YWd9iohOZQsqdOqsXG2qeE7ul/cxSfkUYfkOWh0kym6wubmJ76OSCvkUtLso1zyvfE171YWVEf02NltQTa+zHH/NW3ByvkRFJxVQhOXUtdQkazgiWZAUGRFfItJeR1u+8hjsrLjI6BS2oJJWZ5XaJvnn5nwOj0rlU9PTkvu1Nv8aT2z95+RvVPJm+9Dxr+zPH5mi0bxl5rxdP2xK1oKHmyzIoMUW66X8bnno/VLok3t3gf2ivDnX6nlH6G9Vc+Y5731tRr4yHcW8FthhT5BnPd1pEGptZPJRp15BJjssP59JGLhuqY0SDcjsG6vnHY6o+lCCwjCeenKBWdmHvDNTDAN6Pzo9Shqjhn8c++UKmxP6l32HpB0e0e9C97MBi3XTDzja3B5449xkeYITtWXwyEDzI9e99PgAip+vHzjt6+xbvvYyBPvZWssx3+aF7XYQKHjgaTf+SZ9TN5eYCLR2cdokJ1c3AHh4M6jqwt/xFIIhrdW96hvRaGLKuib1NzgJKGibKNSwnBDRGdxH7cCLOA5h+D0NifbdTNvXsDVNVFXXSLX6MqqoUtdaRsDUsVddmFJaxrW9F7z8iGKqXUzqOiIhpNjZ5MdXjzMk1PVM1etOmyqmptejtheP16TGE1v/Ofkb8em7bZo0Ycriwz2OTe7SjNUEmfHmTUqnYV2YwAl/FcnRnqlRlF8gJCxUz4WNTA3csOa50ZrzNq0XgNaWecGSN+GJ2v2nzWqXd37Lnfds/U484GPiU0vUpvHyv4a/fhdRqF9IAgAQwsaunsoFVZ/IUwiRdq2UOdRmcRPvXnuW8P7rlQ+DnMccfDiMT5aW/fxq8Ed27J3Lr4ZPMRTr5LZpfuy85VNKh/SWzXxyN95m6+qhMgRwk+9dCU1j5V6/GGUzplPPWdN7X1+1wF1t9/aRXRswMO6f1tavKWTG5Rl9vQLzxHvM1RHFW1XUVMwuM3ZuLJw9fyZ13Zbx3Ztr8peSd68+KOnqCwMAjUnnRgcs80kd6zVGv65qiJ0QuGH2jpJph3wGtu67XmrO/PCsNx8U9edJCqrZDyyds2Jhevc+s72GqP0zTeboz8MDHiFj5LZpPP+ksW4+7c8vtZSkSah0lKh9Dy6H5JHcRk0+gv4mVKWBq25VzOPAkGUAAL/xtDPvplVuIdBlzL47DukxIVum7A7TWu5lJgPZWdkiCv28L8V6V2yk4HA43KGFs/6n+x3P4hFq49iJIdejVW37/o6QipublMiWVJWupZNGpYLQyyHMXjZdxNrSrVWNmedkJyRypNXqLRFCrSj/9e5ZEzZ86bb+wD5n+iHHobtL7b19l9p2qOU3XvL26OpTNx/ceZQi08vWvI/THFfjX52KGf3LSqJPz3BZ/5BU62pos8B7kjHOYvvLanwWjzEoQgghhNCvYeWm5FGlpYXwsVCDtFh/UIQQQgihvxFTVE66/q3Qr8BmZIQQQggh1NIwBkUIIYQQQi0NY1CEEEIIIdTSMAZFCCGEEEItDWNQhBBCCCHU0jAGRQghhBBCLQ1jUIQQQggh1NIwBkUIIYQQQi0NY1CEEEIIIdTSMAZFCCGEEEItDWNQhBBCCCHU0jAGRQghhBBCLQ1jUIQQQggh1NIwBkUIIYQQQi0NY1CEEEIIIdTSaFU/OLm6tVY+EEIIIYTQv6NaDHr+2KnWygf6mzi6jMLvEmp2+L1qYXjCUUvC79vfzdFl1M8LKTweDwDMB1gDxqAIIYQQQqi5lcWgD28GVV2I/UERQgghhFBLwxgUIYQQQgi1NIxBEUIIIYRQS8MYFCGEEEIItTSMQRFCCCGEUEuj1b8JQggh9Bdjf3vqfzr4Q0Z2ASmhM2TieDNZAgA4aS8vngwMyywBIU3rkU69VQQAuIm3t28PiC0VFBeicThMBUO70fbdpKmtXQCE/kjYDooQQuhfVvRojdOKGJPpK7xXusi8PHnrMwcAuPHn3BxXRhu4rVy7YlLH0MW2roc+cACoSr2M6KG38nss8/ZZM71rjI/TxP2x3NYuAUJ/JoxBEUII/cO4SaEvE/nk2okQIKQ7w+/EzK4MgJKHuzY80Z42x0KGBnyqdp6u6i92H3zMAgAKnU6jAAAAn+oAqy7cTzGfSlu3AAj9qTAGRQgh9A+jqvSy7hi5aeSEjVejculS8jICAJy4568yFLU0Bcs2IWR1deQy3oclVWvxLIy9dCNK2dbOmK81so3Qnw9jUIQQQv8ypv78c1e2DCGuewwws10emMgFIPPzi3h0OrNiE0JIiJ/CLmHxyj6WRgesmu8yYPBukeVn1lqJtVbGEfrDYQyKEELoHyeibb/kv7sP/htafMJzawgLqNLSEpCZmlrR7snNyMylt1OWLx/GS9catmLz4QPTJa6t9LmZTrZathH6s2EMihBC6B/GfrV7/p63bACaXM+hvRTJUg4PqKrWVh1THtwOLwEAgKK3wU9Le9laigIAAI/HAx4ArdPEBfaUAO+dzwtbM/sI/blwbiaEEEK/H1mY8iEmPocr1E6zo7JoW7r2sFKf7PSYWzSqu8CXoOeq09da8AGAjtvWZR/c50/iOPaWTX8S9NnGd9MwGQK4iSGXnqWxcq6dfz/YRcfcfZ7ldU+P2e337hivK9ja5UDoT0Ph8XgAYD7AGgDOHzvV2vlBCCH0BygJ8jB1PZMjO8j74j5n5aoTZObcWTR42okvwiMOv93Wr2zbDxfXLF578lkaISwIhXmlYnqOnpvWju5cFrWV3JprNOlsOgkUCk1AUs3Axm25l7NOi0Z0ZFF6YlJGAYgpdZAXqVqWovToO5smzwnW8vHf7aRSmJErIiWOk4Ei1HCOLqMA4OHNoKoL8Vk8QgihBiNzsrIJZQXKrf0nIzhVlnMTLuy/yFZQoeVk55ZtmH590ZjZF7kOex9Ex0XHxEU93O9Ev7FozPzLqWUdKcmCnDwwXnQ1OPjWxQPzu2ee9Zi0/klJixaGEJBW0eyko1k9AAUAAWktu9UHVnR5s8ja2MrR83RMHnb+RKjZYAyKEEKoUahawxy0Pl88+bSochEn8vTJN5rDHbUqgjlO1NHtF3N7e+1ePLCDEAFACKkPWrxzgUnetX2nvk/uTuGX7qClpdPdauyqaRbMhBdPPnN+TKzV8HUa/9/jt49vXfHfP8tEHC+aCDWbttQnByGE0J+EqmY/ovuBbSfvLDa3EwcAKHxw1D/ZdO5wpXv7gAQAIL89fBRFM54wSKFK8EZV6mvdeYXPi5fZ0FGq+hE5yUmppXxyClJVYz1urP/KbXfTubzvi2iKAxctsVNuqefiTDE5mRZKCqF/B8agCCGEGomiYDei1yav01eSh4xTIMj068cDS/ttHSLDule+AScpKQWktJWrd+8kpNrJ8XG+pGVyQYoKAMD9dHPLmk9EQVLorbtplos3DpOu1t7IJ9ZOUZFZJQalUGXFGJTKj3Kysr+pgC0gJTW1tbOAUOtoO48VuAlHRuoN94tv8ot32VF7HLtarnlevTsRmXFj5ahZR6Iad8yS+4tMTReFFDQ1b6gCWZga+/bFi3dfstk/rUmJfv382cv3Cbm/7WFca6Zeb9qhvyftxqfLzUt8//L5y/dJeW3/rdjNVo3Uq4Y6gZtwZKTucL94AG6C/8LRC/x/SzZK7nv2MPVsO5URRXrAiH4CT8+cj+UC97P/ifviQ8dainxfzyNJkkeh/LQfj8ej0GiVzZi84qyvCR/DHgSHERbzlrt0rv7mIapSX7clS5cuW1b5n9eSKb3k2s71CyHUGL/eDloxdJEH5beiFKralAuPVxo3T0bYb4//F6rlulWpiY9WuF9Ordqf53Rg7o9vTytKePPoWXFG447KZ2JvzXM5fHler9GyWO01FSv65JxJK64kEKJ8pblFwpZrLh51VadCPYNnS27NM5pYdezstOVLGzN2tuGps1+uth62L67qc0AAoAjZ7nu3z1agYWmfmDO5StqrA76nvdbzx7TXjCkredFVN4P5rDWvDjsKNbi0TUkXANhfrq71WH70WQZdhJ+bXyKsO3L1Hu+hKm12XHBzVSM/IrNfHVk2f8MNoVm3Ls1UpwLUVCew3x47EqrlulUJgMz79PJRqEQer86jNipd4DMZ1pc37tDluW2mMhKxdB4s6+R/+vVEm8DT4VojNhkwgVW5liYtLQEZX7+xAJjf9+F+i09m8ckpyFT8pWg6o7b4jRYterPZwX6F5zHTs5NUq/wRuYlBB44/y6zWDipvMWmCuUz5KcCmRIT+RL9eh5UPXTRedD04JCQ4JCQ4JPjUbP3mygfrhf/lJINBA5taqZJZSTxz7z0LjBt7ta4FU9+mr8TTgOtfcUxkU5Gp/mtW3hSadCksOvJDzJura+w6CFKg/sGzZH52HhgvunY3+PbFA/MNMs/Ob8zY2cakztCfdSI4JDgk5O7xKVpUadutQcEhIcEht1f3aVAACmSq/9qVN4UmX3oXExnz4c2VtXbqZWmnXfccPfsi12Hvw+jYmJjY6B+HDbNLiotLWI1uU2t0ujn3VoyZcbpo8O57UR+iPsS+vb7COO3F2zbTAPez5qpGqiHTHm4Z3c9597tCDruExamMgn6sE1gv/K8kGQwa0FyJ15ZuG6yM+Iyd7TUSAv5v777janr/AIB/7rmjtPegXdpaKpRQFEJGZZP1QxnJJrIyQsgoZW++vsjO7GuvUEqK0l5GS/N277m/P1q3PV3h8371R/ecc5/Pc+54zuc+53nOObAl8GJWr3Gju9b4BUBVNjPuXPo69GEu10JW3PVb7+mGlua1G2oB45nuwwSfHT76ppR7Mac4Oz21hpS0tG9Fbc3xEUK/VsvGg1I6SXeSVtfWFq1a8vTozszuo0RvbTnwirBb5TetG/H16fFTGd1Hit3aEvSKGLhq37RuAAUxV4MOXnyekE+lMIQ1+4yZNbW/co1uSmbU/cdftEZblA9DJ78+PX7yU46SySix21uCXhEDz+6bkht5ISDoyuu0UhF1q7Fz/menwg8AZF7E+d2BV95mcqT1Bs7wmGQmARQqtfjrlzxSQ5oAYKbcP+B34kFiqWzPCWMYlcHIrEdHTyR1mzHeTIwAgII3ZwPDZBbNtAEA7qpKafYZPWtqf5XyijK6WZjyn7r/4PuUCdIdo/Phd8VKiUsskbSyNBAjABgyxsOdyxeXT57dfGnF4PK5C0Ia9iv2ZIRbr91/esFQDy0qQOXcWVHQ1tPKDg12f/EsgWWh06LPcCujK2mKAwCbEOOjUEU6a2hr8zUWpKHYyfXHjimPHbxiUGXswSv3pEdYrwuo3vO2aGVciDu5/XS68bLba4dqUAGAkOrm6HXEsa21+YnqaUYyzSaqR+7zvxT5Q8LE2X3BSO2Wd5yXRT+N0VgavEfu+KAJb7hX1GwTmJGhj7M0R1tK1W4e2JmPjp94Jekw30GrRR/VBuMCo5uFaadToR2oMaLpOjsbB6w7eE3G6ZCDfK068fWc7GJyfsu6hcayPpPNpBlkfuyVLXN3RymMP+msWLf+ItYThytduHTsnoeZfdWRhqY5eoP/6J++Hwgh3mprC/bo2M7tHtNXP5fsZaEhSgAAmfXo2M7tHjNWPZe0sOgqQgCUhPuNHz7/nwwFy4H9Dfsb0sN2uYx0v5DG/Rue/PomPEVUS7fiDBqZ9ejYzmM7ty+cvuqZpEUvDZGStzsnOHm/lrJ1me5smHPGzXnZzW8kkNnXlk3yeipsN2X6KCMiNjKFBCAzHx7dfexhJgkABY/Wj5+yK1zA1MZM4PmamXsjKzqSWCn3D+8+/jir/Dc0mf3yzO6gWwBQq6q0sF1TRrpfrKwov55+17LIN5FlbXzF/noMNSN90fTgbdvuJHP1dFRMnh1Sd/Is58PLVzm1C6mYO9u55gGf/en8arfZs2fNqv6bs+FyMncHYrtEbyWGupG+aHrw1vpjD64Vu78+58PLsPaI3bq4ZMb90AjSxGGUWoc9815Lfc2Iz/xxrifzuvbpIRZ7ZN7UzU9acdFJvn7LDmxw1hOuu4a7TSC/vg1PEdXWrTUKgMx+uGHy1G3PKPLyLZ3/2XBc4NfT1+gAjRGdTufjoxMAAFRVx7H9xPg0HCcNKM8bCTqDwaDTAQCApuN6IHCuWtRGB2Mt7W56mvo2i+8WCBJfX1y6+OorCwCAzqAz+CpnGPGZjBtvXHA3ODT/V+wUQoiHWtYulj3Z8OTNVuNtFACgCNltvrsVgJ1cZH7mordVxSB0FpQvOluxiPx23m9fpNbi28fmdKUBAJBOmqXW8/edih6+VL8yelnC5xRSzlKBqzbs8lIueFuJAFyYpp3UZ9PDNaMkAKCfaJLF7OM3PAePTQqPzOs6bvZEB1UqDHGqCl8h5+bhc2kmC+/tdlWlwsyRhv9zWBLV6N6R365yV5V01mT2m7/vVLTDUn0aACGtIN8pOykpDwAv0dEmEg5rd4TPWOA/qV+whZPrYo9JFvKMZkyeBSifO+v9mShIfXXrXla/OnNnm5w82/ro7ZKHSTis2Rk+w91/ct9gC2fXRZWxU+qN3aXGnvM+Lut7Ygop2Uft97kcYn3NSJ6E86UTs3T4gWlWFO54914U09KU0XARLcPdJpQlxNcODpyit/v+N/u80JxjRzzMRBosplWBO3fKTkrKI0Hm1709AsODPg6vqpLsuGOx46pX8tvv+2Bf9Ygq13/5uefzMmKjP38rZUhp6GrJFL3Y77l844ieB6YE3d7oEPjJofq5NO151+Lnta5S7MyH+/fepA9eMsNSohUvDVlUWMwnKEgFKHh1ZPPF3H6u82yVqt/T8tIZA100n3nODRBaFXVsTAs61psoHKG/UMu+AFTdsbo9zBZZ8QMAha+zAQPCgaoxdHSvmu0rtetQ58pFZe9fvSvWmmynVhmJkLa2NiTuvHtXAPpiFcs4ubl5ICQizJUsUIGqNqSy4LB3P+jKz/ZteE8BAE5eEjC/JKYAQ8faWuGw31S34vmzXYYay9Q8tDA/RsaUqo/qU94vQVPq3VOV2ngOWquqhLR1P0PiTkRlRSnCwoLwOTcHc9C2IuTt1l55OPxi0O59x1Y73bi56sxJN81mTZ7lFGenJcdnRz15R/TxqTN3tnzyrO1Pi96InEtz7Tc8Lq49PI0iPNDnzha7qmoS8nZrrzwafjFo976jq51v3Fx15qSrJsnhcKCB2NQmYv/EuJwyFhsI4rfJQOtvRuS7W3TlBwCgKSt1pvzIzeN6qXIuzmvgxdtyx8eu1merXlxtAic3Lw+EhLmCc7LvrpoeV+Z05rKHmWiNpzXzXWs0sJAgxOfmcH6nxogQlNcxk698JNjLLeie05urV5Jl2y8Ny3vk7XFGc5PfONWW/9AoTXl4ZPvGwAznG2dnyBMgZDZ1vVzwokWeHP/NduXnW/IebVxwputmv3GqDFJtYNfAR5xmj0dtunCE/kot+/YT4l3Fu/bu379Gi0oh6hwnuRZxCgoLQUBAiOu4wCcoQCPzmNznkSgUCrDZtYbYV5dSVAwUorIEiqix83zVgWoAQlbrLv2j4ed3YNmw/bsctxzzdVatfjanqKiYQ+fjr3uQbUidqvIJCtDIfGYZWT5mgc0mgai7s6g1qFLGziuPDB9/ZtaIRbt235ywX685k2dpeuN3BE0QLXq7zWmUV525s01Pnm1b9EaI9nb12T6yrE5W0UnBuPbBsCr27OGLdvndHB+oJy0O3zPqj63QROyfGJfGkpWC7PS0whrrO7R6m5GqlQQFSODOGkR7u/r4jmjWi9cQrjaBQqEAm+QKThHVNpPLPH3/6psFPa1r9Mm14F1rCIv8ExojmozJyBkm7VYc68MR3ygr31WqDIDCiBPr99wXdpjX/fPp4GhOtwlL3fo2MluM/ekfn1M5GsKcvHRa1UGRquiwePA/M4PC+600YQDrw2HfyD6+npXpLQUAgMx6dOTIg3Q2Xdl25kTzBs4ZNKNwhP5SP/1EACEjLcl5lZTAAvmKLxo7OT65TLKbMlffKSEpIQYfcrJJqGeIOgDIShH8es7LVpvVOa7KmE/ZeGqS+53lw6dtDRrtsLn6SlFUKWlx+JKWxgJ1KgBwiotKKtp8gsagQXFhIRuACkAWFlTMrqxdVXby5+QySQNlkfI6sXJzf1DEJCXa4UVBFRgqwwYZLLuT/a2gfPLs9dCHuU5DK7vHKyfPOtaePCtgPMt92Mnph4++mbTWjCtBKp88W/NmKmTDk2dbGb0+hLReHxu9Zu1zVeyBhsvuZH8roCibNhTbyNGsidg/MS5VzdJccce5Gzczxk6oPcukY2qqGamzvYxuHxvdtkTkahPKg2dzB6cqjt7hUzDK1WOJyZUgZ64b+rT4XasncM4PipikxO+ehLYrdvzNO2U9fct/lgoaDu1WuNrnkKrepgWzWLOcVh3odW9V9waTPWrX0V5rIf/MI69Y7sWEvHVv/mnXIxebdKfGh9wt6+WrUvMlJ8SEsv4LSR6zd55pw4NWmi4ck1D0t2rZsYVTkl2SnRhXIT4lu7TJpzC62dkopgfvORKVTwIUQmHM2a0nPygMG9WDK3egqWkoE2kJiQ0VN8BaKTU44PzHQgAAYGXHvo3NIaH0/a3g119ZAFQhaQkBgs7Hx93nSdPs3Us+88aRfxNKgZl2b9PC/REVc1NoCqpK9KSHIREFJDPtjveioGiyvqrGnNl68oPC0MqKslMTUsvk1NTa+aJPfx0y68oWz0MPkwoBgMwLP3YhDDTNzWXLJ88WXV638OCrr0wAIPNjg73m7o5SGO9ez+RZkX4TRyglXTx+L497KU1z9Ab//fsDA6v/9q0ZyX3UaJ/ord/zVdyxX4FmD3NZgq+ni4tJ0eX1HgdffamMvXrunkiF8fOrY3Oqvnjx8am5LbqEfWvjMsymzepN3N88f9fDtFIAIPM/3vCdvfx8Voe5JFAtTTUjrcXKTUuIj0vIKijjlOWlfY5PyKj41HG3CTQ1DSUiNbFmcKrcUG+/mVL3Pd0D3rd8NlSDcYGdmoiNUR1lcXHpMspVk8IYdDpVyXaSg56Cfm8T2ZwvX0kgs2+sGe04ahTXn+O4rQ8aKZMqpyz7PT6eCVAW9ymNq3QAIAtTHwR4+ObNPR0w1UiMaEvhCP2tmt8PSggKCbJveD95Ar29y5dQpMYcm8ag0WuOl6PSGDRa9RkH4O+5cMfCT24bBxrsEOdnskuZpXJ2q/ctWrKz2QAAGwFJREFUseC+tCIhYWqqXnLpdRRzeA8GAFDpDBqDRqNXFmzusWtpnNsqGyNfRRm+oqz0Er0lFy9oqX57vG3KrBVSnYULMrJlHLdPM2YAh1r1RL5e89dOfDZvSR/9Tfwkn/H/ptqnXmHQAACkhs6ZdcJl5wij4wKEiOUCN/vUc3x1q5pbs6I/3kXGdzKcrY+/WNuGEJSmfvCa2HM9n6QwJy+Xo2S/1n+uIQ0AdFwPBBa4r9joYLxRVFyAlZcLckqCxPcXly6+0p5oJg0MPjoDuObOjjM+4R8cCvYjeBG9/ANN56PTGAx688d31Im9emKvdXwSwpz8XI6S/dp9lbGDggoWrNg4vCq2fEXsMO2JpjIVX72BluVfPEJp+r+PNlk2+wR5q+PSVF32HspbvGTPGPPdohJCrLx8fj3H1bs67CSl+puRikaEIOh8dAa9Fe9d6ZNNQ8cer7gYZ+AEq0Cq2uy0Z+ugZptQHjy4MnhVMyjSa+me5ZFOPov3W19doNeS804Nx4Uf797FdzJ0xcaoBrKkhKz1BleMZ6Yz6MDhABAiPaeuVS6scWKEEFZotFQqg1JaygQgSkpJOq1G6fnpka/CIwuMC9kAtDYVjtDfisLhcADAatAAAPj3+OmfFYeZHRf5IYMpSOskpttNRbTOKSTWG+/+I0KH3Ly1tMFmmpWbGPUh5QdFuLOGjrpURedkXlJUdHIhv5KegXLdQgGAlR0XHvOtk6qBnnzN64mzcxPCo7P41Yz05GrNAaisqpJuN64yC2/O6bGgaM2TI85tn6aMWHlJHz4k54K4ir6OolCNN44srDN5duf1VJkpQbc39m/5tR07XPTGY8dUxtaWKXqxf9WynddTZaYcuO3d9thtiFv+mmRzRBU0tZXFOvQ03mY0I+2oVpvAeuNtMzJ06I2fH7zwxpyeC4q8nmJjVEPpw6XW+3Qvn5lSfrWMwnOTDE70vHd5jgo7bEP/KV9Whu0Z3MR8r5wT40yDBzw9P7165GjeWZd+j8c+2zuY8nBZv306l89MkSEAgEwNcurzcHR4kN6RceMv6vpd2GjT1NSixgpvzjw0hH5zTpPHA8CjkLvcC3l1RGFIaHS31Gh4Pc3Q2bHb4YvBkQv1jBuoE01MxaiXSs1lVFFlw17KjcSlSWiYWtQXlyqm2t1CtZ4V9Vc1997lB1S7rXbY5rcLmqhyt571v288mDz7K6M3Hlu3RuzA++0Xuw1xa74mHVozmpH2U7tNoBk6O+kfvnD5pwfPvXcFG6N68HXroZf++G0x2AkCsGKCb7wv/VwQ/Hr8hJLrT9Lzi2/fTbQbqtLQCNqSsKNrj9588KI4M8ljYcKAccun9RACgNLIiCRdM2MGANGth1764/Dy0vPfBt/5VPo55ErSqLk7XO8NmDOZs2XPxuHqDZTeZOEI/a141Q/aNDLn7qb519U3bB/XYDPx65Q83TbzlNQKv6ktuykPQoineNeM1NMmkDl3N827oe69Y5zKTw28feYpyeV+U3WxMaql8InXmKN6BwLHtNMkOvLrlXlTHo44vd1WtLz0sUf0goLaqfSahSP0x6u3H7Tj5KAIIYRQGxS8DliyP8/Bc/5gFYGmt25UaWroXu8z4OLj0atyCHTBa/8lgfkOK9teej2FI/SHqzcHxY8/QgihP4JQd9d9PsM4MbF5bb16Q1FcdIHN+oBF3DmiUHe3fVuGcWLbXHp9hSP0N8KzOQghhP4UhISe/aC2FyOgZzesgdIH/qzCEfrr4K8whBBCCCHEa5iDIoQQQgghXsMcFCGEEEII8RrmoAghhBBCiNcwB0UIIYQQQryGOShCCCGEEOI1zEERQgghhBCvYQ6KEEIIIYR4DXNQhBBCCCHEa5iDIoQQQgghXsMcFCGEEEII8RrmoAghhBBCiNcwB0UIIYQQQryGOShCCCGEEOI1zEERQgghhBCv0bgfOE0e/6vqgRBCCCGE/h41ctBzRwJ+VT3Qn2TMVFf8LKF2h58rHsMXHPESft7+bGOmutZdSOFwOABgNWgAYA6KEEIIIYTaW3kO+ijkLvdCHA+KEEIIIYR4DXNQhBBCCCHEa5iDIoQQQgghXsMcFCGEEEII8RrmoAghhBBCiNdoTW+CEEJtx8qNe/UiIoUp3q13Xx1x6q+uDkIIoV8L+0ERQjzAfL19/qZwCUOt/FNT5gbFs391fRBCCP1i2A+K0J+Pnfk00P8uw3ZAjvfsfd8NHQdrCVIAOMz0l7fuFTokPPYEAGBFbh8yYW9DawGAnRXxIDqLBRI6liadPj9+m15KkzPsqytT7y/ZgjdHt1zL6zdtzgAFGgAAo/vy44cBIDdHREBEjJ/Cmx1HCCHUYWEOitCfLu/Z5oX/amzcMlaVkb/K+arLA7rN3vXWogDATtaYMDW5YjNat5mrnK80tBYAKPQfD3a63tD1v9UXWFGHFwYJee61aOhUipDJlHWylxev8uL4ettKVGxVEHXI85LkqnVjuuAZGIQQ+tvhkQChPxsr5ujeKKt5zqoMABCxmuflyDnvtftRPgAAVWHwvDmWVZs2vhYICQu3SVbMtOQf2f/tvsq31N93rKZgI5GpXYYtGpCy62gEEwAAiqIPLD9cOnXLCsO8T1lk++8oQgih3wrmoAj90diJIXfLetgoVc4BErNZtnRoyT9eO18WAgAhbTnKmmvrxtcCITtwtFXiMddFp6Q9fCdp8DUVnJC3suB/cCOKCcAM27nELyw5dMvcESMWHIlhtd8eIoQQ+i1hDorQH60sPi5dRlmxeho6IWW7YqVN3vGNARH1JIKNrwWgyStIpKVIO043EqpemHtvm+eRit5OYH087+l9s2INVVZZLjs+ngnAMPW8HvX83/P/nrj6+PqWvoz22j+EEEK/KcxBEeqAyNK879/yme1RErOUpNUc903I9LHrpSgrI1LvxKBG1rKSLqz1+TpypuaLCze/VZ9NJ0lJfRtTpYogFH4ls356VSupdGCWlrXDjiCEEPqz4Jwk9IcrSHj7NqWIU+86QlDZ2EhZsMVb/lR5oTv+t+O9Yk89esTt55LTD+511mjLtTSpklKC+TmFJAhU/uAks66vPwHzd05Ura/cBteS30J9Fl/VWbd/suT5h/1PX0kaNU2VCgAF0Se3bnyqv9GWAAAy88mOtft+jA4cUfGs0tw8iqSkQBt2ACGE0J8Jc1D0ZyOZsecWzriYIaTnMKaHXGUaxi5IeHj1v49F2h43LyzWo7Vwy0rsH1nZhKx0qzNTsuDLd5CSFqp5NoIipDR0uctES0lOvOAIu+D76Y4aim04X8Gna66b8Ti8BGzLE0F24pkNhzrNOjRCngAAYMY9fqvRu0fl1g2tZafd9pnl/g/h9q8mf+G7L4VlYUfWn+1zYIIGDYQUBAsSQaILDQCAkBKnpBfwy3aqKK80+l2itqkxvfX1Rwgh9IfCHBT9EmRhVkJcUi5FRl1bRYxRc03mp7jkHFKwi7qWokibP6CEhN1Cz2FP5l1JzVXz2+NSNTWHzOoxb8Ci1FZtCQDFcVd2bzgU02XyqvWO6jQgM2/7rggMz+PQuwxbunOqdn6o38K9YT+gk/7UDeuGyjf0IqSG+q09m200c7nHYKWq+T0iZk6TAQAg91PCty76BtJtHDAjNnCK1dGjIRn9R8kTUBp92POS6sqj1pLlpRa9Oux9dVNIRQ7a8FpqF7uV1z6sLN/MZNG52EVV5TOjI+KVDPX5yx/lR0d91XDSqkjrv92+EGk2bqkcjvlBCCFUGx4bEM+Vfjo9Z4iJ2fCx02aN7GPZY/KpOHblikvezj16mdtNmTpt2pBevUyHrDwdVQgAzLCt/ZR1FBW0a/wpdne7Wtx0OELGwdPDTjL/4Tbvs8lVt+chZO2d7WpdXb25WzJjDrtP3c+ZcuDgJkf18u4/uf5jLCnvXyV2GTVOlwaEhLEqNSqGaT5zgX1DCSgA0LTHeJ8KcPrh9785pxNqzQBiJlxYvuvL5L3uPfmb3sXGCVjMX2PyeN22u4lfX+/02Pcm9fG60U5D7J2G2DsNtJl/OrsyQGGjaxtCZkfHcnQMJcpKSQAojXr3UVnPgA8AmGmhAV7XVFau6Cva1j1ACCH0B8J+UMRjZNa/29aHCE6/8GSxmSjr67uQBwWCFAAgv95YM2lBaOfZO0Ln2agLQUHcPb8lnitcSoRubHcwmnni7qgikkOm/jt/2vWuPgfcjWlAYYgrdGoyHgAQCsO9loa8WPbAZ01w34OOCuU9nAIWHgdEy5RpLd2SFX1o6c78MecXW8twjZikKowca7ljWVpSDgmyef9tO/xp4IYzS8zFm/qVR5Wz8doaOWKC1xGzo//rWlEgK+X68gUh+pv8XA3aZSSlkMns7Zve33sRzTZx26Bd89KcFGH18n/Ikk7dG17bMJJKLXq539t/8qKFAyRSwmOpOkNkqQBF8dGFVuv8DaTxxvAIIYTqgzko4jFWSnxyiWQvCwNRAoAhbeDgVL744/HdV/P7rrmwbED5PXSENGyX+2W+678l8KzbEHcNxa5iAMAmRBkUQqSzupZWiy7uQ1Uet3zh1dded3zXXrIIciof7MhQMDJu+ZYF94JOJ1osm6Bd67tDSA6w79tp1a3bGX35Nq+NGbz7hH0zbwbEpz9+ssmJnQeeT9xq2QkACt/s9Dgnv3LvXBPBL/fPPlNyHt6mSUkV1ZPQsx3c+BaSurbDdVtecOdJB4OHcMSkBAkgvzx/+c1ovB4fAAjo2A5tZV0RQgj9DX75uXh2yoU1k5YFV5/5RH84hpqhjkjG9e2+oSml1UvJzGdPPtDM7W258zaqgrWNPsS8fJPbnILZ8f+uWeTm6lH957Z445XKcZxUtcnrXXsIfL+1ccvlzEZv0tP4lkUvb4UWGPW1EK/7RLG+DtadXh6c53pEeMneWUbN78EkJPv10fl+/9arUgBgxRzcvP/N+1OzBhsbWfT53+nYBmbqdxyEgISUIMFOueO7YOlFkZnzBwg1/RyeYqdcWDNpKTYyCCHUsTS3H9S7r15QPLv2wZAiOMz/sf+wes+Hkl+fnTuTpOMy1qjR0WCcvPi3T8LE8zr6cRa1G4lhy3zD53sEzLYONneaPc99ork8A1ipaVkgqaNUc445IdlZlo+V+PU7GySb7grkF5PvosDg+pRSqLKi1TOyaVqT1825NdLntt+hyCGeho30ozayJSvpfXS+jGXXetMsIXPLbtRLUdoHjw+Rb9GvO0JCU03i+4fIVHYfdZq2+/l495Y8u1FdOmu2W1nN8rRf8OpmbpqW/vGnVqUSJy/+7ZPX7dDIkDnhx7y8tocIzrl50q0dOqcRQuiv1twcdM7Jy6OLOBwyjUx/1rwBeazU0BN+j4cOdjYSxbYacSPkbNeceTD86oE9B4+vcbkZsvjk8emaJIfkUOpeFZ3D4VBotGYldNQuA2YvHNDYFgzVHsZdhFmD7DSaOpHf4Jbsr9++c0TExOv5TLNTr609lCovk/s2LI45yKjqiezEg85D34x95D+6ou+06Ppc293KB24tqT7xTRUTF+Nkf/nKBvUmvy3M1xscRgZ8rr9Tj2aw9N459674lWt35JfHAQsXHv7IL8ZiUkvr/B5HCCHUUs3NQcUVNcQBgE1h02oNyCuIvXbs0KWwhHyqlKaF88wJNsp8AEXh5wJPvPjOynx2YHORRGfL6VN6SZNfwy6e23X+BUtY0cxxmtsQjWZNJ0F/Jqqk0Yjlh+zHnl3ouCRgb4izv56kOGRnZJQCcGV97MzkNCa/XGeZ5uRU7LR7B869+F6jH1TeatI0K+nyR2TOw01Lr0otOOJh1sQVPRvbks0mgULUTZYLw3fN20+6BeyKdR115dqbJUY9Ky+2RBGxWhjYV6/6dABF32WTT2etGk+nUChAshodI1CJ0X11SHJzuxp51tfYAZDfn508l9l9jHrUwYDL73+IGzrNdx2hVWtIBDvz8dlTYRLD5g7WbNlgeFbM04/qS0/5yZ61nxTRjrVGCKG/VlvHg0bsnjnSPThDoYddf33a64BpjssvpZEAnLKiHwWlHA67tDA//0cRkwNQ+ixw1eHYgU7DbeQTj7m5+Txvj/sQot8bQ2WojQGtOPtbIVXJxFi+9E3oU+6hn6z427ejaYYWJs0aYMgpzs5IS01NT+P6S/9eefEmMuva6jUhagt9Z2rzNVpM41tSxMREoCD/R81uMHZ68NIV90y9No9U6mY/QD3tbvDzirjs+JBNXruvJIJw+VeN/PYiaPOGA+8La/akkj9+FICwuOgvH5/9OyOzHh/33+Yxfc7pPI3e3cU+nnKfvuNpSY0tsh9tnzJ99zOKnFyLZ2My+iz1W+ekLVTv/U0RQgi1XBvnxZO7A95rLrp4xE2dBkA6qTOtlwecjhm2RNds6nJaxvN7j/st2OxWcWLQalVICAAAjFTLfDD5+Ytkdk8cUfX3Ib9c3Rb0zcJljJWiAJkfcfzKK9BwMZcGPulJkw3/3eqz2Fh68yQTaQaZ//Gmz/zAKAXnY07Nm19O03Be5+tc/zp2wunVa8PMNlx2VK7+zDGjLx6M0Zo5qsbdj5rYkqGmocY4k5BQAkZViXFB2E6P1fGDTu8wFwEALVMTqQO3Lzxe0ddWFICq2k0m3fMTIVURg5AyUCwO+6d0fs1z/AUJyV/4VTVV8DoVbUTmiY+4cGyKNj8wTYsjRj+4/55p0b3848MpDj84y/WSkFvAIXdjkV9cT4QQQm3NQVnvirtOsq04chJSVv0MKXffRReArlh9W5O5cYeOXf9e8PVdIYdZwsQRVX8jQkCaFrt2su0GPnEhTn4eR3Gw13Y3AxoAaM/eFVCwwnPTeNNNIuICrLw8kFMSpHwPCw5+qz3eWLr8Q0Zj0GkMRgtv/Vj6/tAin7Sh/tuGyHJls8yoC7tOffeczp2DNr2lcK++puTeZxElIy35AYDMfbpzjuuutwVahvlFJPCRcdeuvMhmZV3bscneYPMgWYL5MTZJycBIuLIsVkJUHEXHrmuNb17hy+dR9B6LLHB4SlsR8ibmGvwAADRlhc6Ugty8ihWcnP9W/+9zmeOhS+4mNWdJ5gbPH73xSXGdCZdCdpuDN9k20WmOEEKo1dqYg3KKoJNg9dkpPgEBOplfxiLrOcnP/HB82oQdggPGKIpg8vk3E+q56MSLGSkfPqTmgaiKvpaCUGV/I1XWZtnhJ/MyY6OTvpXSpdS1tWSKXwZuWLFpguXB8ftvrrIRBKrqjOC4GS0LWBjm6+GfZDpnZln4/fuVCzkl6f8dPpvIP1KY0rItCVkHl4F7lp8P+dZrhBQBhJjFolMR1TeuJDQctz1w3Fb1mBUXEUXRsVet+qL9iIhM0eirz53akJkh5+53GrZnoNRvcCqenfbwsP8/8cqT180079j5GUFQgORwKlobikhXU/mss6Ehb91N+0lwv9AilrPXbh1RVicH7aRghLe5Rwihn6iNOShFkpOemMgCeQYAADv1czJT0kBBmICKJJSsPAIAM+zk0SdSUxO2ugMr1vfxlZttC4x+azRRxW49FetdRQjI6ZjKVT4S6Om6645jxLWrqTKt/Kjm/7dxZWBUEStq2/RbdeuhJSJEtHRLMVsPr2sTtq69aeo3RKGp0SSFH2JTNay6sX/kM4VFGAClUW9jpA3mSVYnQazkC6v94wau2Nq3o11Ws17ULuYqP+Zdy5/9u42joSqM3rau0GnhomUGwftHKFZXn5DWtbBu+bX5EUIItVEbc1CGtWLmpb2nx+hN1hcpjj3rdzqmy5A1pnwAABRhQUEyKzHuB6kuwKIwACgUKGMCsL8+vXz/Mxus26P66C9AkzEcMd2wtc+mqoxcfWRAAxPOKSLqGrQWb0nIDtseVOblOWNqzOyl0x30xRrpvuQwGLTEEG+vL/YL5w3qQmUnR0YXa83ULR8NSn4LDw7YeiJcbdEJrwHSHasTlPz24rTfieguE5eO4FzedyqSYeO6bJQ6A4AVFx1L1RmmAXHX/P+JKJHv5+JiKdmx6t4AQm7g+l1TnCd4L9ivdWqODn8Ln87KzUj5XszMKmRxyvLSEuMZQlJKcnjhOYQQarWW5qD0WgPyFmx3+zR3u73xPnF+Zm6prK3ntkW9yge1UVVs7YwDfN16PBBSn3DuirvpxClWN3wG2N4p7tTTqrtYBK2i8abR6TQ6DedioJ9DUMXMSqWdtwTgUxvlc7Jf9H8Psws5UO/g5wpiw7fcNvjOUFQQpwEAmfHwRZr5SMuKKz5xfuTRe605ulKr42UyJe//+9C5j9x5z62bcx3HTu79ytH/6nCHBQY0Mjc8MlWrvyGD/B7/JOSjta+beIdJQGk0Op1Or3gtCYLOoNMZdApwNTIiPd39lr133uYVaH3GXbdFrQ7z6eYxE05U3DjrwET7A1SVmReurTFv0T1jEUIIVaOUj5eyGjQAAM4dCWhNGcycuKiPmUwBRR1d5ZoH09KvHyNicwXUu+nLdwIAKMp4GlOmZ6SEl6BBfxsyJ/zSyWuX72T027xjml7HHklZofjW/P5edO9bvjbkmZlWV6xDT42TIUrvLhqwuthlpnTUW4nRnnMtZDtc+owQQqjDGTPVFQAehdzlXtge/Y8McQ2THhr1reGT1jSX5nosIG9h0g4BEfrtEIIqPUfMHuQmJfi7JG2sT2/eM/qs6i0GxXdfxcgbzJUgAFifw6NYir3y71+L7RpgigkoQgihVsMOSYR4giHWRfH3SUAByK8R4RmaJoYMYCW8iWTrGqkX5ReQue/Ck7XsXWe59C18cOcDk1VawvrVFUUIIfR7whwUIVSPkrfhH5UMjEUAgMqgs2POb/C5EM+MiIhVMOouKWg5yq7s4ib3xbtuptR/43qEEEKoce0xHhQh9Edj56alMCVUZLivoc/KTk5jSSnLCDT4LIQQQqjcTxsPihD6o1HFuqjUXkaTUFL+BVVBCCH0p8Bz8QghhBBCiNcwB0UIIYQQQryGOShCCCGEEOI1zEERQgghhBCvYQ6KEEIIIYR4DXNQhBBCCCHEa5iDIoQQQgghXsMcFCGEEEII8RrmoAghhBBCiNcwB0UIIYQQQryGOShCCCGEEOI1zEERQgghhBCvYQ6KEEIIIYR4DXNQhBBCCCHEa5iDIoQQQgghXqNxPxgz1fVX1QMhhBBCCP09sB8UIYQQQgjxGoXD4fzqOiCEEEIIob8L9oMihBBCCCFewxwUIYQQQgjxGuagCCGEEEKI1/4Pobw6/Uh9ZWQAAAAASUVORK5CYII=)"
      ],
      "metadata": {
        "id": "xqdCgL1EdAUz"
      }
    },
    {
      "cell_type": "code",
      "source": [
        "soma_linhas = np.array([tabela.loc['JogadorA',:].sum(), tabela.loc['JogadorB',:].sum(), tabela.loc['JogadorC',:].sum(), tabela.loc['JogadorD',:].sum(), tabela.loc['JogadorE',:].sum()])\n",
        "media_linhas = np.array([tabela.loc['JogadorA',:].mean(), tabela.loc['JogadorB',:].mean(), tabela.loc['JogadorC',:].mean(), tabela.loc['JogadorD',:].mean(), tabela.loc['JogadorE',:].mean()])\n",
        "\n",
        "soma_colunas = np.array([tabela.loc[:,'Chuteira1'].sum(), tabela.loc[:,'Chuteira2'].sum(), tabela.loc[:,'Chuteira3'].sum()])\n",
        "media_colunas = np.array([tabela.loc[:,'Chuteira1'].mean(), tabela.loc[:,'Chuteira2'].mean(), tabela.loc[:,'Chuteira3'].mean()])\n",
        "\n"
      ],
      "metadata": {
        "id": "_SeCIQggg6d4"
      },
      "execution_count": null,
      "outputs": []
    },
    {
      "cell_type": "code",
      "source": [
        "# Calculo do SQT\n",
        "# sqt_simples = ((tabela - media_geral) ** 2).sum().sum() esta é a forma mais simples (o duplo sum() é feito para somar nas linhas e nas colunas)\n",
        "sqt = (tabela ** 2).sum().sum() - ((tabela.sum().sum())**2)/(tabela.shape[0]*tabela.shape[1])\n",
        "sqt"
      ],
      "metadata": {
        "colab": {
          "base_uri": "https://localhost:8080/"
        },
        "id": "8aZ2ox2Ac-x7",
        "outputId": "feb5620a-1616-4b75-8f16-dfbe23d5a0db"
      },
      "execution_count": null,
      "outputs": [
        {
          "output_type": "execute_result",
          "data": {
            "text/plain": [
              "11011.733333333337"
            ]
          },
          "metadata": {},
          "execution_count": 122
        }
      ]
    },
    {
      "cell_type": "code",
      "source": [
        "# Calculo  SQC soma de quadrados das colunas\n",
        "total_col = 0\n",
        "for coluna in soma_colunas:\n",
        "  total_col += (coluna**2)/tabela.shape[0]\n",
        "\n",
        "print(total_col - ((tabela.sum().sum())**2)/(tabela.shape[0]*tabela.shape[1]))\n",
        "sqc = total_col - ((tabela.sum().sum())**2)/(tabela.shape[0]*tabela.shape[1])\n",
        "\n",
        "# Outra forma de calcular o SQC\n",
        "# sqc = ((tabela.mean(axis=0) - media_geral) ** 2).sum() * tabela.shape[0]\n"
      ],
      "metadata": {
        "colab": {
          "base_uri": "https://localhost:8080/"
        },
        "id": "h1nzalY7hSFf",
        "outputId": "c5b8f9bc-a7a2-40c4-d9d2-aacfc2be7916"
      },
      "execution_count": null,
      "outputs": [
        {
          "output_type": "stream",
          "name": "stdout",
          "text": [
            "136.93333333334886\n"
          ]
        }
      ]
    },
    {
      "cell_type": "code",
      "source": [
        "# Calculo do SQL\n",
        "total_linhas = 0\n",
        "for linha in soma_linhas:\n",
        "  total_linhas += (linha**2)/tabela.shape[1]\n",
        "\n",
        "print(total_linhas - ((tabela.sum().sum())**2)/(tabela.shape[0]*tabela.shape[1]))\n",
        "sql = total_linhas - ((tabela.sum().sum())**2)/(tabela.shape[0]*tabela.shape[1])\n",
        "# Outra forma de calcular o SQL\n",
        "# sql = ((tabela.mean(axis=1) - media_geral) ** 2).sum() * tabela.shape[1]\n"
      ],
      "metadata": {
        "colab": {
          "base_uri": "https://localhost:8080/"
        },
        "id": "_F3oTz5vk4FB",
        "outputId": "d6c777ac-c520-468f-8a05-744dc9b38cbf"
      },
      "execution_count": null,
      "outputs": [
        {
          "output_type": "stream",
          "name": "stdout",
          "text": [
            "10191.066666666651\n"
          ]
        }
      ]
    },
    {
      "cell_type": "code",
      "source": [
        "# Calcular a soma dos quadrados das interações (RESÍDUO - ERROR)\n",
        "sqr = sqt - sql - sqc\n",
        "sqr"
      ],
      "metadata": {
        "colab": {
          "base_uri": "https://localhost:8080/"
        },
        "id": "DesN7ZTloBc2",
        "outputId": "146cbc4b-42e7-4599-df13-f93f64b3fd86"
      },
      "execution_count": null,
      "outputs": [
        {
          "output_type": "execute_result",
          "data": {
            "text/plain": [
              "683.7333333333372"
            ]
          },
          "metadata": {},
          "execution_count": 125
        }
      ]
    },
    {
      "cell_type": "code",
      "source": [
        "linhas = tabela.shape[0]\n",
        "colunas = tabela.shape[1]\n",
        "# Calculo dos graus de liberdade\n",
        "\n",
        "# GLI (grau de liberdade das linhas)\n",
        "gli = linhas -1\n",
        "\n",
        "# GLC (grau de liberdade das colunas)\n",
        "glc = colunas -1\n",
        "\n",
        "# GLR (grau de liberdade Residual)\n",
        "glr = gli * glc"
      ],
      "metadata": {
        "id": "yJLfMaUyom19"
      },
      "execution_count": null,
      "outputs": []
    },
    {
      "cell_type": "code",
      "source": [
        "# Variancia ou quadrado Médio\n",
        "\n",
        "# MQL quadrado médio das linhas\n",
        "mql = sql/gli\n",
        "\n",
        "# MQC quadrado médio das colunas\n",
        "mqc = sqc/glc\n",
        "\n",
        "# MQR quadrado médio Residual\n",
        "mqr = sqr/glr"
      ],
      "metadata": {
        "id": "Eu24FGXAqLgS"
      },
      "execution_count": null,
      "outputs": []
    },
    {
      "cell_type": "code",
      "source": [
        "# Calculo das estatisticas F e P\n",
        "fl = mql/mqr\n",
        "fc = mqc/mqr\n",
        "\n",
        "p_value_l = 1 - stats.f.cdf(fl, gli, glr)\n",
        "p_value_c = 1 - stats.f.cdf(fc, glc, glr)\n",
        "p_value_c, p_value_l"
      ],
      "metadata": {
        "colab": {
          "base_uri": "https://localhost:8080/"
        },
        "id": "gXE9iBhLsSXB",
        "outputId": "1f7739ca-38b1-492e-c100-857b45af280c"
      },
      "execution_count": null,
      "outputs": [
        {
          "output_type": "execute_result",
          "data": {
            "text/plain": [
              "(0.48181446805890926, 7.420257968659971e-05)"
            ]
          },
          "metadata": {},
          "execution_count": 128
        }
      ]
    },
    {
      "cell_type": "code",
      "source": [
        "alpha = 0.05\n",
        "h0 = 'Reheitamos h0' if p_value_l > alpha or p_value_c > alpha else 'Aceitamos h0'\n",
        "h0"
      ],
      "metadata": {
        "colab": {
          "base_uri": "https://localhost:8080/",
          "height": 36
        },
        "id": "oQpZjHbH4XK_",
        "outputId": "b8e3bb2a-2978-4bff-e40a-1981ed0d39b4"
      },
      "execution_count": null,
      "outputs": [
        {
          "output_type": "execute_result",
          "data": {
            "text/plain": [
              "'Reheitamos h0'"
            ],
            "application/vnd.google.colaboratory.intrinsic+json": {
              "type": "string"
            }
          },
          "metadata": {},
          "execution_count": 129
        }
      ]
    },
    {
      "cell_type": "markdown",
      "source": [
        "**TESTE A/B**\n"
      ],
      "metadata": {
        "id": "UmFKL5j9IFFG"
      }
    },
    {
      "cell_type": "markdown",
      "source": [
        "Em resumo, o teste de hipótese é uma estrutura estatística geral para fazer inferências sobre uma população com base em uma amostra, enquanto o teste A/B é um tipo específico de experimento que usa a metodologia de teste de controle para comparar duas versões de algo e tomar decisões baseadas em dados sobre qual versão é melhor. O teste A/B é um exemplo prático de aplicação de conceitos de teste de hipótese em um contexto específico.\n",
        "\n",
        "https://www.youtube.com/watch?v=j9pnNCiQz3I&ab_channel=ComunidadeDS\n",
        "\n",
        "https://www.youtube.com/watch?v=mVud0XTe2vA&ab_channel=ComunidadeDS"
      ],
      "metadata": {
        "id": "xna6fvXcIRP-"
      }
    },
    {
      "cell_type": "code",
      "source": [
        "import scipy.stats as stats\n",
        "\n",
        "# Dados de exemplo para o grupo de controle e grupo de experimento (substitua pelos seus próprios dados)\n",
        "grupo_controle = [1, 2, 3, 4, 5, 6, 7, 8, 9, 10]  # Métrica do grupo de controle\n",
        "grupo_experimento = [2, 3, 4, 5, 6, 7, 8, 9, 10, 11]  # Métrica do grupo de experimento\n",
        "\n",
        "# Realize um teste t de duas amostras para determinar se há uma diferença significativa entre os grupos\n",
        "t_stat, p_valor = stats.ttest_ind(grupo_controle, grupo_experimento)\n",
        "\n",
        "# Compare o valor p com um limiar de significância (por exemplo, 0.05) para tomar uma decisão\n",
        "limiar_significancia = 0.05\n",
        "if p_valor < limiar_significancia:\n",
        "    print(\"Diferença estatisticamente significativa encontrada entre os grupos.\")\n",
        "else:\n",
        "    print(\"Não há diferença estatisticamente significativa entre os grupos.\")\n"
      ],
      "metadata": {
        "colab": {
          "base_uri": "https://localhost:8080/"
        },
        "id": "lxdX_Af4IH2-",
        "outputId": "a6c788dd-4517-4599-cfc4-af9d8bba3d2f"
      },
      "execution_count": null,
      "outputs": [
        {
          "output_type": "stream",
          "name": "stdout",
          "text": [
            "Não há diferença estatisticamente significativa entre os grupos.\n"
          ]
        }
      ]
    }
  ]
}